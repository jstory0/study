{
 "cells": [
  {
   "cell_type": "markdown",
   "id": "f10c9403",
   "metadata": {},
   "source": [
    "# 영화 관객수 예측\n",
    "\n",
    "**title** : 영화의 제목  \n",
    "\n",
    "**distributor** : 배급사  \n",
    "\n",
    "**genre** : 장르  \n",
    "\n",
    "**release_time** : 개봉일  \n",
    "\n",
    "**time** : 상영시간(분)  \n",
    "\n",
    "**screening_rat** : 상영등급  \n",
    "\n",
    "**director** : 감독이름  \n",
    "\n",
    "**dir_prev_bfnum** : 해당 감독이 이 영화를 만들기 전 제작에 참여한 영화에서의 평균 관객수  \n",
    "(단 관객수가 알려지지 않은 영화 제외)  \n",
    "\n",
    "**dir_prev_num** : 해당 감독이 이 영화를 만들기 전 제작에 참여한 영화의 개수  \n",
    "(단 관객수가 알려지지 않은 영화 제외)  \n",
    "\n",
    "**num_staff** : 스텝수  \n",
    "\n",
    "**num_actor** : 주연배우수  \n",
    "\n",
    "**box_off_num** : 관객수  \n"
   ]
  },
  {
   "cell_type": "markdown",
   "id": "250f5330",
   "metadata": {},
   "source": [
    "# 1. 라이브러리 및 데이터 불러오기"
   ]
  },
  {
   "cell_type": "code",
   "execution_count": 1,
   "id": "6d99d098",
   "metadata": {},
   "outputs": [],
   "source": [
    "import numpy as np\n",
    "import pandas as pd\n",
    "from sklearn.ensemble import RandomForestRegressor\n",
    "import matplotlib.pyplot as plt\n",
    "import seaborn as sns\n",
    "import lightgbm as lgb\n",
    "\n",
    "train = pd.read_csv('../data/movies_train.csv')\n",
    "test = pd.read_csv('../data/movies_test.csv')\n",
    "submission = pd.read_csv('../data/submission.csv')"
   ]
  },
  {
   "cell_type": "markdown",
   "id": "06fc830b",
   "metadata": {},
   "source": [
    "#### Light GBM\n",
    "LightGBM은 XGBoost와 함께 부스팅 계열 알고리즘에 각광받는 모델입니다.\n",
    "\n",
    "XGBoost의 경우도 물론 GBM 보다 학습속도가 빠르지만 GridSearchCH로 하이퍼 파라미터를 튜닝하기에는 매우 많은 시간이 걸린다는 단점이 존재합니다.\n",
    "\n",
    " \n",
    "LightGBM은 XGBoost와 비교해 큰 예측 성능 차이를 보이지 않으면서 학습 시간을 상당히 단축시킨 모델입니다.\n",
    "\n",
    " \n",
    "LightGBM은 이러한 장점을 가지고 있지만 공식 문서에 따르면 일반적으로 10,000 건 이하의 데이터 세트를 다루는 경우 과적합 문제가 발생하기 쉽다는 단점이 있습니다."
   ]
  },
  {
   "cell_type": "markdown",
   "id": "bc8fb72d",
   "metadata": {},
   "source": [
    "# 2. EDA"
   ]
  },
  {
   "cell_type": "code",
   "execution_count": 2,
   "id": "1c2f65a7",
   "metadata": {},
   "outputs": [
    {
     "name": "stdout",
     "output_type": "stream",
     "text": [
      "<class 'pandas.core.frame.DataFrame'>\n",
      "RangeIndex: 600 entries, 0 to 599\n",
      "Data columns (total 12 columns):\n",
      " #   Column          Non-Null Count  Dtype  \n",
      "---  ------          --------------  -----  \n",
      " 0   title           600 non-null    object \n",
      " 1   distributor     600 non-null    object \n",
      " 2   genre           600 non-null    object \n",
      " 3   release_time    600 non-null    object \n",
      " 4   time            600 non-null    int64  \n",
      " 5   screening_rat   600 non-null    object \n",
      " 6   director        600 non-null    object \n",
      " 7   dir_prev_bfnum  270 non-null    float64\n",
      " 8   dir_prev_num    600 non-null    int64  \n",
      " 9   num_staff       600 non-null    int64  \n",
      " 10  num_actor       600 non-null    int64  \n",
      " 11  box_off_num     600 non-null    int64  \n",
      "dtypes: float64(1), int64(5), object(6)\n",
      "memory usage: 56.4+ KB\n"
     ]
    }
   ],
   "source": [
    "train.info()\n",
    "\n",
    "# dir_prev_bfnum 컬럼에 결측치가 330개 있음을 알 수 있다."
   ]
  },
  {
   "cell_type": "code",
   "execution_count": 3,
   "id": "76a94b03",
   "metadata": {},
   "outputs": [
    {
     "name": "stdout",
     "output_type": "stream",
     "text": [
      "<class 'pandas.core.frame.DataFrame'>\n",
      "RangeIndex: 243 entries, 0 to 242\n",
      "Data columns (total 11 columns):\n",
      " #   Column          Non-Null Count  Dtype  \n",
      "---  ------          --------------  -----  \n",
      " 0   title           243 non-null    object \n",
      " 1   distributor     243 non-null    object \n",
      " 2   genre           243 non-null    object \n",
      " 3   release_time    243 non-null    object \n",
      " 4   time            243 non-null    int64  \n",
      " 5   screening_rat   243 non-null    object \n",
      " 6   director        243 non-null    object \n",
      " 7   dir_prev_bfnum  107 non-null    float64\n",
      " 8   dir_prev_num    243 non-null    int64  \n",
      " 9   num_staff       243 non-null    int64  \n",
      " 10  num_actor       243 non-null    int64  \n",
      "dtypes: float64(1), int64(4), object(6)\n",
      "memory usage: 21.0+ KB\n"
     ]
    }
   ],
   "source": [
    "test.info()\n",
    "\n",
    "# dir_prev_bfnum 컬럼에 결측치가 136개 있다."
   ]
  },
  {
   "cell_type": "code",
   "execution_count": 4,
   "id": "bb3606b7",
   "metadata": {},
   "outputs": [
    {
     "name": "stdout",
     "output_type": "stream",
     "text": [
      "<class 'pandas.core.frame.DataFrame'>\n",
      "RangeIndex: 243 entries, 0 to 242\n",
      "Data columns (total 2 columns):\n",
      " #   Column       Non-Null Count  Dtype \n",
      "---  ------       --------------  ----- \n",
      " 0   title        243 non-null    object\n",
      " 1   box_off_num  243 non-null    int64 \n",
      "dtypes: int64(1), object(1)\n",
      "memory usage: 3.9+ KB\n"
     ]
    }
   ],
   "source": [
    "submission.info()"
   ]
  },
  {
   "cell_type": "code",
   "execution_count": 5,
   "id": "4b686c3e",
   "metadata": {},
   "outputs": [
    {
     "data": {
      "text/html": [
       "<div>\n",
       "<style scoped>\n",
       "    .dataframe tbody tr th:only-of-type {\n",
       "        vertical-align: middle;\n",
       "    }\n",
       "\n",
       "    .dataframe tbody tr th {\n",
       "        vertical-align: top;\n",
       "    }\n",
       "\n",
       "    .dataframe thead th {\n",
       "        text-align: right;\n",
       "    }\n",
       "</style>\n",
       "<table border=\"1\" class=\"dataframe\">\n",
       "  <thead>\n",
       "    <tr style=\"text-align: right;\">\n",
       "      <th></th>\n",
       "      <th>title</th>\n",
       "      <th>distributor</th>\n",
       "      <th>genre</th>\n",
       "      <th>release_time</th>\n",
       "      <th>time</th>\n",
       "      <th>screening_rat</th>\n",
       "      <th>director</th>\n",
       "      <th>dir_prev_bfnum</th>\n",
       "      <th>dir_prev_num</th>\n",
       "      <th>num_staff</th>\n",
       "      <th>num_actor</th>\n",
       "      <th>box_off_num</th>\n",
       "    </tr>\n",
       "  </thead>\n",
       "  <tbody>\n",
       "    <tr>\n",
       "      <th>0</th>\n",
       "      <td>개들의 전쟁</td>\n",
       "      <td>롯데엔터테인먼트</td>\n",
       "      <td>액션</td>\n",
       "      <td>2012-11-22</td>\n",
       "      <td>96</td>\n",
       "      <td>청소년 관람불가</td>\n",
       "      <td>조병옥</td>\n",
       "      <td>NaN</td>\n",
       "      <td>0</td>\n",
       "      <td>91</td>\n",
       "      <td>2</td>\n",
       "      <td>23398</td>\n",
       "    </tr>\n",
       "    <tr>\n",
       "      <th>1</th>\n",
       "      <td>내부자들</td>\n",
       "      <td>(주)쇼박스</td>\n",
       "      <td>느와르</td>\n",
       "      <td>2015-11-19</td>\n",
       "      <td>130</td>\n",
       "      <td>청소년 관람불가</td>\n",
       "      <td>우민호</td>\n",
       "      <td>1161602.50</td>\n",
       "      <td>2</td>\n",
       "      <td>387</td>\n",
       "      <td>3</td>\n",
       "      <td>7072501</td>\n",
       "    </tr>\n",
       "    <tr>\n",
       "      <th>2</th>\n",
       "      <td>은밀하게 위대하게</td>\n",
       "      <td>(주)쇼박스</td>\n",
       "      <td>액션</td>\n",
       "      <td>2013-06-05</td>\n",
       "      <td>123</td>\n",
       "      <td>15세 관람가</td>\n",
       "      <td>장철수</td>\n",
       "      <td>220775.25</td>\n",
       "      <td>4</td>\n",
       "      <td>343</td>\n",
       "      <td>4</td>\n",
       "      <td>6959083</td>\n",
       "    </tr>\n",
       "    <tr>\n",
       "      <th>3</th>\n",
       "      <td>나는 공무원이다</td>\n",
       "      <td>(주)NEW</td>\n",
       "      <td>코미디</td>\n",
       "      <td>2012-07-12</td>\n",
       "      <td>101</td>\n",
       "      <td>전체 관람가</td>\n",
       "      <td>구자홍</td>\n",
       "      <td>23894.00</td>\n",
       "      <td>2</td>\n",
       "      <td>20</td>\n",
       "      <td>6</td>\n",
       "      <td>217866</td>\n",
       "    </tr>\n",
       "    <tr>\n",
       "      <th>4</th>\n",
       "      <td>불량남녀</td>\n",
       "      <td>쇼박스(주)미디어플렉스</td>\n",
       "      <td>코미디</td>\n",
       "      <td>2010-11-04</td>\n",
       "      <td>108</td>\n",
       "      <td>15세 관람가</td>\n",
       "      <td>신근호</td>\n",
       "      <td>1.00</td>\n",
       "      <td>1</td>\n",
       "      <td>251</td>\n",
       "      <td>2</td>\n",
       "      <td>483387</td>\n",
       "    </tr>\n",
       "  </tbody>\n",
       "</table>\n",
       "</div>"
      ],
      "text/plain": [
       "       title   distributor genre release_time  time screening_rat director  \\\n",
       "0     개들의 전쟁      롯데엔터테인먼트    액션   2012-11-22    96      청소년 관람불가      조병옥   \n",
       "1       내부자들        (주)쇼박스   느와르   2015-11-19   130      청소년 관람불가      우민호   \n",
       "2  은밀하게 위대하게        (주)쇼박스    액션   2013-06-05   123       15세 관람가      장철수   \n",
       "3   나는 공무원이다        (주)NEW   코미디   2012-07-12   101        전체 관람가      구자홍   \n",
       "4       불량남녀  쇼박스(주)미디어플렉스   코미디   2010-11-04   108       15세 관람가      신근호   \n",
       "\n",
       "   dir_prev_bfnum  dir_prev_num  num_staff  num_actor  box_off_num  \n",
       "0             NaN             0         91          2        23398  \n",
       "1      1161602.50             2        387          3      7072501  \n",
       "2       220775.25             4        343          4      6959083  \n",
       "3        23894.00             2         20          6       217866  \n",
       "4            1.00             1        251          2       483387  "
      ]
     },
     "execution_count": 5,
     "metadata": {},
     "output_type": "execute_result"
    }
   ],
   "source": [
    "train.head()\n",
    "\n",
    "# 장르들이 하나씩 나뉘어져 있다!"
   ]
  },
  {
   "cell_type": "code",
   "execution_count": 6,
   "id": "677ba22b",
   "metadata": {
    "scrolled": false
   },
   "outputs": [
    {
     "data": {
      "text/html": [
       "<div>\n",
       "<style scoped>\n",
       "    .dataframe tbody tr th:only-of-type {\n",
       "        vertical-align: middle;\n",
       "    }\n",
       "\n",
       "    .dataframe tbody tr th {\n",
       "        vertical-align: top;\n",
       "    }\n",
       "\n",
       "    .dataframe thead th {\n",
       "        text-align: right;\n",
       "    }\n",
       "</style>\n",
       "<table border=\"1\" class=\"dataframe\">\n",
       "  <thead>\n",
       "    <tr style=\"text-align: right;\">\n",
       "      <th></th>\n",
       "      <th>title</th>\n",
       "      <th>distributor</th>\n",
       "      <th>genre</th>\n",
       "      <th>release_time</th>\n",
       "      <th>time</th>\n",
       "      <th>screening_rat</th>\n",
       "      <th>director</th>\n",
       "      <th>dir_prev_bfnum</th>\n",
       "      <th>dir_prev_num</th>\n",
       "      <th>num_staff</th>\n",
       "      <th>num_actor</th>\n",
       "    </tr>\n",
       "  </thead>\n",
       "  <tbody>\n",
       "    <tr>\n",
       "      <th>0</th>\n",
       "      <td>용서는 없다</td>\n",
       "      <td>시네마서비스</td>\n",
       "      <td>느와르</td>\n",
       "      <td>2010-01-07</td>\n",
       "      <td>125</td>\n",
       "      <td>청소년 관람불가</td>\n",
       "      <td>김형준</td>\n",
       "      <td>300529.00000</td>\n",
       "      <td>2</td>\n",
       "      <td>304</td>\n",
       "      <td>3</td>\n",
       "    </tr>\n",
       "    <tr>\n",
       "      <th>1</th>\n",
       "      <td>아빠가 여자를 좋아해</td>\n",
       "      <td>(주)쇼박스</td>\n",
       "      <td>멜로/로맨스</td>\n",
       "      <td>2010-01-14</td>\n",
       "      <td>113</td>\n",
       "      <td>12세 관람가</td>\n",
       "      <td>이광재</td>\n",
       "      <td>342700.25000</td>\n",
       "      <td>4</td>\n",
       "      <td>275</td>\n",
       "      <td>3</td>\n",
       "    </tr>\n",
       "    <tr>\n",
       "      <th>2</th>\n",
       "      <td>하모니</td>\n",
       "      <td>CJ 엔터테인먼트</td>\n",
       "      <td>드라마</td>\n",
       "      <td>2010-01-28</td>\n",
       "      <td>115</td>\n",
       "      <td>12세 관람가</td>\n",
       "      <td>강대규</td>\n",
       "      <td>4206610.66667</td>\n",
       "      <td>3</td>\n",
       "      <td>419</td>\n",
       "      <td>7</td>\n",
       "    </tr>\n",
       "    <tr>\n",
       "      <th>3</th>\n",
       "      <td>의형제</td>\n",
       "      <td>(주)쇼박스</td>\n",
       "      <td>액션</td>\n",
       "      <td>2010-02-04</td>\n",
       "      <td>116</td>\n",
       "      <td>15세 관람가</td>\n",
       "      <td>장훈</td>\n",
       "      <td>691342.00000</td>\n",
       "      <td>2</td>\n",
       "      <td>408</td>\n",
       "      <td>2</td>\n",
       "    </tr>\n",
       "    <tr>\n",
       "      <th>4</th>\n",
       "      <td>평행 이론</td>\n",
       "      <td>CJ 엔터테인먼트</td>\n",
       "      <td>공포</td>\n",
       "      <td>2010-02-18</td>\n",
       "      <td>110</td>\n",
       "      <td>15세 관람가</td>\n",
       "      <td>권호영</td>\n",
       "      <td>31738.00000</td>\n",
       "      <td>1</td>\n",
       "      <td>380</td>\n",
       "      <td>1</td>\n",
       "    </tr>\n",
       "  </tbody>\n",
       "</table>\n",
       "</div>"
      ],
      "text/plain": [
       "         title distributor   genre release_time  time screening_rat director  \\\n",
       "0       용서는 없다      시네마서비스     느와르   2010-01-07   125      청소년 관람불가      김형준   \n",
       "1  아빠가 여자를 좋아해      (주)쇼박스  멜로/로맨스   2010-01-14   113       12세 관람가      이광재   \n",
       "2          하모니   CJ 엔터테인먼트     드라마   2010-01-28   115       12세 관람가      강대규   \n",
       "3          의형제      (주)쇼박스      액션   2010-02-04   116       15세 관람가       장훈   \n",
       "4        평행 이론   CJ 엔터테인먼트      공포   2010-02-18   110       15세 관람가      권호영   \n",
       "\n",
       "   dir_prev_bfnum  dir_prev_num  num_staff  num_actor  \n",
       "0    300529.00000             2        304          3  \n",
       "1    342700.25000             4        275          3  \n",
       "2   4206610.66667             3        419          7  \n",
       "3    691342.00000             2        408          2  \n",
       "4     31738.00000             1        380          1  "
      ]
     },
     "execution_count": 6,
     "metadata": {},
     "output_type": "execute_result"
    }
   ],
   "source": [
    "pd.options.display.float_format = '{:.5f}'.format\n",
    "# 숫자들이 지수표현식으로 나오는 게 싫어서 지수표현식을 제거했다.\n",
    "\n",
    "test.head()"
   ]
  },
  {
   "cell_type": "code",
   "execution_count": 7,
   "id": "b72ef615",
   "metadata": {},
   "outputs": [
    {
     "data": {
      "text/html": [
       "<div>\n",
       "<style scoped>\n",
       "    .dataframe tbody tr th:only-of-type {\n",
       "        vertical-align: middle;\n",
       "    }\n",
       "\n",
       "    .dataframe tbody tr th {\n",
       "        vertical-align: top;\n",
       "    }\n",
       "\n",
       "    .dataframe thead th {\n",
       "        text-align: right;\n",
       "    }\n",
       "</style>\n",
       "<table border=\"1\" class=\"dataframe\">\n",
       "  <thead>\n",
       "    <tr style=\"text-align: right;\">\n",
       "      <th></th>\n",
       "      <th>title</th>\n",
       "      <th>box_off_num</th>\n",
       "    </tr>\n",
       "  </thead>\n",
       "  <tbody>\n",
       "    <tr>\n",
       "      <th>0</th>\n",
       "      <td>용서는 없다</td>\n",
       "      <td>0</td>\n",
       "    </tr>\n",
       "    <tr>\n",
       "      <th>1</th>\n",
       "      <td>아빠가 여자를 좋아해</td>\n",
       "      <td>0</td>\n",
       "    </tr>\n",
       "    <tr>\n",
       "      <th>2</th>\n",
       "      <td>하모니</td>\n",
       "      <td>0</td>\n",
       "    </tr>\n",
       "    <tr>\n",
       "      <th>3</th>\n",
       "      <td>의형제</td>\n",
       "      <td>0</td>\n",
       "    </tr>\n",
       "    <tr>\n",
       "      <th>4</th>\n",
       "      <td>평행 이론</td>\n",
       "      <td>0</td>\n",
       "    </tr>\n",
       "  </tbody>\n",
       "</table>\n",
       "</div>"
      ],
      "text/plain": [
       "         title  box_off_num\n",
       "0       용서는 없다            0\n",
       "1  아빠가 여자를 좋아해            0\n",
       "2          하모니            0\n",
       "3          의형제            0\n",
       "4        평행 이론            0"
      ]
     },
     "execution_count": 7,
     "metadata": {},
     "output_type": "execute_result"
    }
   ],
   "source": [
    "submission.head()"
   ]
  },
  {
   "cell_type": "code",
   "execution_count": 8,
   "id": "bec76fe9",
   "metadata": {
    "scrolled": true
   },
   "outputs": [
    {
     "name": "stdout",
     "output_type": "stream",
     "text": [
      "(600, 12)\n",
      "(243, 11)\n",
      "(243, 2)\n"
     ]
    }
   ],
   "source": [
    "print(train.shape)\n",
    "print(test.shape)\n",
    "print(submission.shape)"
   ]
  },
  {
   "cell_type": "markdown",
   "id": "683e4721",
   "metadata": {},
   "source": [
    "### 수치변수들 통계량 확인"
   ]
  },
  {
   "cell_type": "code",
   "execution_count": 9,
   "id": "92934a43",
   "metadata": {},
   "outputs": [
    {
     "data": {
      "text/html": [
       "<div>\n",
       "<style scoped>\n",
       "    .dataframe tbody tr th:only-of-type {\n",
       "        vertical-align: middle;\n",
       "    }\n",
       "\n",
       "    .dataframe tbody tr th {\n",
       "        vertical-align: top;\n",
       "    }\n",
       "\n",
       "    .dataframe thead th {\n",
       "        text-align: right;\n",
       "    }\n",
       "</style>\n",
       "<table border=\"1\" class=\"dataframe\">\n",
       "  <thead>\n",
       "    <tr style=\"text-align: right;\">\n",
       "      <th></th>\n",
       "      <th>count</th>\n",
       "      <th>mean</th>\n",
       "      <th>std</th>\n",
       "      <th>min</th>\n",
       "      <th>25%</th>\n",
       "      <th>50%</th>\n",
       "      <th>75%</th>\n",
       "      <th>max</th>\n",
       "    </tr>\n",
       "  </thead>\n",
       "  <tbody>\n",
       "    <tr>\n",
       "      <th>time</th>\n",
       "      <td>600.00000</td>\n",
       "      <td>100.86333</td>\n",
       "      <td>18.09753</td>\n",
       "      <td>45.00000</td>\n",
       "      <td>89.00000</td>\n",
       "      <td>100.00000</td>\n",
       "      <td>114.00000</td>\n",
       "      <td>180.00000</td>\n",
       "    </tr>\n",
       "    <tr>\n",
       "      <th>dir_prev_bfnum</th>\n",
       "      <td>270.00000</td>\n",
       "      <td>1050442.89142</td>\n",
       "      <td>1791408.30346</td>\n",
       "      <td>1.00000</td>\n",
       "      <td>20380.00000</td>\n",
       "      <td>478423.62500</td>\n",
       "      <td>1286568.62500</td>\n",
       "      <td>17615314.00000</td>\n",
       "    </tr>\n",
       "    <tr>\n",
       "      <th>dir_prev_num</th>\n",
       "      <td>600.00000</td>\n",
       "      <td>0.87667</td>\n",
       "      <td>1.18341</td>\n",
       "      <td>0.00000</td>\n",
       "      <td>0.00000</td>\n",
       "      <td>0.00000</td>\n",
       "      <td>2.00000</td>\n",
       "      <td>5.00000</td>\n",
       "    </tr>\n",
       "    <tr>\n",
       "      <th>num_staff</th>\n",
       "      <td>600.00000</td>\n",
       "      <td>151.11833</td>\n",
       "      <td>165.65467</td>\n",
       "      <td>0.00000</td>\n",
       "      <td>17.00000</td>\n",
       "      <td>82.50000</td>\n",
       "      <td>264.00000</td>\n",
       "      <td>869.00000</td>\n",
       "    </tr>\n",
       "    <tr>\n",
       "      <th>num_actor</th>\n",
       "      <td>600.00000</td>\n",
       "      <td>3.70667</td>\n",
       "      <td>2.44689</td>\n",
       "      <td>0.00000</td>\n",
       "      <td>2.00000</td>\n",
       "      <td>3.00000</td>\n",
       "      <td>4.00000</td>\n",
       "      <td>25.00000</td>\n",
       "    </tr>\n",
       "    <tr>\n",
       "      <th>box_off_num</th>\n",
       "      <td>600.00000</td>\n",
       "      <td>708181.75167</td>\n",
       "      <td>1828005.85114</td>\n",
       "      <td>1.00000</td>\n",
       "      <td>1297.25000</td>\n",
       "      <td>12591.00000</td>\n",
       "      <td>479886.75000</td>\n",
       "      <td>14262766.00000</td>\n",
       "    </tr>\n",
       "  </tbody>\n",
       "</table>\n",
       "</div>"
      ],
      "text/plain": [
       "                   count          mean           std      min         25%  \\\n",
       "time           600.00000     100.86333      18.09753 45.00000    89.00000   \n",
       "dir_prev_bfnum 270.00000 1050442.89142 1791408.30346  1.00000 20380.00000   \n",
       "dir_prev_num   600.00000       0.87667       1.18341  0.00000     0.00000   \n",
       "num_staff      600.00000     151.11833     165.65467  0.00000    17.00000   \n",
       "num_actor      600.00000       3.70667       2.44689  0.00000     2.00000   \n",
       "box_off_num    600.00000  708181.75167 1828005.85114  1.00000  1297.25000   \n",
       "\n",
       "                        50%           75%            max  \n",
       "time              100.00000     114.00000      180.00000  \n",
       "dir_prev_bfnum 478423.62500 1286568.62500 17615314.00000  \n",
       "dir_prev_num        0.00000       2.00000        5.00000  \n",
       "num_staff          82.50000     264.00000      869.00000  \n",
       "num_actor           3.00000       4.00000       25.00000  \n",
       "box_off_num     12591.00000  479886.75000 14262766.00000  "
      ]
     },
     "execution_count": 9,
     "metadata": {},
     "output_type": "execute_result"
    }
   ],
   "source": [
    "train.describe().T\n",
    "# .T 속성은 DataFrame에서 index와 column을 바꾼 형태의 DataFrame이다."
   ]
  },
  {
   "cell_type": "code",
   "execution_count": 10,
   "id": "a9bfeaea",
   "metadata": {},
   "outputs": [
    {
     "data": {
      "text/html": [
       "<div>\n",
       "<style scoped>\n",
       "    .dataframe tbody tr th:only-of-type {\n",
       "        vertical-align: middle;\n",
       "    }\n",
       "\n",
       "    .dataframe tbody tr th {\n",
       "        vertical-align: top;\n",
       "    }\n",
       "\n",
       "    .dataframe thead th {\n",
       "        text-align: right;\n",
       "    }\n",
       "</style>\n",
       "<table border=\"1\" class=\"dataframe\">\n",
       "  <thead>\n",
       "    <tr style=\"text-align: right;\">\n",
       "      <th></th>\n",
       "      <th>count</th>\n",
       "      <th>mean</th>\n",
       "      <th>std</th>\n",
       "      <th>min</th>\n",
       "      <th>25%</th>\n",
       "      <th>50%</th>\n",
       "      <th>75%</th>\n",
       "      <th>max</th>\n",
       "    </tr>\n",
       "  </thead>\n",
       "  <tbody>\n",
       "    <tr>\n",
       "      <th>time</th>\n",
       "      <td>243.00000</td>\n",
       "      <td>109.79835</td>\n",
       "      <td>124.02271</td>\n",
       "      <td>40.00000</td>\n",
       "      <td>91.00000</td>\n",
       "      <td>104.00000</td>\n",
       "      <td>114.50000</td>\n",
       "      <td>2015.00000</td>\n",
       "    </tr>\n",
       "    <tr>\n",
       "      <th>dir_prev_bfnum</th>\n",
       "      <td>107.00000</td>\n",
       "      <td>891669.51604</td>\n",
       "      <td>1217341.45457</td>\n",
       "      <td>34.00000</td>\n",
       "      <td>62502.00000</td>\n",
       "      <td>493120.00000</td>\n",
       "      <td>1080849.58333</td>\n",
       "      <td>6173099.50000</td>\n",
       "    </tr>\n",
       "    <tr>\n",
       "      <th>dir_prev_num</th>\n",
       "      <td>243.00000</td>\n",
       "      <td>0.85185</td>\n",
       "      <td>1.20032</td>\n",
       "      <td>0.00000</td>\n",
       "      <td>0.00000</td>\n",
       "      <td>0.00000</td>\n",
       "      <td>1.00000</td>\n",
       "      <td>6.00000</td>\n",
       "    </tr>\n",
       "    <tr>\n",
       "      <th>num_staff</th>\n",
       "      <td>243.00000</td>\n",
       "      <td>159.31687</td>\n",
       "      <td>162.97661</td>\n",
       "      <td>0.00000</td>\n",
       "      <td>18.00000</td>\n",
       "      <td>105.00000</td>\n",
       "      <td>282.00000</td>\n",
       "      <td>776.00000</td>\n",
       "    </tr>\n",
       "    <tr>\n",
       "      <th>num_actor</th>\n",
       "      <td>243.00000</td>\n",
       "      <td>3.47737</td>\n",
       "      <td>2.11119</td>\n",
       "      <td>0.00000</td>\n",
       "      <td>2.00000</td>\n",
       "      <td>3.00000</td>\n",
       "      <td>4.00000</td>\n",
       "      <td>16.00000</td>\n",
       "    </tr>\n",
       "  </tbody>\n",
       "</table>\n",
       "</div>"
      ],
      "text/plain": [
       "                   count         mean           std      min         25%  \\\n",
       "time           243.00000    109.79835     124.02271 40.00000    91.00000   \n",
       "dir_prev_bfnum 107.00000 891669.51604 1217341.45457 34.00000 62502.00000   \n",
       "dir_prev_num   243.00000      0.85185       1.20032  0.00000     0.00000   \n",
       "num_staff      243.00000    159.31687     162.97661  0.00000    18.00000   \n",
       "num_actor      243.00000      3.47737       2.11119  0.00000     2.00000   \n",
       "\n",
       "                        50%           75%           max  \n",
       "time              104.00000     114.50000    2015.00000  \n",
       "dir_prev_bfnum 493120.00000 1080849.58333 6173099.50000  \n",
       "dir_prev_num        0.00000       1.00000       6.00000  \n",
       "num_staff         105.00000     282.00000     776.00000  \n",
       "num_actor           3.00000       4.00000      16.00000  "
      ]
     },
     "execution_count": 10,
     "metadata": {},
     "output_type": "execute_result"
    }
   ],
   "source": [
    "test.describe().T"
   ]
  },
  {
   "cell_type": "markdown",
   "id": "184e1f29",
   "metadata": {},
   "source": [
    "### 장르별 관객 수\n",
    "장르별로 그룹을 잡아 관객 수의 평균을 구하고 오름차순 정렬한다."
   ]
  },
  {
   "cell_type": "code",
   "execution_count": 11,
   "id": "67eabf91",
   "metadata": {},
   "outputs": [
    {
     "data": {
      "text/html": [
       "<div>\n",
       "<style scoped>\n",
       "    .dataframe tbody tr th:only-of-type {\n",
       "        vertical-align: middle;\n",
       "    }\n",
       "\n",
       "    .dataframe tbody tr th {\n",
       "        vertical-align: top;\n",
       "    }\n",
       "\n",
       "    .dataframe thead th {\n",
       "        text-align: right;\n",
       "    }\n",
       "</style>\n",
       "<table border=\"1\" class=\"dataframe\">\n",
       "  <thead>\n",
       "    <tr style=\"text-align: right;\">\n",
       "      <th></th>\n",
       "      <th>box_off_num</th>\n",
       "    </tr>\n",
       "    <tr>\n",
       "      <th>genre</th>\n",
       "      <th></th>\n",
       "    </tr>\n",
       "  </thead>\n",
       "  <tbody>\n",
       "    <tr>\n",
       "      <th>뮤지컬</th>\n",
       "      <td>6627.00000</td>\n",
       "    </tr>\n",
       "    <tr>\n",
       "      <th>다큐멘터리</th>\n",
       "      <td>67172.25806</td>\n",
       "    </tr>\n",
       "    <tr>\n",
       "      <th>서스펜스</th>\n",
       "      <td>82611.00000</td>\n",
       "    </tr>\n",
       "    <tr>\n",
       "      <th>애니메이션</th>\n",
       "      <td>181926.66667</td>\n",
       "    </tr>\n",
       "    <tr>\n",
       "      <th>멜로/로맨스</th>\n",
       "      <td>425968.03846</td>\n",
       "    </tr>\n",
       "    <tr>\n",
       "      <th>미스터리</th>\n",
       "      <td>527548.17647</td>\n",
       "    </tr>\n",
       "    <tr>\n",
       "      <th>공포</th>\n",
       "      <td>590832.52381</td>\n",
       "    </tr>\n",
       "    <tr>\n",
       "      <th>드라마</th>\n",
       "      <td>625689.79186</td>\n",
       "    </tr>\n",
       "    <tr>\n",
       "      <th>코미디</th>\n",
       "      <td>1193914.00000</td>\n",
       "    </tr>\n",
       "    <tr>\n",
       "      <th>SF</th>\n",
       "      <td>1788345.69231</td>\n",
       "    </tr>\n",
       "    <tr>\n",
       "      <th>액션</th>\n",
       "      <td>2203974.07143</td>\n",
       "    </tr>\n",
       "    <tr>\n",
       "      <th>느와르</th>\n",
       "      <td>2263695.11111</td>\n",
       "    </tr>\n",
       "  </tbody>\n",
       "</table>\n",
       "</div>"
      ],
      "text/plain": [
       "         box_off_num\n",
       "genre               \n",
       "뮤지컬       6627.00000\n",
       "다큐멘터리    67172.25806\n",
       "서스펜스     82611.00000\n",
       "애니메이션   181926.66667\n",
       "멜로/로맨스  425968.03846\n",
       "미스터리    527548.17647\n",
       "공포      590832.52381\n",
       "드라마     625689.79186\n",
       "코미디    1193914.00000\n",
       "SF     1788345.69231\n",
       "액션     2203974.07143\n",
       "느와르    2263695.11111"
      ]
     },
     "execution_count": 11,
     "metadata": {},
     "output_type": "execute_result"
    }
   ],
   "source": [
    "train[['genre', 'box_off_num']].groupby('genre').mean().sort_values('box_off_num')"
   ]
  },
  {
   "cell_type": "markdown",
   "id": "b8da847c",
   "metadata": {},
   "source": [
    "### 데이터 상관관계 확인\n",
    "- 상관계수: 두 개의 변수가 같이 일어나는 강도를 나타내는 수치\n",
    "- -1에서 1 사이의 값을 지닌다.\n",
    "- -1이나 1인 수치는 현실 세계에서 관측되기 힘든 수치이다.\n",
    "- 분야별로 기준을 정하는 것에 따라 달라지겠지만, 보통 0.4 이상이면 두 개의 변수간에 상관성이 있다고 얘기한다."
   ]
  },
  {
   "cell_type": "code",
   "execution_count": 12,
   "id": "b6fd3b7f",
   "metadata": {},
   "outputs": [],
   "source": [
    "# 설정 초기화\n",
    "pd.reset_option('display.float_format')"
   ]
  },
  {
   "cell_type": "code",
   "execution_count": 13,
   "id": "a7a5a63c",
   "metadata": {},
   "outputs": [
    {
     "data": {
      "text/html": [
       "<div>\n",
       "<style scoped>\n",
       "    .dataframe tbody tr th:only-of-type {\n",
       "        vertical-align: middle;\n",
       "    }\n",
       "\n",
       "    .dataframe tbody tr th {\n",
       "        vertical-align: top;\n",
       "    }\n",
       "\n",
       "    .dataframe thead th {\n",
       "        text-align: right;\n",
       "    }\n",
       "</style>\n",
       "<table border=\"1\" class=\"dataframe\">\n",
       "  <thead>\n",
       "    <tr style=\"text-align: right;\">\n",
       "      <th></th>\n",
       "      <th>time</th>\n",
       "      <th>dir_prev_bfnum</th>\n",
       "      <th>dir_prev_num</th>\n",
       "      <th>num_staff</th>\n",
       "      <th>num_actor</th>\n",
       "      <th>box_off_num</th>\n",
       "    </tr>\n",
       "  </thead>\n",
       "  <tbody>\n",
       "    <tr>\n",
       "      <th>time</th>\n",
       "      <td>1.000000</td>\n",
       "      <td>0.264675</td>\n",
       "      <td>0.306727</td>\n",
       "      <td>0.623205</td>\n",
       "      <td>0.114153</td>\n",
       "      <td>0.441452</td>\n",
       "    </tr>\n",
       "    <tr>\n",
       "      <th>dir_prev_bfnum</th>\n",
       "      <td>0.264675</td>\n",
       "      <td>1.000000</td>\n",
       "      <td>0.131822</td>\n",
       "      <td>0.323521</td>\n",
       "      <td>0.083818</td>\n",
       "      <td>0.283184</td>\n",
       "    </tr>\n",
       "    <tr>\n",
       "      <th>dir_prev_num</th>\n",
       "      <td>0.306727</td>\n",
       "      <td>0.131822</td>\n",
       "      <td>1.000000</td>\n",
       "      <td>0.450706</td>\n",
       "      <td>0.014006</td>\n",
       "      <td>0.259674</td>\n",
       "    </tr>\n",
       "    <tr>\n",
       "      <th>num_staff</th>\n",
       "      <td>0.623205</td>\n",
       "      <td>0.323521</td>\n",
       "      <td>0.450706</td>\n",
       "      <td>1.000000</td>\n",
       "      <td>0.077871</td>\n",
       "      <td>0.544265</td>\n",
       "    </tr>\n",
       "    <tr>\n",
       "      <th>num_actor</th>\n",
       "      <td>0.114153</td>\n",
       "      <td>0.083818</td>\n",
       "      <td>0.014006</td>\n",
       "      <td>0.077871</td>\n",
       "      <td>1.000000</td>\n",
       "      <td>0.111179</td>\n",
       "    </tr>\n",
       "    <tr>\n",
       "      <th>box_off_num</th>\n",
       "      <td>0.441452</td>\n",
       "      <td>0.283184</td>\n",
       "      <td>0.259674</td>\n",
       "      <td>0.544265</td>\n",
       "      <td>0.111179</td>\n",
       "      <td>1.000000</td>\n",
       "    </tr>\n",
       "  </tbody>\n",
       "</table>\n",
       "</div>"
      ],
      "text/plain": [
       "                    time  dir_prev_bfnum  dir_prev_num  num_staff  num_actor  \\\n",
       "time            1.000000        0.264675      0.306727   0.623205   0.114153   \n",
       "dir_prev_bfnum  0.264675        1.000000      0.131822   0.323521   0.083818   \n",
       "dir_prev_num    0.306727        0.131822      1.000000   0.450706   0.014006   \n",
       "num_staff       0.623205        0.323521      0.450706   1.000000   0.077871   \n",
       "num_actor       0.114153        0.083818      0.014006   0.077871   1.000000   \n",
       "box_off_num     0.441452        0.283184      0.259674   0.544265   0.111179   \n",
       "\n",
       "                box_off_num  \n",
       "time               0.441452  \n",
       "dir_prev_bfnum     0.283184  \n",
       "dir_prev_num       0.259674  \n",
       "num_staff          0.544265  \n",
       "num_actor          0.111179  \n",
       "box_off_num        1.000000  "
      ]
     },
     "execution_count": 13,
     "metadata": {},
     "output_type": "execute_result"
    }
   ],
   "source": [
    "train.corr()\n",
    "# 상관계수 숫자로 보기"
   ]
  },
  {
   "cell_type": "code",
   "execution_count": 14,
   "id": "fa044411",
   "metadata": {},
   "outputs": [
    {
     "data": {
      "text/plain": [
       "<AxesSubplot:>"
      ]
     },
     "execution_count": 14,
     "metadata": {},
     "output_type": "execute_result"
    },
    {
     "data": {
      "image/png": "[encoded data removed]",
      "text/plain": [
       "<Figure size 432x288 with 2 Axes>"
      ]
     },
     "metadata": {
      "needs_background": "light"
     },
     "output_type": "display_data"
    }
   ],
   "source": [
    "# 상관계수 히트맵으로 보기\n",
    "sns.heatmap(train.corr(), vmin=-1, vmax=+1, annot=True, cmap='coolwarm')\n",
    "\n",
    "# 왜인지는 모르겠으나 영화 제목과 스텝 수가 가장 높은 양의 상관관계를 이룬다.\n",
    "# 스텝수와 관객 수가 두번째로 높은 양의 상관관계를 이룬다.\n",
    "# 스텝수가 많으면 스케일이 큰 영화라서 그런가..?\n",
    "\n",
    "# 주연배우 수는 영화 관객수나 다른 컬럼에도 영향을 주지 못하는 것으로 보인다."
   ]
  },
  {
   "cell_type": "code",
   "execution_count": 15,
   "id": "255f5ed1",
   "metadata": {},
   "outputs": [
    {
     "data": {
      "image/png": "[encoded data removed]",
      "text/plain": [
       "<Figure size 1440x1080 with 6 Axes>"
      ]
     },
     "metadata": {
      "needs_background": "light"
     },
     "output_type": "display_data"
    }
   ],
   "source": [
    "%matplotlib inline\n",
    "\n",
    "train.hist(bins = 50, figsize = (20, 15))\n",
    "plt.show()\n",
    "\n",
    "# 오른쪽으로 꼬리가 긴 분포를 가진 변수에는 log 변환이 필요하다고 한다."
   ]
  },
  {
   "cell_type": "code",
   "execution_count": 16,
   "id": "5dbe1ad9",
   "metadata": {},
   "outputs": [
    {
     "name": "stdout",
     "output_type": "stream",
     "text": [
      "count    2.700000e+02\n",
      "mean     1.050443e+06\n",
      "std      1.791408e+06\n",
      "min      1.000000e+00\n",
      "25%      2.038000e+04\n",
      "50%      4.784236e+05\n",
      "75%      1.286569e+06\n",
      "max      1.761531e+07\n",
      "Name: dir_prev_bfnum, dtype: float64\n",
      "count    600.000000\n",
      "mean       0.876667\n",
      "std        1.183409\n",
      "min        0.000000\n",
      "25%        0.000000\n",
      "50%        0.000000\n",
      "75%        2.000000\n",
      "max        5.000000\n",
      "Name: dir_prev_num, dtype: float64\n"
     ]
    }
   ],
   "source": [
    "print(train['dir_prev_bfnum'].describe())\n",
    "print(train['dir_prev_num'].describe())"
   ]
  },
  {
   "cell_type": "code",
   "execution_count": 17,
   "id": "e69470f7",
   "metadata": {},
   "outputs": [
    {
     "data": {
      "image/png": "[encoded data removed]",
      "text/plain": [
       "<Figure size 720x720 with 6 Axes>"
      ]
     },
     "metadata": {
      "needs_background": "light"
     },
     "output_type": "display_data"
    }
   ],
   "source": [
    "feature = ['time', 'dir_prev_bfnum', 'dir_prev_num', 'num_staff', 'num_actor', 'box_off_num']\n",
    "\n",
    "plt.figure(figsize=(10,10))\n",
    "plt.suptitle(\"Boxplots\", fontsize=40)\n",
    "\n",
    "for i in range(len(feature)):\n",
    "    plt.subplot(2,3,i+1)\n",
    "    plt.title(feature[i])\n",
    "    plt.boxplot(train[feature[i]])\n",
    "plt.show()"
   ]
  },
  {
   "cell_type": "markdown",
   "id": "bf9c54cc",
   "metadata": {},
   "source": [
    "# 3. 전처리"
   ]
  },
  {
   "cell_type": "code",
   "execution_count": 18,
   "id": "f4b4daf4",
   "metadata": {
    "scrolled": true
   },
   "outputs": [
    {
     "data": {
      "text/plain": [
       "title             0.00\n",
       "distributor       0.00\n",
       "genre             0.00\n",
       "release_time      0.00\n",
       "time              0.00\n",
       "screening_rat     0.00\n",
       "director          0.00\n",
       "dir_prev_bfnum    0.55\n",
       "dir_prev_num      0.00\n",
       "num_staff         0.00\n",
       "num_actor         0.00\n",
       "box_off_num       0.00\n",
       "dtype: float64"
      ]
     },
     "execution_count": 18,
     "metadata": {},
     "output_type": "execute_result"
    }
   ],
   "source": [
    "# 결측치 확인 (전체의 몇 %인지)\n",
    "train.isna().sum() / 600"
   ]
  },
  {
   "cell_type": "code",
   "execution_count": 19,
   "id": "610b7560",
   "metadata": {},
   "outputs": [
    {
     "data": {
      "text/plain": [
       "0"
      ]
     },
     "execution_count": 19,
     "metadata": {},
     "output_type": "execute_result"
    }
   ],
   "source": [
    "# 'dir_prev_bfnum' 컬럼과 'dir_prev_num' 컬럼은 서로 연관이 크다고 생각\n",
    "# 전에 제작했던 영화가 없으면 전에 제작했던 영화들의 평균 평점값이 0이기 때문\n",
    "\n",
    "# 관객수가 알려지지 않은 영화라서 집계가 안되었을 수도 있다.\n",
    "# dir_prev_num : 해당 감독이 이 영화를 만들기 전 제작에 참여한 영화의 개수\n",
    "#                (단 관객수가 알려지지 않은 영화 제외)\n",
    "\n",
    "train[train['dir_prev_bfnum'].isna()]['dir_prev_num'].sum()   # 0\n",
    "\n",
    "# 심플하게 'dir_prev_bfnum'이 결측치들은 모두 0이라고 보자."
   ]
  },
  {
   "cell_type": "markdown",
   "id": "84a865b4",
   "metadata": {},
   "source": [
    "### 결측치 처리"
   ]
  },
  {
   "cell_type": "code",
   "execution_count": 20,
   "id": "251700bd",
   "metadata": {},
   "outputs": [],
   "source": [
    "# 'dir_prev_bfnum' 컬럼의 결측치를 모두 0으로 채워준다.\n",
    "train['dir_prev_bfnum'].fillna(0, inplace = True)"
   ]
  },
  {
   "cell_type": "code",
   "execution_count": 21,
   "id": "15193d5f",
   "metadata": {},
   "outputs": [
    {
     "data": {
      "text/plain": [
       "title             0\n",
       "distributor       0\n",
       "genre             0\n",
       "release_time      0\n",
       "time              0\n",
       "screening_rat     0\n",
       "director          0\n",
       "dir_prev_bfnum    0\n",
       "dir_prev_num      0\n",
       "num_staff         0\n",
       "num_actor         0\n",
       "box_off_num       0\n",
       "dtype: int64"
      ]
     },
     "execution_count": 21,
     "metadata": {},
     "output_type": "execute_result"
    }
   ],
   "source": [
    "train.isna().sum()"
   ]
  },
  {
   "cell_type": "code",
   "execution_count": 22,
   "id": "3ed801e5",
   "metadata": {},
   "outputs": [
    {
     "data": {
      "text/plain": [
       "0"
      ]
     },
     "execution_count": 22,
     "metadata": {},
     "output_type": "execute_result"
    }
   ],
   "source": [
    "# test dataset에서도 'dir_prev_bfnum' 값이 결측치인 데이터들은\n",
    "# 'dir_prev_num' 값도 0으로 나온다.\n",
    "test[test['dir_prev_bfnum'].isna()]['dir_prev_num'].sum()"
   ]
  },
  {
   "cell_type": "code",
   "execution_count": 23,
   "id": "57c6e9af",
   "metadata": {
    "scrolled": true
   },
   "outputs": [
    {
     "data": {
      "text/plain": [
       "title               0\n",
       "distributor         0\n",
       "genre               0\n",
       "release_time        0\n",
       "time                0\n",
       "screening_rat       0\n",
       "director            0\n",
       "dir_prev_bfnum    136\n",
       "dir_prev_num        0\n",
       "num_staff           0\n",
       "num_actor           0\n",
       "dtype: int64"
      ]
     },
     "execution_count": 23,
     "metadata": {},
     "output_type": "execute_result"
    }
   ],
   "source": [
    "# train과 마찬가지로 'dir_prev_bfnum' 컬럼에 결측치 확인\n",
    "test.isna().sum()   # 136"
   ]
  },
  {
   "cell_type": "code",
   "execution_count": 24,
   "id": "f4ebe3d7",
   "metadata": {},
   "outputs": [],
   "source": [
    "test['dir_prev_bfnum'].fillna(0, inplace = True)"
   ]
  },
  {
   "cell_type": "code",
   "execution_count": 25,
   "id": "23e3945c",
   "metadata": {},
   "outputs": [
    {
     "data": {
      "text/plain": [
       "title             0\n",
       "distributor       0\n",
       "genre             0\n",
       "release_time      0\n",
       "time              0\n",
       "screening_rat     0\n",
       "director          0\n",
       "dir_prev_bfnum    0\n",
       "dir_prev_num      0\n",
       "num_staff         0\n",
       "num_actor         0\n",
       "dtype: int64"
      ]
     },
     "execution_count": 25,
     "metadata": {},
     "output_type": "execute_result"
    }
   ],
   "source": [
    "test.isna().sum()"
   ]
  },
  {
   "cell_type": "markdown",
   "id": "1d4db3c1",
   "metadata": {},
   "source": [
    "### 배급사 전처리"
   ]
  },
  {
   "cell_type": "code",
   "execution_count": 26,
   "id": "bdf4dfce",
   "metadata": {
    "scrolled": true
   },
   "outputs": [
    {
     "data": {
      "text/plain": [
       "array(['롯데엔터테인먼트', '(주)쇼박스', '(주)NEW', '쇼박스(주)미디어플렉스', '백두대간',\n",
       "       '유니버설픽쳐스인터내셔널코리아', '(주)두타연', '(주) 케이알씨지', '(주)콘텐츠 윙', '(주)키노아이',\n",
       "       '(주)팝 파트너스', 'CJ E&M 영화부문', '(주) 영화제작전원사', 'CJ E&M Pictures',\n",
       "       'CGV 무비꼴라쥬', '리틀빅픽처스', '스폰지', 'CJ 엔터테인먼트', 'CGV아트하우스', '조이앤시네마',\n",
       "       '인디플러그', '콘텐츠판다', '인디스토리', '(주)팝엔터테인먼트', '시네마서비스', '웃기씨네',\n",
       "       '영화사 진진', '(주)레인보우 팩토리', '김기덕 필름', 'NEW', 'CJ CGV',\n",
       "       '동국대학교 충무로영상제작센터', 'BoXoo 엔터테인먼트', '(주)마운틴픽쳐스', 'CGV 아트하우스',\n",
       "       '메가박스(주)플러스엠', '골든타이드픽처스', '파이오니아21', '디 씨드', '드림팩트 엔터테인먼트', '시너지',\n",
       "       '디마엔터테인먼트', '판다미디어', '(주)스톰픽쳐스코리아', '(주)예지림 엔터테인먼트', '(주) 영화사조제',\n",
       "       '보람엔터테인먼트', '(주)시네마달', '노바엔터테인먼트', '(주)패스파인더씨앤씨', '(주)대명문화공장',\n",
       "       '(주)온비즈넷', 'KT&G 상상마당', '무비꼴라쥬', '인벤트 디', '씨네그루(주)키다리이엔티',\n",
       "       '스튜디오후크', '시네마 달', '나이너스엔터테인먼트(주)', 'THE 픽쳐스', '영구아트무비', '리틀빅픽쳐스',\n",
       "       '어뮤즈', '이모션 픽처스', '(주)이스트스카이필름', '필라멘트 픽쳐스', '조이앤컨텐츠그룹', '타임스토리그룹',\n",
       "       '마운틴 픽처스', '(주)휘엔터테인먼트', '이십세기폭스코리아(주)', '(주)피터팬픽쳐스', '에스와이코마드',\n",
       "       '(주)더픽쳐스', '오퍼스픽쳐스', '(주)고앤고 필름', '사람과 사람들', '(주)JK필름',\n",
       "       '씨너스엔터테인먼트(주)', 'KT', '싸이더스FNH', '(주)프레인글로벌', '나우콘텐츠', '홀리가든',\n",
       "       '(주) 브릿지웍스', '(주)엣나인필름', '위더스필름', '시네마달', '(주)에이원 엔터테인먼트',\n",
       "       'OAL(올)', '싸이더스', '전망좋은영화사', '스토리셋', '이상우필름', '씨네굿필름', '영희야놀자',\n",
       "       '찬란', '어썸 피플', '아방가르드 필름', '스크린조이', '와이드릴리즈(주)', 'tvN',\n",
       "       '(주) 액티버스엔터테인먼트', '더픽쳐스/(주)마운틴픽쳐스', '제나두 엔터테인먼트', '(주)아이필름코퍼레이션',\n",
       "       '쟈비스미디어', '트리필름', '에스피엠', '(주)리틀빅픽처스', '건시네마', '키노엔터테인먼트',\n",
       "       '(주)아우라픽처스', '에이블엔터테인먼트', '드림로드', '인피니티엔터테인먼트', '새인컴퍼니',\n",
       "       '스튜디오 느림보', '와이드 릴리즈(주)', '필름라인', 'M2픽처스', '고구마공작소', '(주)미디어데이',\n",
       "       '마노엔터테인먼트', '화앤담이엔티', '(주)스마일이엔티', '(주)패뷸러스', '싸이더스 FNH', '영화사 조아',\n",
       "       '판씨네마(주)', '두 엔터테인먼트', '(주)마인스 엔터테인먼트', '전주국제영화제', '(주)마인스엔터테인먼트',\n",
       "       '상구네 필름', '케이엠스타', '(주)유비네트워크', '한국YWCA연합회', 'KBS미디어(주)', '더 피플',\n",
       "       '위드시네마', '팜코리아미디어', '(주)씨엠닉스', 'SBS콘텐츠허브', '인터콘미디어', '(주)유비콘텐츠',\n",
       "       '프로젝트 엠피', '하준사', '(주)노버스엔터테인먼트', '주머니필름', '롤러코스터 프로덕션', 'SK플래닛',\n",
       "       '서울독립영화제', '스튜디오 블루', '(주)랠리버튼', '(주)드림팩트엔터테인먼트', '에이원 엔터테인먼트',\n",
       "       '머스트 씨 무비', 'SK텔레콤(주)', '마법사필름', '스폰지이엔티', '(주)로드하우스', '미라클 필름',\n",
       "       '프리비젼 엔터테인먼트', '영화사 廊', '크리에이티브컴즈(주)', 'ysfilm', '이달투', '퍼스트런'],\n",
       "      dtype=object)"
      ]
     },
     "execution_count": 26,
     "metadata": {},
     "output_type": "execute_result"
    }
   ],
   "source": [
    "train['distributor'].unique()"
   ]
  },
  {
   "cell_type": "code",
   "execution_count": 27,
   "id": "f6688549",
   "metadata": {},
   "outputs": [
    {
     "name": "stderr",
     "output_type": "stream",
     "text": [
      "C:\\Users\\Public\\Documents\\ESTsoft\\CreatorTemp\\ipykernel_68700\\1710428581.py:3: FutureWarning: The default value of regex will change from True to False in a future version.\n",
      "  train['distributor'] = train.distributor.str.replace('(주)','')\n",
      "C:\\Users\\Public\\Documents\\ESTsoft\\CreatorTemp\\ipykernel_68700\\1710428581.py:4: FutureWarning: The default value of regex will change from True to False in a future version.\n",
      "  test['distributor'] = test.distributor.str.replace('(주)','')\n"
     ]
    }
   ],
   "source": [
    "# 배급사에서 '(주)' 가 들어가 있으면 제거\n",
    "\n",
    "train['distributor'] = train.distributor.str.replace('(주)','')\n",
    "test['distributor'] = test.distributor.str.replace('(주)','')"
   ]
  },
  {
   "cell_type": "code",
   "execution_count": 28,
   "id": "f0c9d280",
   "metadata": {
    "scrolled": true
   },
   "outputs": [
    {
     "data": {
      "text/html": [
       "<div>\n",
       "<style scoped>\n",
       "    .dataframe tbody tr th:only-of-type {\n",
       "        vertical-align: middle;\n",
       "    }\n",
       "\n",
       "    .dataframe tbody tr th {\n",
       "        vertical-align: top;\n",
       "    }\n",
       "\n",
       "    .dataframe thead th {\n",
       "        text-align: right;\n",
       "    }\n",
       "</style>\n",
       "<table border=\"1\" class=\"dataframe\">\n",
       "  <thead>\n",
       "    <tr style=\"text-align: right;\">\n",
       "      <th></th>\n",
       "      <th>title</th>\n",
       "      <th>distributor</th>\n",
       "      <th>genre</th>\n",
       "      <th>release_time</th>\n",
       "      <th>time</th>\n",
       "      <th>screening_rat</th>\n",
       "      <th>director</th>\n",
       "      <th>dir_prev_bfnum</th>\n",
       "      <th>dir_prev_num</th>\n",
       "      <th>num_staff</th>\n",
       "      <th>num_actor</th>\n",
       "      <th>box_off_num</th>\n",
       "    </tr>\n",
       "  </thead>\n",
       "  <tbody>\n",
       "    <tr>\n",
       "      <th>0</th>\n",
       "      <td>개들의 전쟁</td>\n",
       "      <td>롯데엔터테인먼트</td>\n",
       "      <td>액션</td>\n",
       "      <td>2012-11-22</td>\n",
       "      <td>96</td>\n",
       "      <td>청소년 관람불가</td>\n",
       "      <td>조병옥</td>\n",
       "      <td>0.00</td>\n",
       "      <td>0</td>\n",
       "      <td>91</td>\n",
       "      <td>2</td>\n",
       "      <td>23398</td>\n",
       "    </tr>\n",
       "    <tr>\n",
       "      <th>1</th>\n",
       "      <td>내부자들</td>\n",
       "      <td>()쇼박스</td>\n",
       "      <td>느와르</td>\n",
       "      <td>2015-11-19</td>\n",
       "      <td>130</td>\n",
       "      <td>청소년 관람불가</td>\n",
       "      <td>우민호</td>\n",
       "      <td>1161602.50</td>\n",
       "      <td>2</td>\n",
       "      <td>387</td>\n",
       "      <td>3</td>\n",
       "      <td>7072501</td>\n",
       "    </tr>\n",
       "    <tr>\n",
       "      <th>2</th>\n",
       "      <td>은밀하게 위대하게</td>\n",
       "      <td>()쇼박스</td>\n",
       "      <td>액션</td>\n",
       "      <td>2013-06-05</td>\n",
       "      <td>123</td>\n",
       "      <td>15세 관람가</td>\n",
       "      <td>장철수</td>\n",
       "      <td>220775.25</td>\n",
       "      <td>4</td>\n",
       "      <td>343</td>\n",
       "      <td>4</td>\n",
       "      <td>6959083</td>\n",
       "    </tr>\n",
       "    <tr>\n",
       "      <th>3</th>\n",
       "      <td>나는 공무원이다</td>\n",
       "      <td>()NEW</td>\n",
       "      <td>코미디</td>\n",
       "      <td>2012-07-12</td>\n",
       "      <td>101</td>\n",
       "      <td>전체 관람가</td>\n",
       "      <td>구자홍</td>\n",
       "      <td>23894.00</td>\n",
       "      <td>2</td>\n",
       "      <td>20</td>\n",
       "      <td>6</td>\n",
       "      <td>217866</td>\n",
       "    </tr>\n",
       "    <tr>\n",
       "      <th>4</th>\n",
       "      <td>불량남녀</td>\n",
       "      <td>쇼박스()미디어플렉스</td>\n",
       "      <td>코미디</td>\n",
       "      <td>2010-11-04</td>\n",
       "      <td>108</td>\n",
       "      <td>15세 관람가</td>\n",
       "      <td>신근호</td>\n",
       "      <td>1.00</td>\n",
       "      <td>1</td>\n",
       "      <td>251</td>\n",
       "      <td>2</td>\n",
       "      <td>483387</td>\n",
       "    </tr>\n",
       "  </tbody>\n",
       "</table>\n",
       "</div>"
      ],
      "text/plain": [
       "       title  distributor genre release_time  time screening_rat director  \\\n",
       "0     개들의 전쟁     롯데엔터테인먼트    액션   2012-11-22    96      청소년 관람불가      조병옥   \n",
       "1       내부자들        ()쇼박스   느와르   2015-11-19   130      청소년 관람불가      우민호   \n",
       "2  은밀하게 위대하게        ()쇼박스    액션   2013-06-05   123       15세 관람가      장철수   \n",
       "3   나는 공무원이다        ()NEW   코미디   2012-07-12   101        전체 관람가      구자홍   \n",
       "4       불량남녀  쇼박스()미디어플렉스   코미디   2010-11-04   108       15세 관람가      신근호   \n",
       "\n",
       "   dir_prev_bfnum  dir_prev_num  num_staff  num_actor  box_off_num  \n",
       "0            0.00             0         91          2        23398  \n",
       "1      1161602.50             2        387          3      7072501  \n",
       "2       220775.25             4        343          4      6959083  \n",
       "3        23894.00             2         20          6       217866  \n",
       "4            1.00             1        251          2       483387  "
      ]
     },
     "execution_count": 28,
     "metadata": {},
     "output_type": "execute_result"
    }
   ],
   "source": [
    "train.head()   # '(주)'에서  '주' 만 제거됨 ㅋㅋ"
   ]
  },
  {
   "cell_type": "code",
   "execution_count": 29,
   "id": "c62b1697",
   "metadata": {},
   "outputs": [],
   "source": [
    "# 배급사에서 특수문자 제거\n",
    "# ^ 기호는 [] 범위 안에서 not을 나타낸다.\n",
    "# 숫자, 알파벳, 한글 제외하고 나머지 제거\n",
    "\n",
    "import re\n",
    "\n",
    "train['distributor'] = [re.sub(r'[^0-9a-zA-Z가-힣]', '', x) for x in train.distributor]\n",
    "test['distributor'] = [re.sub(r'[^0-9a-zA-Z가-힣]', '', x) for x in test.distributor]"
   ]
  },
  {
   "cell_type": "code",
   "execution_count": 30,
   "id": "807174d0",
   "metadata": {
    "scrolled": true
   },
   "outputs": [
    {
     "data": {
      "text/plain": [
       "array(['롯데엔터테인먼트', '쇼박스', 'NEW', '쇼박스미디어플렉스', '백두대간', '유니버설픽쳐스인터내셔널코리아',\n",
       "       '두타연', '케이알씨지', '콘텐츠윙', '키노아이', '팝파트너스', 'CJEM영화부문', '영화제작전원사',\n",
       "       'CJEMPictures', 'CGV무비꼴라쥬', '리틀빅픽처스', '스폰지', 'CJ엔터테인먼트',\n",
       "       'CGV아트하우스', '조이앤시네마', '인디플러그', '콘텐츠판다', '인디스토리', '팝엔터테인먼트',\n",
       "       '시네마서비스', '웃기씨네', '영화사진진', '레인보우팩토리', '김기덕필름', 'CJCGV',\n",
       "       '동국대학교충무로영상제작센터', 'BoXoo엔터테인먼트', '마운틴픽쳐스', '메가박스플러스엠', '골든타이드픽처스',\n",
       "       '파이오니아21', '디씨드', '드림팩트엔터테인먼트', '시너지', '디마엔터테인먼트', '판다미디어',\n",
       "       '스톰픽쳐스코리아', '예지림엔터테인먼트', '영화사조제', '보람엔터테인먼트', '시네마달', '노바엔터테인먼트',\n",
       "       '패스파인더씨앤씨', '대명문화공장', '온비즈넷', 'KTG상상마당', '무비꼴라쥬', '인벤트디',\n",
       "       '씨네그루키다리이엔티', '스튜디오후크', '나이너스엔터테인먼트', 'THE픽쳐스', '영구아트무비', '리틀빅픽쳐스',\n",
       "       '어뮤즈', '이모션픽처스', '이스트스카이필름', '필라멘트픽쳐스', '조이앤컨텐츠그룹', '타임스토리그룹',\n",
       "       '마운틴픽처스', '휘엔터테인먼트', '이십세기폭스코리아', '피터팬픽쳐스', '에스와이코마드', '더픽쳐스',\n",
       "       '오퍼스픽쳐스', '고앤고필름', '사람과사람들', 'JK필름', '씨너스엔터테인먼트', 'KT', '싸이더스FNH',\n",
       "       '프레인글로벌', '나우콘텐츠', '홀리가든', '브릿지웍스', '엣나인필름', '위더스필름', '에이원엔터테인먼트',\n",
       "       'OAL올', '싸이더스', '전망좋은영화사', '스토리셋', '이상우필름', '씨네굿필름', '영희야놀자', '찬란',\n",
       "       '어썸피플', '아방가르드필름', '스크린조이', '와이드릴리즈', 'tvN', '액티버스엔터테인먼트',\n",
       "       '더픽쳐스마운틴픽쳐스', '제나두엔터테인먼트', '아이필름코퍼레이션', '쟈비스미디어', '트리필름', '에스피엠',\n",
       "       '건시네마', '키노엔터테인먼트', '아우라픽처스', '에이블엔터테인먼트', '드림로드', '인피니티엔터테인먼트',\n",
       "       '새인컴퍼니', '스튜디오느림보', '필름라인', 'M2픽처스', '고구마공작소', '미디어데이', '마노엔터테인먼트',\n",
       "       '화앤담이엔티', '스마일이엔티', '패뷸러스', '영화사조아', '판씨네마', '두엔터테인먼트',\n",
       "       '마인스엔터테인먼트', '전국제영화제', '상구네필름', '케이엠스타', '유비네트워크', '한국YWCA연합회',\n",
       "       'KBS미디어', '더피플', '위드시네마', '팜코리아미디어', '씨엠닉스', 'SBS콘텐츠허브', '인터콘미디어',\n",
       "       '유비콘텐츠', '프로젝트엠피', '하준사', '노버스엔터테인먼트', '머니필름', '롤러코스터프로덕션',\n",
       "       'SK플래닛', '서울독립영화제', '스튜디오블루', '랠리버튼', '머스트씨무비', 'SK텔레콤', '마법사필름',\n",
       "       '스폰지이엔티', '로드하우스', '미라클필름', '프리비젼엔터테인먼트', '영화사', '크리에이티브컴즈',\n",
       "       'ysfilm', '이달투', '퍼스트런'], dtype=object)"
      ]
     },
     "execution_count": 30,
     "metadata": {},
     "output_type": "execute_result"
    }
   ],
   "source": [
    "train['distributor'].unique()   # 깔끔해짐"
   ]
  },
  {
   "cell_type": "code",
   "execution_count": 31,
   "id": "ac8b342f",
   "metadata": {},
   "outputs": [],
   "source": [
    "# 배급사를 그룹별로 나누고 이름을 간단하게 바꾸는 함수 생성\n",
    "\n",
    "def get_dis(x) :\n",
    "    if 'CJ' in x or 'CGV' in x :\n",
    "        return 'CJ'\n",
    "    elif '쇼박스' in x :\n",
    "        return '쇼박스'\n",
    "    elif 'SK' in x :\n",
    "        return 'SK'\n",
    "    elif '리틀빅픽' in x :\n",
    "        return '리틀빅픽처스'\n",
    "    elif '스폰지' in x :\n",
    "        return '스폰지'\n",
    "    elif '싸이더스' in x :\n",
    "        return '싸이더스'\n",
    "    elif '에이원' in x :\n",
    "        return '에이원'\n",
    "    elif '마인스' in x :\n",
    "        return '마인스'\n",
    "    elif '마운틴픽' in x :\n",
    "        return '마운틴픽처스'\n",
    "    elif '디씨드' in x :\n",
    "        return '디씨드'\n",
    "    elif '드림팩트' in x :\n",
    "        return '드림팩트'\n",
    "    elif '메가박스' in x :\n",
    "        return '메가박스'\n",
    "    elif '마운틴' in x :\n",
    "        return '마운틴'\n",
    "    else :\n",
    "        return x"
   ]
  },
  {
   "cell_type": "code",
   "execution_count": 32,
   "id": "86589dd1",
   "metadata": {},
   "outputs": [],
   "source": [
    "# train, test 데이터셋에 함수 적용\n",
    "\n",
    "train['distributor'] = train.distributor.apply(get_dis)\n",
    "test['distributor'] = test.distributor.apply(get_dis)"
   ]
  },
  {
   "cell_type": "code",
   "execution_count": 33,
   "id": "7460f0d8",
   "metadata": {
    "scrolled": true
   },
   "outputs": [
    {
     "data": {
      "text/plain": [
       "array(['롯데엔터테인먼트', '쇼박스', 'NEW', '백두대간', '유니버설픽쳐스인터내셔널코리아', '두타연',\n",
       "       '케이알씨지', '콘텐츠윙', '키노아이', '팝파트너스', 'CJ', '영화제작전원사', '리틀빅픽처스', '스폰지',\n",
       "       '조이앤시네마', '인디플러그', '콘텐츠판다', '인디스토리', '팝엔터테인먼트', '시네마서비스', '웃기씨네',\n",
       "       '영화사진진', '레인보우팩토리', '김기덕필름', '동국대학교충무로영상제작센터', 'BoXoo엔터테인먼트',\n",
       "       '마운틴픽처스', '메가박스', '골든타이드픽처스', '파이오니아21', '디씨드', '드림팩트', '시너지',\n",
       "       '디마엔터테인먼트', '판다미디어', '스톰픽쳐스코리아', '예지림엔터테인먼트', '영화사조제', '보람엔터테인먼트',\n",
       "       '시네마달', '노바엔터테인먼트', '패스파인더씨앤씨', '대명문화공장', '온비즈넷', 'KTG상상마당',\n",
       "       '무비꼴라쥬', '인벤트디', '씨네그루키다리이엔티', '스튜디오후크', '나이너스엔터테인먼트', 'THE픽쳐스',\n",
       "       '영구아트무비', '어뮤즈', '이모션픽처스', '이스트스카이필름', '필라멘트픽쳐스', '조이앤컨텐츠그룹',\n",
       "       '타임스토리그룹', '휘엔터테인먼트', '이십세기폭스코리아', '피터팬픽쳐스', '에스와이코마드', '더픽쳐스',\n",
       "       '오퍼스픽쳐스', '고앤고필름', '사람과사람들', 'JK필름', '씨너스엔터테인먼트', 'KT', '싸이더스',\n",
       "       '프레인글로벌', '나우콘텐츠', '홀리가든', '브릿지웍스', '엣나인필름', '위더스필름', '에이원',\n",
       "       'OAL올', '전망좋은영화사', '스토리셋', '이상우필름', '씨네굿필름', '영희야놀자', '찬란', '어썸피플',\n",
       "       '아방가르드필름', '스크린조이', '와이드릴리즈', 'tvN', '액티버스엔터테인먼트', '제나두엔터테인먼트',\n",
       "       '아이필름코퍼레이션', '쟈비스미디어', '트리필름', '에스피엠', '건시네마', '키노엔터테인먼트',\n",
       "       '아우라픽처스', '에이블엔터테인먼트', '드림로드', '인피니티엔터테인먼트', '새인컴퍼니', '스튜디오느림보',\n",
       "       '필름라인', 'M2픽처스', '고구마공작소', '미디어데이', '마노엔터테인먼트', '화앤담이엔티', '스마일이엔티',\n",
       "       '패뷸러스', '영화사조아', '판씨네마', '두엔터테인먼트', '마인스', '전국제영화제', '상구네필름',\n",
       "       '케이엠스타', '유비네트워크', '한국YWCA연합회', 'KBS미디어', '더피플', '위드시네마',\n",
       "       '팜코리아미디어', '씨엠닉스', 'SBS콘텐츠허브', '인터콘미디어', '유비콘텐츠', '프로젝트엠피', '하준사',\n",
       "       '노버스엔터테인먼트', '머니필름', '롤러코스터프로덕션', 'SK', '서울독립영화제', '스튜디오블루',\n",
       "       '랠리버튼', '머스트씨무비', '마법사필름', '로드하우스', '미라클필름', '프리비젼엔터테인먼트', '영화사',\n",
       "       '크리에이티브컴즈', 'ysfilm', '이달투', '퍼스트런'], dtype=object)"
      ]
     },
     "execution_count": 33,
     "metadata": {},
     "output_type": "execute_result"
    }
   ],
   "source": [
    "train['distributor'].unique()"
   ]
  },
  {
   "cell_type": "markdown",
   "id": "d953a166",
   "metadata": {},
   "source": [
    "### 장르별 영화 관객수 평균 값으로 랭크 인코딩"
   ]
  },
  {
   "cell_type": "code",
   "execution_count": 34,
   "id": "c3c9fca1",
   "metadata": {},
   "outputs": [
    {
     "data": {
      "text/plain": [
       "genre\n",
       "뮤지컬       6.627000e+03\n",
       "다큐멘터리     6.717226e+04\n",
       "서스펜스      8.261100e+04\n",
       "애니메이션     1.819267e+05\n",
       "멜로/로맨스    4.259680e+05\n",
       "미스터리      5.275482e+05\n",
       "공포        5.908325e+05\n",
       "드라마       6.256898e+05\n",
       "코미디       1.193914e+06\n",
       "SF        1.788346e+06\n",
       "액션        2.203974e+06\n",
       "느와르       2.263695e+06\n",
       "Name: box_off_num, dtype: float64"
      ]
     },
     "execution_count": 34,
     "metadata": {},
     "output_type": "execute_result"
    }
   ],
   "source": [
    "# 장르별 영화 관객수 평균 값 확인\n",
    "\n",
    "train.groupby('genre').box_off_num.mean().sort_values()"
   ]
  },
  {
   "cell_type": "code",
   "execution_count": 35,
   "id": "5f232d14",
   "metadata": {},
   "outputs": [],
   "source": [
    "# 관객수 평균 값으로 랭크 인코딩\n",
    "\n",
    "train['genre_rank'] = train.genre.map({'뮤지컬' : 1, '다큐멘터리' : 2, '서스펜스' : 3, '애니메이션' : 4, '멜로/로맨스' : 5,\n",
    "                                      '미스터리' : 6, '공포' : 7, '드라마' : 8, '코미디' : 9, 'SF' : 10, '액션' : 11, '느와르' : 12})\n",
    "test['genre_rank'] = test.genre.map({'뮤지컬' : 1, '다큐멘터리' : 2, '서스펜스' : 3, '애니메이션' : 4, '멜로/로맨스' : 5,\n",
    "                                      '미스터리' : 6, '공포' : 7, '드라마' : 8, '코미디' : 9, 'SF' : 10, '액션' : 11, '느와르' : 12})"
   ]
  },
  {
   "cell_type": "markdown",
   "id": "592fa441",
   "metadata": {},
   "source": [
    "### 배급사별 영화 관객수 중위값 기준으로 배급사 랭크 인코딩"
   ]
  },
  {
   "cell_type": "code",
   "execution_count": 36,
   "id": "67dff0f4",
   "metadata": {},
   "outputs": [
    {
     "data": {
      "text/html": [
       "<div>\n",
       "<style scoped>\n",
       "    .dataframe tbody tr th:only-of-type {\n",
       "        vertical-align: middle;\n",
       "    }\n",
       "\n",
       "    .dataframe tbody tr th {\n",
       "        vertical-align: top;\n",
       "    }\n",
       "\n",
       "    .dataframe thead th {\n",
       "        text-align: right;\n",
       "    }\n",
       "</style>\n",
       "<table border=\"1\" class=\"dataframe\">\n",
       "  <thead>\n",
       "    <tr style=\"text-align: right;\">\n",
       "      <th></th>\n",
       "      <th>distributor</th>\n",
       "      <th>num_rank</th>\n",
       "    </tr>\n",
       "  </thead>\n",
       "  <tbody>\n",
       "    <tr>\n",
       "      <th>110</th>\n",
       "      <td>인피니티엔터테인먼트</td>\n",
       "      <td>2.0</td>\n",
       "    </tr>\n",
       "    <tr>\n",
       "      <th>15</th>\n",
       "      <td>고구마공작소</td>\n",
       "      <td>8.0</td>\n",
       "    </tr>\n",
       "    <tr>\n",
       "      <th>52</th>\n",
       "      <td>사람과사람들</td>\n",
       "      <td>42.0</td>\n",
       "    </tr>\n",
       "    <tr>\n",
       "      <th>97</th>\n",
       "      <td>위드시네마</td>\n",
       "      <td>46.0</td>\n",
       "    </tr>\n",
       "    <tr>\n",
       "      <th>19</th>\n",
       "      <td>나우콘텐츠</td>\n",
       "      <td>54.0</td>\n",
       "    </tr>\n",
       "    <tr>\n",
       "      <th>...</th>\n",
       "      <td>...</td>\n",
       "      <td>...</td>\n",
       "    </tr>\n",
       "    <tr>\n",
       "      <th>113</th>\n",
       "      <td>전망좋은영화사</td>\n",
       "      <td>1214237.0</td>\n",
       "    </tr>\n",
       "    <tr>\n",
       "      <th>105</th>\n",
       "      <td>이십세기폭스코리아</td>\n",
       "      <td>1422844.0</td>\n",
       "    </tr>\n",
       "    <tr>\n",
       "      <th>56</th>\n",
       "      <td>쇼박스</td>\n",
       "      <td>2138560.0</td>\n",
       "    </tr>\n",
       "    <tr>\n",
       "      <th>84</th>\n",
       "      <td>영구아트무비</td>\n",
       "      <td>2541603.0</td>\n",
       "    </tr>\n",
       "    <tr>\n",
       "      <th>75</th>\n",
       "      <td>아이필름코퍼레이션</td>\n",
       "      <td>3117859.0</td>\n",
       "    </tr>\n",
       "  </tbody>\n",
       "</table>\n",
       "<p>147 rows × 2 columns</p>\n",
       "</div>"
      ],
      "text/plain": [
       "    distributor   num_rank\n",
       "110  인피니티엔터테인먼트        2.0\n",
       "15       고구마공작소        8.0\n",
       "52       사람과사람들       42.0\n",
       "97        위드시네마       46.0\n",
       "19        나우콘텐츠       54.0\n",
       "..          ...        ...\n",
       "113     전망좋은영화사  1214237.0\n",
       "105   이십세기폭스코리아  1422844.0\n",
       "56          쇼박스  2138560.0\n",
       "84       영구아트무비  2541603.0\n",
       "75    아이필름코퍼레이션  3117859.0\n",
       "\n",
       "[147 rows x 2 columns]"
      ]
     },
     "execution_count": 36,
     "metadata": {},
     "output_type": "execute_result"
    }
   ],
   "source": [
    "# 배급사별로 그룹 잡고 관객수 중위 값을 새로운 컬럼으로 만들고\n",
    "# 그 컬럼 값을 기준으로 정렬\n",
    "\n",
    "tr_nm_rank = train.groupby('distributor').box_off_num.median().reset_index(name = 'num_rank').sort_values(by = 'num_rank')\n",
    "tr_nm_rank"
   ]
  },
  {
   "cell_type": "code",
   "execution_count": 37,
   "id": "0e65f876",
   "metadata": {},
   "outputs": [
    {
     "name": "stdout",
     "output_type": "stream",
     "text": [
      "(147, 2)\n"
     ]
    }
   ],
   "source": [
    "print(tr_nm_rank.shape)\n",
    "\n",
    "# 배급사별 관객수 중위 값을 기준으로 배급사 랭크 인코딩\n",
    "tr_nm_rank['num_rank'] = [i + 1 for i in range(tr_nm_rank.shape[0])]"
   ]
  },
  {
   "cell_type": "code",
   "execution_count": 38,
   "id": "c89a68e6",
   "metadata": {
    "scrolled": false
   },
   "outputs": [
    {
     "data": {
      "text/html": [
       "<div>\n",
       "<style scoped>\n",
       "    .dataframe tbody tr th:only-of-type {\n",
       "        vertical-align: middle;\n",
       "    }\n",
       "\n",
       "    .dataframe tbody tr th {\n",
       "        vertical-align: top;\n",
       "    }\n",
       "\n",
       "    .dataframe thead th {\n",
       "        text-align: right;\n",
       "    }\n",
       "</style>\n",
       "<table border=\"1\" class=\"dataframe\">\n",
       "  <thead>\n",
       "    <tr style=\"text-align: right;\">\n",
       "      <th></th>\n",
       "      <th>distributor</th>\n",
       "      <th>num_rank</th>\n",
       "    </tr>\n",
       "  </thead>\n",
       "  <tbody>\n",
       "    <tr>\n",
       "      <th>110</th>\n",
       "      <td>인피니티엔터테인먼트</td>\n",
       "      <td>1</td>\n",
       "    </tr>\n",
       "    <tr>\n",
       "      <th>15</th>\n",
       "      <td>고구마공작소</td>\n",
       "      <td>2</td>\n",
       "    </tr>\n",
       "    <tr>\n",
       "      <th>52</th>\n",
       "      <td>사람과사람들</td>\n",
       "      <td>3</td>\n",
       "    </tr>\n",
       "    <tr>\n",
       "      <th>97</th>\n",
       "      <td>위드시네마</td>\n",
       "      <td>4</td>\n",
       "    </tr>\n",
       "    <tr>\n",
       "      <th>19</th>\n",
       "      <td>나우콘텐츠</td>\n",
       "      <td>5</td>\n",
       "    </tr>\n",
       "    <tr>\n",
       "      <th>...</th>\n",
       "      <td>...</td>\n",
       "      <td>...</td>\n",
       "    </tr>\n",
       "    <tr>\n",
       "      <th>113</th>\n",
       "      <td>전망좋은영화사</td>\n",
       "      <td>143</td>\n",
       "    </tr>\n",
       "    <tr>\n",
       "      <th>105</th>\n",
       "      <td>이십세기폭스코리아</td>\n",
       "      <td>144</td>\n",
       "    </tr>\n",
       "    <tr>\n",
       "      <th>56</th>\n",
       "      <td>쇼박스</td>\n",
       "      <td>145</td>\n",
       "    </tr>\n",
       "    <tr>\n",
       "      <th>84</th>\n",
       "      <td>영구아트무비</td>\n",
       "      <td>146</td>\n",
       "    </tr>\n",
       "    <tr>\n",
       "      <th>75</th>\n",
       "      <td>아이필름코퍼레이션</td>\n",
       "      <td>147</td>\n",
       "    </tr>\n",
       "  </tbody>\n",
       "</table>\n",
       "<p>147 rows × 2 columns</p>\n",
       "</div>"
      ],
      "text/plain": [
       "    distributor  num_rank\n",
       "110  인피니티엔터테인먼트         1\n",
       "15       고구마공작소         2\n",
       "52       사람과사람들         3\n",
       "97        위드시네마         4\n",
       "19        나우콘텐츠         5\n",
       "..          ...       ...\n",
       "113     전망좋은영화사       143\n",
       "105   이십세기폭스코리아       144\n",
       "56          쇼박스       145\n",
       "84       영구아트무비       146\n",
       "75    아이필름코퍼레이션       147\n",
       "\n",
       "[147 rows x 2 columns]"
      ]
     },
     "execution_count": 38,
     "metadata": {},
     "output_type": "execute_result"
    }
   ],
   "source": [
    "# 배급사별로 랭크가 인코딩 된 것을 볼 수 있다.\n",
    "\n",
    "tr_nm_rank"
   ]
  },
  {
   "cell_type": "markdown",
   "id": "862388d9",
   "metadata": {},
   "source": [
    "### 최종 데이터 병합"
   ]
  },
  {
   "cell_type": "code",
   "execution_count": 39,
   "id": "c338e2c8",
   "metadata": {
    "scrolled": true
   },
   "outputs": [],
   "source": [
    "# merge를 실행할 때 on이 없으면 같은 컬럼끼리 붙고\n",
    "# 그 컬럼을 기준으로 나머지 값(컬럼)이 들어가는 것 같다.\n",
    "# left join은 왼쪽 컬럼을 기준으로 합쳐지게 된다.\n",
    "\n",
    "train = pd.merge(train, tr_nm_rank, how='left')"
   ]
  },
  {
   "cell_type": "code",
   "execution_count": 40,
   "id": "1fe23eb5",
   "metadata": {
    "scrolled": true
   },
   "outputs": [],
   "source": [
    "test = pd.merge(test, tr_nm_rank, how='left')"
   ]
  },
  {
   "cell_type": "code",
   "execution_count": 41,
   "id": "eb264664",
   "metadata": {},
   "outputs": [
    {
     "name": "stdout",
     "output_type": "stream",
     "text": [
      "<class 'pandas.core.frame.DataFrame'>\n",
      "Int64Index: 600 entries, 0 to 599\n",
      "Data columns (total 14 columns):\n",
      " #   Column          Non-Null Count  Dtype  \n",
      "---  ------          --------------  -----  \n",
      " 0   title           600 non-null    object \n",
      " 1   distributor     600 non-null    object \n",
      " 2   genre           600 non-null    object \n",
      " 3   release_time    600 non-null    object \n",
      " 4   time            600 non-null    int64  \n",
      " 5   screening_rat   600 non-null    object \n",
      " 6   director        600 non-null    object \n",
      " 7   dir_prev_bfnum  600 non-null    float64\n",
      " 8   dir_prev_num    600 non-null    int64  \n",
      " 9   num_staff       600 non-null    int64  \n",
      " 10  num_actor       600 non-null    int64  \n",
      " 11  box_off_num     600 non-null    int64  \n",
      " 12  genre_rank      600 non-null    int64  \n",
      " 13  num_rank        600 non-null    int64  \n",
      "dtypes: float64(1), int64(7), object(6)\n",
      "memory usage: 70.3+ KB\n"
     ]
    }
   ],
   "source": [
    "# NaN 값이 없이 다 들어가 있다.\n",
    "\n",
    "train.info()"
   ]
  },
  {
   "cell_type": "code",
   "execution_count": 42,
   "id": "5d3a1e45",
   "metadata": {},
   "outputs": [
    {
     "name": "stdout",
     "output_type": "stream",
     "text": [
      "<class 'pandas.core.frame.DataFrame'>\n",
      "Int64Index: 243 entries, 0 to 242\n",
      "Data columns (total 13 columns):\n",
      " #   Column          Non-Null Count  Dtype  \n",
      "---  ------          --------------  -----  \n",
      " 0   title           243 non-null    object \n",
      " 1   distributor     243 non-null    object \n",
      " 2   genre           243 non-null    object \n",
      " 3   release_time    243 non-null    object \n",
      " 4   time            243 non-null    int64  \n",
      " 5   screening_rat   243 non-null    object \n",
      " 6   director        243 non-null    object \n",
      " 7   dir_prev_bfnum  243 non-null    float64\n",
      " 8   dir_prev_num    243 non-null    int64  \n",
      " 9   num_staff       243 non-null    int64  \n",
      " 10  num_actor       243 non-null    int64  \n",
      " 11  genre_rank      243 non-null    int64  \n",
      " 12  num_rank        212 non-null    float64\n",
      "dtypes: float64(2), int64(5), object(6)\n",
      "memory usage: 26.6+ KB\n"
     ]
    }
   ],
   "source": [
    "# 'num_rank' 컬럼에 NaN 값을 확인할 수 있다.\n",
    "# 위에서 train 데이터셋에서 배급사별 랭크 인코딩을 했는데\n",
    "# test 데이터셋에 train에서 볼 수 없는 배급사가 있는 것 같다.\n",
    "\n",
    "test.info()"
   ]
  },
  {
   "cell_type": "code",
   "execution_count": 43,
   "id": "f2f3e3dc",
   "metadata": {},
   "outputs": [],
   "source": [
    "# NaN 값을 0으로 채운다.\n",
    "\n",
    "test.fillna(0, inplace=True)"
   ]
  },
  {
   "cell_type": "code",
   "execution_count": 44,
   "id": "46c00459",
   "metadata": {},
   "outputs": [
    {
     "name": "stdout",
     "output_type": "stream",
     "text": [
      "<class 'pandas.core.frame.DataFrame'>\n",
      "Int64Index: 243 entries, 0 to 242\n",
      "Data columns (total 13 columns):\n",
      " #   Column          Non-Null Count  Dtype  \n",
      "---  ------          --------------  -----  \n",
      " 0   title           243 non-null    object \n",
      " 1   distributor     243 non-null    object \n",
      " 2   genre           243 non-null    object \n",
      " 3   release_time    243 non-null    object \n",
      " 4   time            243 non-null    int64  \n",
      " 5   screening_rat   243 non-null    object \n",
      " 6   director        243 non-null    object \n",
      " 7   dir_prev_bfnum  243 non-null    float64\n",
      " 8   dir_prev_num    243 non-null    int64  \n",
      " 9   num_staff       243 non-null    int64  \n",
      " 10  num_actor       243 non-null    int64  \n",
      " 11  genre_rank      243 non-null    int64  \n",
      " 12  num_rank        243 non-null    float64\n",
      "dtypes: float64(2), int64(5), object(6)\n",
      "memory usage: 26.6+ KB\n"
     ]
    }
   ],
   "source": [
    "test.info()"
   ]
  },
  {
   "cell_type": "code",
   "execution_count": 45,
   "id": "3b4453e2",
   "metadata": {},
   "outputs": [
    {
     "data": {
      "text/plain": [
       "<AxesSubplot:>"
      ]
     },
     "execution_count": 45,
     "metadata": {},
     "output_type": "execute_result"
    },
    {
     "data": {
      "image/png": "[encoded data removed]",
      "text/plain": [
       "<Figure size 432x288 with 2 Axes>"
      ]
     },
     "metadata": {
      "needs_background": "light"
     },
     "output_type": "display_data"
    }
   ],
   "source": [
    "sns.heatmap(train.corr(), vmin=-1, vmax=+1, annot=True, cmap='coolwarm')"
   ]
  },
  {
   "cell_type": "code",
   "execution_count": 46,
   "id": "5b3145b5",
   "metadata": {},
   "outputs": [
    {
     "name": "stderr",
     "output_type": "stream",
     "text": [
      "C:\\Users\\shcho\\anaconda3\\envs\\study\\lib\\site-packages\\xgboost\\compat.py:36: FutureWarning: pandas.Int64Index is deprecated and will be removed from pandas in a future version. Use pandas.Index with the appropriate dtype instead.\n",
      "  from pandas import MultiIndex, Int64Index\n"
     ]
    }
   ],
   "source": [
    "from sklearn.ensemble import GradientBoostingRegressor, RandomForestRegressor\n",
    "from xgboost import XGBRegressor\n",
    "from lightgbm import LGBMRegressor\n",
    "from catboost import CatBoostRegressor\n",
    "from sklearn.metrics import mean_squared_error\n",
    "from sklearn.model_selection import KFold\n",
    "from ngboost import NGBRegressor"
   ]
  },
  {
   "cell_type": "markdown",
   "id": "935a36b4",
   "metadata": {},
   "source": [
    "# 4. 모델링 데이터 구성\n",
    "- 타겟 값인 관객수를 로그 변환\n",
    "- 상영 등급은 더미 변수\n",
    "- ~~출연 배우 수는 로그 변환~~  ➡ 출연배우 수는 빼준다.\n",
    "\n",
    "\n",
    "### 나중에 추가로 해볼만한 사항\n",
    "- 영화제작에 참여한 스태프 수도 로그 변환 ⬆\n",
    "- 'dir_prev_bfnum' 컬럼과 'dir_prev_num' 컬럼도 사용하여 진행 ⬆\n",
    "- 장르별 관객수를 랭크를 매기지 말고 관객수의 평균 값으로 Min-Max 정규화를 진행하면 어떨까\n",
    "- 배급사별 관객수도 마찬가지"
   ]
  },
  {
   "cell_type": "markdown",
   "id": "37f2d4cf",
   "metadata": {},
   "source": [
    "### 로그변환\n",
    "**로그 함수의 특징**  \n",
    "- 0 < x < 1 범위에서는 기울기가 매우 가파르다.\n",
    "- 0에 가깝게 모여 있는 값들이 x로 입력되면, 그 함수값인 y 값들은 매우 큰 범위로 벌어진다.\n",
    "- x값이 점점 커짐에 따라 로그 함수의 기울기는 급격히 작아진다.  \n",
    "\n",
    "  \n",
    "**np.log()가 아닌 np.log1p()인 이유** \n",
    "\n",
    "로그함수의 경우 자연로그 함수 그래프를 보면, x = 0 인 경우 y가 무한대의 값을 가진다.  \n",
    "이를 해결하기 위한 방법으로 x + 1을 해줘서 0 -> 1 로 바꿔줘면 문제가 없게 된다.\n",
    "np.log1p() 함수가 바로 이 역할을 한다."
   ]
  },
  {
   "cell_type": "code",
   "execution_count": 47,
   "id": "1abaa482",
   "metadata": {},
   "outputs": [],
   "source": [
    "# 모델링을 진행할 컬럼 선정\n",
    "# 타겟 값인 관객 수 로그 변환\n",
    "\n",
    "X = train[['num_rank', 'time', 'num_staff', 'dir_prev_bfnum', 'dir_prev_num', 'genre_rank', 'screening_rat']]\n",
    "y = np.log1p(train.box_off_num)"
   ]
  },
  {
   "cell_type": "code",
   "execution_count": 48,
   "id": "5be6ce45",
   "metadata": {},
   "outputs": [],
   "source": [
    "# 상영등급 더미변수로 만들기\n",
    "# 더미변수는 범주형 data를 Machine Learning 알고리즘에서 사용하기 위해\n",
    "# 컴퓨터가 인식할 수 있는 형태로 만들어 주는 것\n",
    "\n",
    "X = pd.get_dummies(columns = ['screening_rat'], data = X)"
   ]
  },
  {
   "cell_type": "code",
   "execution_count": 50,
   "id": "2e73a355",
   "metadata": {},
   "outputs": [],
   "source": [
    "# 출연 배우 수 로그 변환\n",
    "# X['num_actor'] = np.log1p(X['num_actor'])\n",
    "\n",
    "# 스태프 수 로그 변환\n",
    "X['num_staff'] = np.log1p(X['num_staff'])\n",
    "\n",
    "# 이전 영화 평균 관객 수 로그 변환\n",
    "X['dir_prev_bfnum'] = np.log1p(X['dir_prev_bfnum'])"
   ]
  },
  {
   "cell_type": "code",
   "execution_count": 61,
   "id": "09632758",
   "metadata": {},
   "outputs": [
    {
     "data": {
      "text/html": [
       "<div>\n",
       "<style scoped>\n",
       "    .dataframe tbody tr th:only-of-type {\n",
       "        vertical-align: middle;\n",
       "    }\n",
       "\n",
       "    .dataframe tbody tr th {\n",
       "        vertical-align: top;\n",
       "    }\n",
       "\n",
       "    .dataframe thead th {\n",
       "        text-align: right;\n",
       "    }\n",
       "</style>\n",
       "<table border=\"1\" class=\"dataframe\">\n",
       "  <thead>\n",
       "    <tr style=\"text-align: right;\">\n",
       "      <th></th>\n",
       "      <th>num_rank</th>\n",
       "      <th>time</th>\n",
       "      <th>num_staff</th>\n",
       "      <th>dir_prev_bfnum</th>\n",
       "      <th>dir_prev_num</th>\n",
       "      <th>genre_rank</th>\n",
       "      <th>screening_rat_12세 관람가</th>\n",
       "      <th>screening_rat_15세 관람가</th>\n",
       "      <th>screening_rat_전체 관람가</th>\n",
       "      <th>screening_rat_청소년 관람불가</th>\n",
       "    </tr>\n",
       "  </thead>\n",
       "  <tbody>\n",
       "    <tr>\n",
       "      <th>0</th>\n",
       "      <td>134</td>\n",
       "      <td>96</td>\n",
       "      <td>4.521789</td>\n",
       "      <td>0.000000</td>\n",
       "      <td>0</td>\n",
       "      <td>11</td>\n",
       "      <td>0</td>\n",
       "      <td>0</td>\n",
       "      <td>0</td>\n",
       "      <td>1</td>\n",
       "    </tr>\n",
       "    <tr>\n",
       "      <th>1</th>\n",
       "      <td>145</td>\n",
       "      <td>130</td>\n",
       "      <td>5.961005</td>\n",
       "      <td>13.965312</td>\n",
       "      <td>2</td>\n",
       "      <td>12</td>\n",
       "      <td>0</td>\n",
       "      <td>0</td>\n",
       "      <td>0</td>\n",
       "      <td>1</td>\n",
       "    </tr>\n",
       "    <tr>\n",
       "      <th>2</th>\n",
       "      <td>145</td>\n",
       "      <td>123</td>\n",
       "      <td>5.840642</td>\n",
       "      <td>12.304905</td>\n",
       "      <td>4</td>\n",
       "      <td>11</td>\n",
       "      <td>0</td>\n",
       "      <td>1</td>\n",
       "      <td>0</td>\n",
       "      <td>0</td>\n",
       "    </tr>\n",
       "    <tr>\n",
       "      <th>3</th>\n",
       "      <td>140</td>\n",
       "      <td>101</td>\n",
       "      <td>3.044522</td>\n",
       "      <td>10.081425</td>\n",
       "      <td>2</td>\n",
       "      <td>9</td>\n",
       "      <td>0</td>\n",
       "      <td>0</td>\n",
       "      <td>1</td>\n",
       "      <td>0</td>\n",
       "    </tr>\n",
       "    <tr>\n",
       "      <th>4</th>\n",
       "      <td>145</td>\n",
       "      <td>108</td>\n",
       "      <td>5.529429</td>\n",
       "      <td>0.693147</td>\n",
       "      <td>1</td>\n",
       "      <td>9</td>\n",
       "      <td>0</td>\n",
       "      <td>1</td>\n",
       "      <td>0</td>\n",
       "      <td>0</td>\n",
       "    </tr>\n",
       "    <tr>\n",
       "      <th>...</th>\n",
       "      <td>...</td>\n",
       "      <td>...</td>\n",
       "      <td>...</td>\n",
       "      <td>...</td>\n",
       "      <td>...</td>\n",
       "      <td>...</td>\n",
       "      <td>...</td>\n",
       "      <td>...</td>\n",
       "      <td>...</td>\n",
       "      <td>...</td>\n",
       "    </tr>\n",
       "    <tr>\n",
       "      <th>595</th>\n",
       "      <td>140</td>\n",
       "      <td>111</td>\n",
       "      <td>6.236370</td>\n",
       "      <td>8.251664</td>\n",
       "      <td>1</td>\n",
       "      <td>8</td>\n",
       "      <td>0</td>\n",
       "      <td>0</td>\n",
       "      <td>0</td>\n",
       "      <td>1</td>\n",
       "    </tr>\n",
       "    <tr>\n",
       "      <th>596</th>\n",
       "      <td>145</td>\n",
       "      <td>127</td>\n",
       "      <td>5.659482</td>\n",
       "      <td>13.114456</td>\n",
       "      <td>1</td>\n",
       "      <td>8</td>\n",
       "      <td>0</td>\n",
       "      <td>1</td>\n",
       "      <td>0</td>\n",
       "      <td>0</td>\n",
       "    </tr>\n",
       "    <tr>\n",
       "      <th>597</th>\n",
       "      <td>46</td>\n",
       "      <td>99</td>\n",
       "      <td>4.820282</td>\n",
       "      <td>0.000000</td>\n",
       "      <td>0</td>\n",
       "      <td>7</td>\n",
       "      <td>0</td>\n",
       "      <td>0</td>\n",
       "      <td>0</td>\n",
       "      <td>1</td>\n",
       "    </tr>\n",
       "    <tr>\n",
       "      <th>598</th>\n",
       "      <td>141</td>\n",
       "      <td>102</td>\n",
       "      <td>6.068426</td>\n",
       "      <td>0.000000</td>\n",
       "      <td>0</td>\n",
       "      <td>12</td>\n",
       "      <td>0</td>\n",
       "      <td>1</td>\n",
       "      <td>0</td>\n",
       "      <td>0</td>\n",
       "    </tr>\n",
       "    <tr>\n",
       "      <th>599</th>\n",
       "      <td>141</td>\n",
       "      <td>120</td>\n",
       "      <td>5.897154</td>\n",
       "      <td>0.000000</td>\n",
       "      <td>0</td>\n",
       "      <td>11</td>\n",
       "      <td>0</td>\n",
       "      <td>1</td>\n",
       "      <td>0</td>\n",
       "      <td>0</td>\n",
       "    </tr>\n",
       "  </tbody>\n",
       "</table>\n",
       "<p>600 rows × 10 columns</p>\n",
       "</div>"
      ],
      "text/plain": [
       "     num_rank  time  num_staff  dir_prev_bfnum  dir_prev_num  genre_rank  \\\n",
       "0         134    96   4.521789        0.000000             0          11   \n",
       "1         145   130   5.961005       13.965312             2          12   \n",
       "2         145   123   5.840642       12.304905             4          11   \n",
       "3         140   101   3.044522       10.081425             2           9   \n",
       "4         145   108   5.529429        0.693147             1           9   \n",
       "..        ...   ...        ...             ...           ...         ...   \n",
       "595       140   111   6.236370        8.251664             1           8   \n",
       "596       145   127   5.659482       13.114456             1           8   \n",
       "597        46    99   4.820282        0.000000             0           7   \n",
       "598       141   102   6.068426        0.000000             0          12   \n",
       "599       141   120   5.897154        0.000000             0          11   \n",
       "\n",
       "     screening_rat_12세 관람가  screening_rat_15세 관람가  screening_rat_전체 관람가  \\\n",
       "0                        0                      0                     0   \n",
       "1                        0                      0                     0   \n",
       "2                        0                      1                     0   \n",
       "3                        0                      0                     1   \n",
       "4                        0                      1                     0   \n",
       "..                     ...                    ...                   ...   \n",
       "595                      0                      0                     0   \n",
       "596                      0                      1                     0   \n",
       "597                      0                      0                     0   \n",
       "598                      0                      1                     0   \n",
       "599                      0                      1                     0   \n",
       "\n",
       "     screening_rat_청소년 관람불가  \n",
       "0                         1  \n",
       "1                         1  \n",
       "2                         0  \n",
       "3                         0  \n",
       "4                         0  \n",
       "..                      ...  \n",
       "595                       1  \n",
       "596                       0  \n",
       "597                       1  \n",
       "598                       0  \n",
       "599                       0  \n",
       "\n",
       "[600 rows x 10 columns]"
      ]
     },
     "execution_count": 61,
     "metadata": {},
     "output_type": "execute_result"
    }
   ],
   "source": [
    "X"
   ]
  },
  {
   "cell_type": "code",
   "execution_count": 51,
   "id": "f4d0c626",
   "metadata": {},
   "outputs": [],
   "source": [
    "target = test[['num_rank', 'time', 'num_staff', 'dir_prev_bfnum', 'dir_prev_num', 'genre_rank', 'screening_rat']]"
   ]
  },
  {
   "cell_type": "code",
   "execution_count": 52,
   "id": "e7af833d",
   "metadata": {},
   "outputs": [],
   "source": [
    "target = pd.get_dummies(columns = ['screening_rat'], data = target)"
   ]
  },
  {
   "cell_type": "code",
   "execution_count": 53,
   "id": "5515d73e",
   "metadata": {},
   "outputs": [],
   "source": [
    "# target['num_actor'] = np.log1p(target['num_actor'])\n",
    "target['num_staff'] = np.log1p(target['num_staff'])\n",
    "target['dir_prev_bfnum'] = np.log1p(target['dir_prev_bfnum'])"
   ]
  },
  {
   "cell_type": "code",
   "execution_count": 54,
   "id": "1cf19eb9",
   "metadata": {},
   "outputs": [],
   "source": [
    "model = lgb.LGBMRegressor(random_state=777, n_estimators=1000)\n",
    "# n_estimators=1000 : light gbm 특성상 들어간다고 한다."
   ]
  },
  {
   "cell_type": "markdown",
   "id": "a8c1cc6e",
   "metadata": {},
   "source": [
    "# 5. 모델 학습 및 검증\n",
    "\n",
    "\n",
    "a. lightGBM (base model)  \n",
    "\n",
    "b. k-fold lightGBM (k-fold model)  \n",
    "\n",
    "c. feature engineering (fe)  \n",
    "\n",
    "d. grid serch (hyperparameter tuning)  \n"
   ]
  },
  {
   "cell_type": "markdown",
   "id": "b3563dea",
   "metadata": {},
   "source": [
    "### LightGBM\n",
    "\n",
    "- 부스팅 모델\n",
    "- 기존 모델이 못 맞춘 문제에 가중치를 두어 지속적으로 학습을 이어나감\n",
    "- 타 부스팅 모델에 비해 속도가 빠름"
   ]
  },
  {
   "cell_type": "code",
   "execution_count": 55,
   "id": "9daeead9",
   "metadata": {},
   "outputs": [
    {
     "data": {
      "text/plain": [
       "LGBMRegressor(n_estimators=1000, random_state=777)"
      ]
     },
     "execution_count": 55,
     "metadata": {},
     "output_type": "execute_result"
    }
   ],
   "source": [
    "model.fit(X, y)"
   ]
  },
  {
   "cell_type": "code",
   "execution_count": 56,
   "id": "fa89f7bd",
   "metadata": {},
   "outputs": [],
   "source": [
    "singleLGBM = submission.copy()"
   ]
  },
  {
   "cell_type": "code",
   "execution_count": 57,
   "id": "7c35b722",
   "metadata": {},
   "outputs": [
    {
     "data": {
      "text/html": [
       "<div>\n",
       "<style scoped>\n",
       "    .dataframe tbody tr th:only-of-type {\n",
       "        vertical-align: middle;\n",
       "    }\n",
       "\n",
       "    .dataframe tbody tr th {\n",
       "        vertical-align: top;\n",
       "    }\n",
       "\n",
       "    .dataframe thead th {\n",
       "        text-align: right;\n",
       "    }\n",
       "</style>\n",
       "<table border=\"1\" class=\"dataframe\">\n",
       "  <thead>\n",
       "    <tr style=\"text-align: right;\">\n",
       "      <th></th>\n",
       "      <th>title</th>\n",
       "      <th>box_off_num</th>\n",
       "    </tr>\n",
       "  </thead>\n",
       "  <tbody>\n",
       "    <tr>\n",
       "      <th>0</th>\n",
       "      <td>용서는 없다</td>\n",
       "      <td>0</td>\n",
       "    </tr>\n",
       "    <tr>\n",
       "      <th>1</th>\n",
       "      <td>아빠가 여자를 좋아해</td>\n",
       "      <td>0</td>\n",
       "    </tr>\n",
       "    <tr>\n",
       "      <th>2</th>\n",
       "      <td>하모니</td>\n",
       "      <td>0</td>\n",
       "    </tr>\n",
       "    <tr>\n",
       "      <th>3</th>\n",
       "      <td>의형제</td>\n",
       "      <td>0</td>\n",
       "    </tr>\n",
       "    <tr>\n",
       "      <th>4</th>\n",
       "      <td>평행 이론</td>\n",
       "      <td>0</td>\n",
       "    </tr>\n",
       "  </tbody>\n",
       "</table>\n",
       "</div>"
      ],
      "text/plain": [
       "         title  box_off_num\n",
       "0       용서는 없다            0\n",
       "1  아빠가 여자를 좋아해            0\n",
       "2          하모니            0\n",
       "3          의형제            0\n",
       "4        평행 이론            0"
      ]
     },
     "execution_count": 57,
     "metadata": {},
     "output_type": "execute_result"
    }
   ],
   "source": [
    "singleLGBM.head()"
   ]
  },
  {
   "cell_type": "code",
   "execution_count": 58,
   "id": "604e5eb3",
   "metadata": {},
   "outputs": [],
   "source": [
    "singleLGBM['box_off_num'] = model.predict(target)"
   ]
  },
  {
   "cell_type": "code",
   "execution_count": 59,
   "id": "1dd61edf",
   "metadata": {},
   "outputs": [
    {
     "data": {
      "text/html": [
       "<div>\n",
       "<style scoped>\n",
       "    .dataframe tbody tr th:only-of-type {\n",
       "        vertical-align: middle;\n",
       "    }\n",
       "\n",
       "    .dataframe tbody tr th {\n",
       "        vertical-align: top;\n",
       "    }\n",
       "\n",
       "    .dataframe thead th {\n",
       "        text-align: right;\n",
       "    }\n",
       "</style>\n",
       "<table border=\"1\" class=\"dataframe\">\n",
       "  <thead>\n",
       "    <tr style=\"text-align: right;\">\n",
       "      <th></th>\n",
       "      <th>title</th>\n",
       "      <th>box_off_num</th>\n",
       "    </tr>\n",
       "  </thead>\n",
       "  <tbody>\n",
       "    <tr>\n",
       "      <th>0</th>\n",
       "      <td>용서는 없다</td>\n",
       "      <td>13.867854</td>\n",
       "    </tr>\n",
       "    <tr>\n",
       "      <th>1</th>\n",
       "      <td>아빠가 여자를 좋아해</td>\n",
       "      <td>14.892257</td>\n",
       "    </tr>\n",
       "    <tr>\n",
       "      <th>2</th>\n",
       "      <td>하모니</td>\n",
       "      <td>14.245099</td>\n",
       "    </tr>\n",
       "    <tr>\n",
       "      <th>3</th>\n",
       "      <td>의형제</td>\n",
       "      <td>14.470642</td>\n",
       "    </tr>\n",
       "    <tr>\n",
       "      <th>4</th>\n",
       "      <td>평행 이론</td>\n",
       "      <td>13.878933</td>\n",
       "    </tr>\n",
       "  </tbody>\n",
       "</table>\n",
       "</div>"
      ],
      "text/plain": [
       "         title  box_off_num\n",
       "0       용서는 없다    13.867854\n",
       "1  아빠가 여자를 좋아해    14.892257\n",
       "2          하모니    14.245099\n",
       "3          의형제    14.470642\n",
       "4        평행 이론    13.878933"
      ]
     },
     "execution_count": 59,
     "metadata": {},
     "output_type": "execute_result"
    }
   ],
   "source": [
    "singleLGBM.head()"
   ]
  },
  {
   "cell_type": "code",
   "execution_count": 60,
   "id": "c4407567",
   "metadata": {},
   "outputs": [],
   "source": [
    "singleLGBM.to_csv('singleLGBM.csv', index = False)"
   ]
  },
  {
   "cell_type": "markdown",
   "id": "9f86fb84",
   "metadata": {},
   "source": [
    "### K-Fold로 교차검증\n",
    "모델이 학습 데이터에만 과도하게 최적화 되는 것을 막기위해 별도의 여러 세트로 구성된 학습 데이터 세트와 검증 데이터 세트에서 학습과 평가를 수행하는 것.  \n",
    "\n",
    "테스트 데이터셋에 대해 평가하는 게 수능이라고 하면, 교차검증에서 학습과 평가를 수행하는 것은 모의고사로 보면 된다.  \n",
    "\n",
    "### Parameters\n",
    "- **n_splits(필수)** : 분할하려는 개수 \n",
    "- **shuffle(옵션)** : defalut=False이며, True일 때 데이터셋을 섞어서 분할\n",
    "- **random_state(옵션)** : shuffle이 True일 때 동일한 셔플을 발생시키는 시드 값"
   ]
  },
  {
   "cell_type": "code",
   "execution_count": 62,
   "id": "fe5c0eac",
   "metadata": {},
   "outputs": [],
   "source": [
    "kf = KFold(n_splits =  10, shuffle = True, random_state = 777)"
   ]
  },
  {
   "cell_type": "code",
   "execution_count": 63,
   "id": "64426a4d",
   "metadata": {},
   "outputs": [
    {
     "name": "stdout",
     "output_type": "stream",
     "text": [
      "540 60\n"
     ]
    }
   ],
   "source": [
    "# 내가 설정한 n_splits대로 분할 된 것을 볼 수 있다.\n",
    "for train_idx, val_idx in kf.split(X):\n",
    "    print(len(train_idx), len(val_idx))\n",
    "    break"
   ]
  },
  {
   "cell_type": "markdown",
   "id": "4c0f0c45",
   "metadata": {},
   "source": [
    "### 설명\n",
    "train set은 순차적으로 넣어주고 validation set은 eval_set에 tuple 형태로 넣어준다.  \n",
    "\n",
    "boosting 모델이 못맞춘 문제를 지속적(반복적)으로 학습할 때그 과정에서 어느정도 일정 수준에 도달하면 그 이후 학습은 train 데이터 셋에 과적합이 될 수 있다.  \n",
    "그래서 어느정도 시점이 되면 학습을 중단시킬 필요가 있다.  \n",
    "그 중단 시키는 기준을 정해주는 게 early_stopping_rounds 이다.  \n",
    "\n",
    "n_estimators=1000 => 1000번의 모델을 만들건데  \n",
    "early_stopping_rounds=100 => 100번의 과정동안 유의미한 모델의 성능 증가가 관측되지 않는다면 학습을 멈춰라  \n",
    "\n",
    "verbose=100 => 100번의 과정마다 모델에 대한 성능 값을 출력해달라"
   ]
  },
  {
   "cell_type": "code",
   "execution_count": 64,
   "id": "d36e40a1",
   "metadata": {},
   "outputs": [
    {
     "name": "stderr",
     "output_type": "stream",
     "text": [
      "C:\\Users\\shcho\\anaconda3\\envs\\study\\lib\\site-packages\\lightgbm\\sklearn.py:726: UserWarning: 'early_stopping_rounds' argument is deprecated and will be removed in a future release of LightGBM. Pass 'early_stopping()' callback via 'callbacks' argument instead.\n",
      "  _log_warning(\"'early_stopping_rounds' argument is deprecated and will be removed in a future release of LightGBM. \"\n",
      "C:\\Users\\shcho\\anaconda3\\envs\\study\\lib\\site-packages\\lightgbm\\sklearn.py:736: UserWarning: 'verbose' argument is deprecated and will be removed in a future release of LightGBM. Pass 'log_evaluation()' callback via 'callbacks' argument instead.\n",
      "  _log_warning(\"'verbose' argument is deprecated and will be removed in a future release of LightGBM. \"\n"
     ]
    },
    {
     "name": "stdout",
     "output_type": "stream",
     "text": [
      "[100]\tvalid_0's l2: 3.12874\n",
      "[100]\tvalid_0's l2: 1.81124\n",
      "[100]\tvalid_0's l2: 2.59067\n",
      "[100]\tvalid_0's l2: 2.34666\n",
      "[100]\tvalid_0's l2: 3.88514\n",
      "[100]\tvalid_0's l2: 1.71062\n",
      "[100]\tvalid_0's l2: 2.84533\n",
      "[100]\tvalid_0's l2: 2.24379\n",
      "[100]\tvalid_0's l2: 3.32628\n",
      "[100]\tvalid_0's l2: 1.90504\n"
     ]
    }
   ],
   "source": [
    "model = lgb.LGBMRegressor(random_state=777, n_estimators=1000)\n",
    "\n",
    "models = []   # 모델을 담는 바구니\n",
    "\n",
    "# train set과 validation set을 나눈다.\n",
    "for train_idx, val_idx in kf.split(X):\n",
    "    x_t = X.iloc[train_idx]\n",
    "    y_t = y.iloc[train_idx]\n",
    "    x_val = X.iloc[val_idx]\n",
    "    y_val = y.iloc[val_idx]\n",
    "    \n",
    "    models.append(model.fit(x_t, y_t, eval_set=(x_val, y_val), early_stopping_rounds=100, verbose=100))"
   ]
  },
  {
   "cell_type": "code",
   "execution_count": 65,
   "id": "61158506",
   "metadata": {
    "scrolled": true
   },
   "outputs": [
    {
     "data": {
      "text/plain": [
       "[LGBMRegressor(n_estimators=1000, random_state=777),\n",
       " LGBMRegressor(n_estimators=1000, random_state=777),\n",
       " LGBMRegressor(n_estimators=1000, random_state=777),\n",
       " LGBMRegressor(n_estimators=1000, random_state=777),\n",
       " LGBMRegressor(n_estimators=1000, random_state=777),\n",
       " LGBMRegressor(n_estimators=1000, random_state=777),\n",
       " LGBMRegressor(n_estimators=1000, random_state=777),\n",
       " LGBMRegressor(n_estimators=1000, random_state=777),\n",
       " LGBMRegressor(n_estimators=1000, random_state=777),\n",
       " LGBMRegressor(n_estimators=1000, random_state=777)]"
      ]
     },
     "execution_count": 65,
     "metadata": {},
     "output_type": "execute_result"
    }
   ],
   "source": [
    "models"
   ]
  },
  {
   "cell_type": "code",
   "execution_count": 66,
   "id": "651395c8",
   "metadata": {},
   "outputs": [
    {
     "data": {
      "text/plain": [
       "10"
      ]
     },
     "execution_count": 66,
     "metadata": {},
     "output_type": "execute_result"
    }
   ],
   "source": [
    "# 예측한 10개의 모델들을 저장\n",
    "\n",
    "preds = []\n",
    "for model in models:\n",
    "    preds.append(model.predict(target))\n",
    "len(preds)"
   ]
  },
  {
   "cell_type": "code",
   "execution_count": 67,
   "id": "deadebcc",
   "metadata": {},
   "outputs": [],
   "source": [
    "kfoldLightGBM = submission.copy()"
   ]
  },
  {
   "cell_type": "code",
   "execution_count": 68,
   "id": "94d8406a",
   "metadata": {},
   "outputs": [
    {
     "data": {
      "text/plain": [
       "[array([14.1116115 , 13.83867163, 13.55968605, 14.39480223, 13.2974656 ,\n",
       "         5.51717853,  8.09006776,  5.36737156,  8.04855268,  5.53355039,\n",
       "        12.46485498, 12.47671903,  5.40631487,  7.93160608, 13.19411175,\n",
       "        14.08998963,  8.10763668, 14.31013123, 11.11705374, 10.11922661,\n",
       "         5.25471   ,  7.84701044,  8.27219512,  5.22640432,  5.37607134,\n",
       "        13.18472708,  7.56189927, 13.49567658,  8.59464893,  5.52147516,\n",
       "        13.21399484, 10.18072387,  8.19552224,  8.68305067,  8.11063979,\n",
       "         7.39781207,  7.19582196,  7.75828196,  8.10648388,  4.9798139 ,\n",
       "         5.60986627, 10.57271461, 11.58936714, 12.89361113, 12.13988683,\n",
       "        13.13872835,  5.45209665,  5.58396681, 11.58918717,  5.3863864 ,\n",
       "         7.30150949, 12.94854887,  8.50420751, 13.47793869, 13.91018468,\n",
       "         5.45787304,  8.71360074, 13.28625445, 13.77545415, 14.21645599,\n",
       "        12.92929741, 14.65065401,  8.31527103,  5.44339687,  8.04342649,\n",
       "         5.35969948, 13.23811112, 10.0690615 , 11.6506476 ,  8.71108561,\n",
       "        13.87007076, 12.87582832,  5.91989462, 13.5508179 ,  5.99192971,\n",
       "         6.79302766, 13.7521886 , 11.5727026 , 10.54402915,  7.90198438,\n",
       "         9.43087494, 14.3993615 ,  8.17476322, 13.97197337,  7.53604306,\n",
       "        13.4990582 ,  7.53205579,  8.80969103,  7.17216412, 10.85156474,\n",
       "         7.40938876,  7.88889576, 12.02794162, 13.90129928, 11.37439398,\n",
       "         5.42348193,  9.62951133,  5.48109575, 11.54045855, 10.99455535,\n",
       "        13.43908531, 13.82611371,  7.99783833,  9.19848985, 12.67740497,\n",
       "        10.55288492, 14.87427847,  9.36708178, 14.81760369,  7.8949309 ,\n",
       "         7.3765541 , 13.84486674, 13.82579697,  8.35791745,  8.55961901,\n",
       "        12.94161939,  8.20047527, 14.04188884,  7.8177443 , 10.09500184,\n",
       "         6.8606002 , 11.64042688, 12.82491015,  7.28975444,  5.33108475,\n",
       "         6.36600087,  6.62807816,  8.84505479,  9.88274198,  8.18895187,\n",
       "         4.95134785, 11.5339134 ,  6.2329704 ,  5.91989462, 14.00477058,\n",
       "        14.90528723,  6.31077446, 13.49916049, 10.32799401,  4.96763842,\n",
       "         6.65933589, 14.17329188, 14.92983887,  5.38680666,  7.11184607,\n",
       "         9.28608692,  8.64487923,  7.84447942, 13.80752855, 13.78783201,\n",
       "         8.75030181,  7.66625369,  5.15361304,  8.50689541,  6.98794831,\n",
       "         5.44115321,  7.80442668, 10.2609429 , 14.12491517, 14.47210328,\n",
       "         9.56991989, 13.23931468, 11.03360329, 12.43914082,  6.26800778,\n",
       "         6.83882006, 13.80804607,  5.16231282,  7.40789238,  7.99887669,\n",
       "         7.20904058,  7.70706312,  6.70295613,  5.31302501,  7.61154439,\n",
       "         8.2988174 , 10.78222699,  7.28975444, 14.92287671, 14.82142511,\n",
       "         9.88924862,  6.68621311,  7.19674258,  8.32258987, 13.98101028,\n",
       "         7.52821121,  8.32753598,  8.24333751,  6.59187418, 13.09558918,\n",
       "         8.09484249,  6.71813473,  7.08754728,  7.26011247,  6.68621311,\n",
       "        14.10105696,  7.65661809, 12.49666594,  6.50876563, 13.24747834,\n",
       "         5.51277536, 10.12730257,  5.61307803,  8.35437722, 11.79375939,\n",
       "        13.84840335, 13.88944311, 13.45192114,  7.84366876, 13.69620176,\n",
       "         7.24019264, 13.60949001, 13.86316443,  5.40486641,  9.01840981,\n",
       "         5.92699735, 13.30597   , 10.26901886, 10.18072387,  6.76647576,\n",
       "        10.51316105, 14.15849915, 11.48602261, 10.67359804, 10.68160065,\n",
       "         5.52147515,  5.37607134, 13.82791254,  9.12118367, 14.66170493,\n",
       "         8.62095276, 12.64618969, 12.02285589,  6.75430015,  5.37607134,\n",
       "         9.36506321,  5.38849455,  5.92355755,  9.97760649,  8.59551237,\n",
       "         5.44115321,  7.49869894,  6.62723448]),\n",
       " array([14.1116115 , 13.83867163, 13.55968605, 14.39480223, 13.2974656 ,\n",
       "         5.51717853,  8.09006776,  5.36737156,  8.04855268,  5.53355039,\n",
       "        12.46485498, 12.47671903,  5.40631487,  7.93160608, 13.19411175,\n",
       "        14.08998963,  8.10763668, 14.31013123, 11.11705374, 10.11922661,\n",
       "         5.25471   ,  7.84701044,  8.27219512,  5.22640432,  5.37607134,\n",
       "        13.18472708,  7.56189927, 13.49567658,  8.59464893,  5.52147516,\n",
       "        13.21399484, 10.18072387,  8.19552224,  8.68305067,  8.11063979,\n",
       "         7.39781207,  7.19582196,  7.75828196,  8.10648388,  4.9798139 ,\n",
       "         5.60986627, 10.57271461, 11.58936714, 12.89361113, 12.13988683,\n",
       "        13.13872835,  5.45209665,  5.58396681, 11.58918717,  5.3863864 ,\n",
       "         7.30150949, 12.94854887,  8.50420751, 13.47793869, 13.91018468,\n",
       "         5.45787304,  8.71360074, 13.28625445, 13.77545415, 14.21645599,\n",
       "        12.92929741, 14.65065401,  8.31527103,  5.44339687,  8.04342649,\n",
       "         5.35969948, 13.23811112, 10.0690615 , 11.6506476 ,  8.71108561,\n",
       "        13.87007076, 12.87582832,  5.91989462, 13.5508179 ,  5.99192971,\n",
       "         6.79302766, 13.7521886 , 11.5727026 , 10.54402915,  7.90198438,\n",
       "         9.43087494, 14.3993615 ,  8.17476322, 13.97197337,  7.53604306,\n",
       "        13.4990582 ,  7.53205579,  8.80969103,  7.17216412, 10.85156474,\n",
       "         7.40938876,  7.88889576, 12.02794162, 13.90129928, 11.37439398,\n",
       "         5.42348193,  9.62951133,  5.48109575, 11.54045855, 10.99455535,\n",
       "        13.43908531, 13.82611371,  7.99783833,  9.19848985, 12.67740497,\n",
       "        10.55288492, 14.87427847,  9.36708178, 14.81760369,  7.8949309 ,\n",
       "         7.3765541 , 13.84486674, 13.82579697,  8.35791745,  8.55961901,\n",
       "        12.94161939,  8.20047527, 14.04188884,  7.8177443 , 10.09500184,\n",
       "         6.8606002 , 11.64042688, 12.82491015,  7.28975444,  5.33108475,\n",
       "         6.36600087,  6.62807816,  8.84505479,  9.88274198,  8.18895187,\n",
       "         4.95134785, 11.5339134 ,  6.2329704 ,  5.91989462, 14.00477058,\n",
       "        14.90528723,  6.31077446, 13.49916049, 10.32799401,  4.96763842,\n",
       "         6.65933589, 14.17329188, 14.92983887,  5.38680666,  7.11184607,\n",
       "         9.28608692,  8.64487923,  7.84447942, 13.80752855, 13.78783201,\n",
       "         8.75030181,  7.66625369,  5.15361304,  8.50689541,  6.98794831,\n",
       "         5.44115321,  7.80442668, 10.2609429 , 14.12491517, 14.47210328,\n",
       "         9.56991989, 13.23931468, 11.03360329, 12.43914082,  6.26800778,\n",
       "         6.83882006, 13.80804607,  5.16231282,  7.40789238,  7.99887669,\n",
       "         7.20904058,  7.70706312,  6.70295613,  5.31302501,  7.61154439,\n",
       "         8.2988174 , 10.78222699,  7.28975444, 14.92287671, 14.82142511,\n",
       "         9.88924862,  6.68621311,  7.19674258,  8.32258987, 13.98101028,\n",
       "         7.52821121,  8.32753598,  8.24333751,  6.59187418, 13.09558918,\n",
       "         8.09484249,  6.71813473,  7.08754728,  7.26011247,  6.68621311,\n",
       "        14.10105696,  7.65661809, 12.49666594,  6.50876563, 13.24747834,\n",
       "         5.51277536, 10.12730257,  5.61307803,  8.35437722, 11.79375939,\n",
       "        13.84840335, 13.88944311, 13.45192114,  7.84366876, 13.69620176,\n",
       "         7.24019264, 13.60949001, 13.86316443,  5.40486641,  9.01840981,\n",
       "         5.92699735, 13.30597   , 10.26901886, 10.18072387,  6.76647576,\n",
       "        10.51316105, 14.15849915, 11.48602261, 10.67359804, 10.68160065,\n",
       "         5.52147515,  5.37607134, 13.82791254,  9.12118367, 14.66170493,\n",
       "         8.62095276, 12.64618969, 12.02285589,  6.75430015,  5.37607134,\n",
       "         9.36506321,  5.38849455,  5.92355755,  9.97760649,  8.59551237,\n",
       "         5.44115321,  7.49869894,  6.62723448]),\n",
       " array([14.1116115 , 13.83867163, 13.55968605, 14.39480223, 13.2974656 ,\n",
       "         5.51717853,  8.09006776,  5.36737156,  8.04855268,  5.53355039,\n",
       "        12.46485498, 12.47671903,  5.40631487,  7.93160608, 13.19411175,\n",
       "        14.08998963,  8.10763668, 14.31013123, 11.11705374, 10.11922661,\n",
       "         5.25471   ,  7.84701044,  8.27219512,  5.22640432,  5.37607134,\n",
       "        13.18472708,  7.56189927, 13.49567658,  8.59464893,  5.52147516,\n",
       "        13.21399484, 10.18072387,  8.19552224,  8.68305067,  8.11063979,\n",
       "         7.39781207,  7.19582196,  7.75828196,  8.10648388,  4.9798139 ,\n",
       "         5.60986627, 10.57271461, 11.58936714, 12.89361113, 12.13988683,\n",
       "        13.13872835,  5.45209665,  5.58396681, 11.58918717,  5.3863864 ,\n",
       "         7.30150949, 12.94854887,  8.50420751, 13.47793869, 13.91018468,\n",
       "         5.45787304,  8.71360074, 13.28625445, 13.77545415, 14.21645599,\n",
       "        12.92929741, 14.65065401,  8.31527103,  5.44339687,  8.04342649,\n",
       "         5.35969948, 13.23811112, 10.0690615 , 11.6506476 ,  8.71108561,\n",
       "        13.87007076, 12.87582832,  5.91989462, 13.5508179 ,  5.99192971,\n",
       "         6.79302766, 13.7521886 , 11.5727026 , 10.54402915,  7.90198438,\n",
       "         9.43087494, 14.3993615 ,  8.17476322, 13.97197337,  7.53604306,\n",
       "        13.4990582 ,  7.53205579,  8.80969103,  7.17216412, 10.85156474,\n",
       "         7.40938876,  7.88889576, 12.02794162, 13.90129928, 11.37439398,\n",
       "         5.42348193,  9.62951133,  5.48109575, 11.54045855, 10.99455535,\n",
       "        13.43908531, 13.82611371,  7.99783833,  9.19848985, 12.67740497,\n",
       "        10.55288492, 14.87427847,  9.36708178, 14.81760369,  7.8949309 ,\n",
       "         7.3765541 , 13.84486674, 13.82579697,  8.35791745,  8.55961901,\n",
       "        12.94161939,  8.20047527, 14.04188884,  7.8177443 , 10.09500184,\n",
       "         6.8606002 , 11.64042688, 12.82491015,  7.28975444,  5.33108475,\n",
       "         6.36600087,  6.62807816,  8.84505479,  9.88274198,  8.18895187,\n",
       "         4.95134785, 11.5339134 ,  6.2329704 ,  5.91989462, 14.00477058,\n",
       "        14.90528723,  6.31077446, 13.49916049, 10.32799401,  4.96763842,\n",
       "         6.65933589, 14.17329188, 14.92983887,  5.38680666,  7.11184607,\n",
       "         9.28608692,  8.64487923,  7.84447942, 13.80752855, 13.78783201,\n",
       "         8.75030181,  7.66625369,  5.15361304,  8.50689541,  6.98794831,\n",
       "         5.44115321,  7.80442668, 10.2609429 , 14.12491517, 14.47210328,\n",
       "         9.56991989, 13.23931468, 11.03360329, 12.43914082,  6.26800778,\n",
       "         6.83882006, 13.80804607,  5.16231282,  7.40789238,  7.99887669,\n",
       "         7.20904058,  7.70706312,  6.70295613,  5.31302501,  7.61154439,\n",
       "         8.2988174 , 10.78222699,  7.28975444, 14.92287671, 14.82142511,\n",
       "         9.88924862,  6.68621311,  7.19674258,  8.32258987, 13.98101028,\n",
       "         7.52821121,  8.32753598,  8.24333751,  6.59187418, 13.09558918,\n",
       "         8.09484249,  6.71813473,  7.08754728,  7.26011247,  6.68621311,\n",
       "        14.10105696,  7.65661809, 12.49666594,  6.50876563, 13.24747834,\n",
       "         5.51277536, 10.12730257,  5.61307803,  8.35437722, 11.79375939,\n",
       "        13.84840335, 13.88944311, 13.45192114,  7.84366876, 13.69620176,\n",
       "         7.24019264, 13.60949001, 13.86316443,  5.40486641,  9.01840981,\n",
       "         5.92699735, 13.30597   , 10.26901886, 10.18072387,  6.76647576,\n",
       "        10.51316105, 14.15849915, 11.48602261, 10.67359804, 10.68160065,\n",
       "         5.52147515,  5.37607134, 13.82791254,  9.12118367, 14.66170493,\n",
       "         8.62095276, 12.64618969, 12.02285589,  6.75430015,  5.37607134,\n",
       "         9.36506321,  5.38849455,  5.92355755,  9.97760649,  8.59551237,\n",
       "         5.44115321,  7.49869894,  6.62723448]),\n",
       " array([14.1116115 , 13.83867163, 13.55968605, 14.39480223, 13.2974656 ,\n",
       "         5.51717853,  8.09006776,  5.36737156,  8.04855268,  5.53355039,\n",
       "        12.46485498, 12.47671903,  5.40631487,  7.93160608, 13.19411175,\n",
       "        14.08998963,  8.10763668, 14.31013123, 11.11705374, 10.11922661,\n",
       "         5.25471   ,  7.84701044,  8.27219512,  5.22640432,  5.37607134,\n",
       "        13.18472708,  7.56189927, 13.49567658,  8.59464893,  5.52147516,\n",
       "        13.21399484, 10.18072387,  8.19552224,  8.68305067,  8.11063979,\n",
       "         7.39781207,  7.19582196,  7.75828196,  8.10648388,  4.9798139 ,\n",
       "         5.60986627, 10.57271461, 11.58936714, 12.89361113, 12.13988683,\n",
       "        13.13872835,  5.45209665,  5.58396681, 11.58918717,  5.3863864 ,\n",
       "         7.30150949, 12.94854887,  8.50420751, 13.47793869, 13.91018468,\n",
       "         5.45787304,  8.71360074, 13.28625445, 13.77545415, 14.21645599,\n",
       "        12.92929741, 14.65065401,  8.31527103,  5.44339687,  8.04342649,\n",
       "         5.35969948, 13.23811112, 10.0690615 , 11.6506476 ,  8.71108561,\n",
       "        13.87007076, 12.87582832,  5.91989462, 13.5508179 ,  5.99192971,\n",
       "         6.79302766, 13.7521886 , 11.5727026 , 10.54402915,  7.90198438,\n",
       "         9.43087494, 14.3993615 ,  8.17476322, 13.97197337,  7.53604306,\n",
       "        13.4990582 ,  7.53205579,  8.80969103,  7.17216412, 10.85156474,\n",
       "         7.40938876,  7.88889576, 12.02794162, 13.90129928, 11.37439398,\n",
       "         5.42348193,  9.62951133,  5.48109575, 11.54045855, 10.99455535,\n",
       "        13.43908531, 13.82611371,  7.99783833,  9.19848985, 12.67740497,\n",
       "        10.55288492, 14.87427847,  9.36708178, 14.81760369,  7.8949309 ,\n",
       "         7.3765541 , 13.84486674, 13.82579697,  8.35791745,  8.55961901,\n",
       "        12.94161939,  8.20047527, 14.04188884,  7.8177443 , 10.09500184,\n",
       "         6.8606002 , 11.64042688, 12.82491015,  7.28975444,  5.33108475,\n",
       "         6.36600087,  6.62807816,  8.84505479,  9.88274198,  8.18895187,\n",
       "         4.95134785, 11.5339134 ,  6.2329704 ,  5.91989462, 14.00477058,\n",
       "        14.90528723,  6.31077446, 13.49916049, 10.32799401,  4.96763842,\n",
       "         6.65933589, 14.17329188, 14.92983887,  5.38680666,  7.11184607,\n",
       "         9.28608692,  8.64487923,  7.84447942, 13.80752855, 13.78783201,\n",
       "         8.75030181,  7.66625369,  5.15361304,  8.50689541,  6.98794831,\n",
       "         5.44115321,  7.80442668, 10.2609429 , 14.12491517, 14.47210328,\n",
       "         9.56991989, 13.23931468, 11.03360329, 12.43914082,  6.26800778,\n",
       "         6.83882006, 13.80804607,  5.16231282,  7.40789238,  7.99887669,\n",
       "         7.20904058,  7.70706312,  6.70295613,  5.31302501,  7.61154439,\n",
       "         8.2988174 , 10.78222699,  7.28975444, 14.92287671, 14.82142511,\n",
       "         9.88924862,  6.68621311,  7.19674258,  8.32258987, 13.98101028,\n",
       "         7.52821121,  8.32753598,  8.24333751,  6.59187418, 13.09558918,\n",
       "         8.09484249,  6.71813473,  7.08754728,  7.26011247,  6.68621311,\n",
       "        14.10105696,  7.65661809, 12.49666594,  6.50876563, 13.24747834,\n",
       "         5.51277536, 10.12730257,  5.61307803,  8.35437722, 11.79375939,\n",
       "        13.84840335, 13.88944311, 13.45192114,  7.84366876, 13.69620176,\n",
       "         7.24019264, 13.60949001, 13.86316443,  5.40486641,  9.01840981,\n",
       "         5.92699735, 13.30597   , 10.26901886, 10.18072387,  6.76647576,\n",
       "        10.51316105, 14.15849915, 11.48602261, 10.67359804, 10.68160065,\n",
       "         5.52147515,  5.37607134, 13.82791254,  9.12118367, 14.66170493,\n",
       "         8.62095276, 12.64618969, 12.02285589,  6.75430015,  5.37607134,\n",
       "         9.36506321,  5.38849455,  5.92355755,  9.97760649,  8.59551237,\n",
       "         5.44115321,  7.49869894,  6.62723448]),\n",
       " array([14.1116115 , 13.83867163, 13.55968605, 14.39480223, 13.2974656 ,\n",
       "         5.51717853,  8.09006776,  5.36737156,  8.04855268,  5.53355039,\n",
       "        12.46485498, 12.47671903,  5.40631487,  7.93160608, 13.19411175,\n",
       "        14.08998963,  8.10763668, 14.31013123, 11.11705374, 10.11922661,\n",
       "         5.25471   ,  7.84701044,  8.27219512,  5.22640432,  5.37607134,\n",
       "        13.18472708,  7.56189927, 13.49567658,  8.59464893,  5.52147516,\n",
       "        13.21399484, 10.18072387,  8.19552224,  8.68305067,  8.11063979,\n",
       "         7.39781207,  7.19582196,  7.75828196,  8.10648388,  4.9798139 ,\n",
       "         5.60986627, 10.57271461, 11.58936714, 12.89361113, 12.13988683,\n",
       "        13.13872835,  5.45209665,  5.58396681, 11.58918717,  5.3863864 ,\n",
       "         7.30150949, 12.94854887,  8.50420751, 13.47793869, 13.91018468,\n",
       "         5.45787304,  8.71360074, 13.28625445, 13.77545415, 14.21645599,\n",
       "        12.92929741, 14.65065401,  8.31527103,  5.44339687,  8.04342649,\n",
       "         5.35969948, 13.23811112, 10.0690615 , 11.6506476 ,  8.71108561,\n",
       "        13.87007076, 12.87582832,  5.91989462, 13.5508179 ,  5.99192971,\n",
       "         6.79302766, 13.7521886 , 11.5727026 , 10.54402915,  7.90198438,\n",
       "         9.43087494, 14.3993615 ,  8.17476322, 13.97197337,  7.53604306,\n",
       "        13.4990582 ,  7.53205579,  8.80969103,  7.17216412, 10.85156474,\n",
       "         7.40938876,  7.88889576, 12.02794162, 13.90129928, 11.37439398,\n",
       "         5.42348193,  9.62951133,  5.48109575, 11.54045855, 10.99455535,\n",
       "        13.43908531, 13.82611371,  7.99783833,  9.19848985, 12.67740497,\n",
       "        10.55288492, 14.87427847,  9.36708178, 14.81760369,  7.8949309 ,\n",
       "         7.3765541 , 13.84486674, 13.82579697,  8.35791745,  8.55961901,\n",
       "        12.94161939,  8.20047527, 14.04188884,  7.8177443 , 10.09500184,\n",
       "         6.8606002 , 11.64042688, 12.82491015,  7.28975444,  5.33108475,\n",
       "         6.36600087,  6.62807816,  8.84505479,  9.88274198,  8.18895187,\n",
       "         4.95134785, 11.5339134 ,  6.2329704 ,  5.91989462, 14.00477058,\n",
       "        14.90528723,  6.31077446, 13.49916049, 10.32799401,  4.96763842,\n",
       "         6.65933589, 14.17329188, 14.92983887,  5.38680666,  7.11184607,\n",
       "         9.28608692,  8.64487923,  7.84447942, 13.80752855, 13.78783201,\n",
       "         8.75030181,  7.66625369,  5.15361304,  8.50689541,  6.98794831,\n",
       "         5.44115321,  7.80442668, 10.2609429 , 14.12491517, 14.47210328,\n",
       "         9.56991989, 13.23931468, 11.03360329, 12.43914082,  6.26800778,\n",
       "         6.83882006, 13.80804607,  5.16231282,  7.40789238,  7.99887669,\n",
       "         7.20904058,  7.70706312,  6.70295613,  5.31302501,  7.61154439,\n",
       "         8.2988174 , 10.78222699,  7.28975444, 14.92287671, 14.82142511,\n",
       "         9.88924862,  6.68621311,  7.19674258,  8.32258987, 13.98101028,\n",
       "         7.52821121,  8.32753598,  8.24333751,  6.59187418, 13.09558918,\n",
       "         8.09484249,  6.71813473,  7.08754728,  7.26011247,  6.68621311,\n",
       "        14.10105696,  7.65661809, 12.49666594,  6.50876563, 13.24747834,\n",
       "         5.51277536, 10.12730257,  5.61307803,  8.35437722, 11.79375939,\n",
       "        13.84840335, 13.88944311, 13.45192114,  7.84366876, 13.69620176,\n",
       "         7.24019264, 13.60949001, 13.86316443,  5.40486641,  9.01840981,\n",
       "         5.92699735, 13.30597   , 10.26901886, 10.18072387,  6.76647576,\n",
       "        10.51316105, 14.15849915, 11.48602261, 10.67359804, 10.68160065,\n",
       "         5.52147515,  5.37607134, 13.82791254,  9.12118367, 14.66170493,\n",
       "         8.62095276, 12.64618969, 12.02285589,  6.75430015,  5.37607134,\n",
       "         9.36506321,  5.38849455,  5.92355755,  9.97760649,  8.59551237,\n",
       "         5.44115321,  7.49869894,  6.62723448]),\n",
       " array([14.1116115 , 13.83867163, 13.55968605, 14.39480223, 13.2974656 ,\n",
       "         5.51717853,  8.09006776,  5.36737156,  8.04855268,  5.53355039,\n",
       "        12.46485498, 12.47671903,  5.40631487,  7.93160608, 13.19411175,\n",
       "        14.08998963,  8.10763668, 14.31013123, 11.11705374, 10.11922661,\n",
       "         5.25471   ,  7.84701044,  8.27219512,  5.22640432,  5.37607134,\n",
       "        13.18472708,  7.56189927, 13.49567658,  8.59464893,  5.52147516,\n",
       "        13.21399484, 10.18072387,  8.19552224,  8.68305067,  8.11063979,\n",
       "         7.39781207,  7.19582196,  7.75828196,  8.10648388,  4.9798139 ,\n",
       "         5.60986627, 10.57271461, 11.58936714, 12.89361113, 12.13988683,\n",
       "        13.13872835,  5.45209665,  5.58396681, 11.58918717,  5.3863864 ,\n",
       "         7.30150949, 12.94854887,  8.50420751, 13.47793869, 13.91018468,\n",
       "         5.45787304,  8.71360074, 13.28625445, 13.77545415, 14.21645599,\n",
       "        12.92929741, 14.65065401,  8.31527103,  5.44339687,  8.04342649,\n",
       "         5.35969948, 13.23811112, 10.0690615 , 11.6506476 ,  8.71108561,\n",
       "        13.87007076, 12.87582832,  5.91989462, 13.5508179 ,  5.99192971,\n",
       "         6.79302766, 13.7521886 , 11.5727026 , 10.54402915,  7.90198438,\n",
       "         9.43087494, 14.3993615 ,  8.17476322, 13.97197337,  7.53604306,\n",
       "        13.4990582 ,  7.53205579,  8.80969103,  7.17216412, 10.85156474,\n",
       "         7.40938876,  7.88889576, 12.02794162, 13.90129928, 11.37439398,\n",
       "         5.42348193,  9.62951133,  5.48109575, 11.54045855, 10.99455535,\n",
       "        13.43908531, 13.82611371,  7.99783833,  9.19848985, 12.67740497,\n",
       "        10.55288492, 14.87427847,  9.36708178, 14.81760369,  7.8949309 ,\n",
       "         7.3765541 , 13.84486674, 13.82579697,  8.35791745,  8.55961901,\n",
       "        12.94161939,  8.20047527, 14.04188884,  7.8177443 , 10.09500184,\n",
       "         6.8606002 , 11.64042688, 12.82491015,  7.28975444,  5.33108475,\n",
       "         6.36600087,  6.62807816,  8.84505479,  9.88274198,  8.18895187,\n",
       "         4.95134785, 11.5339134 ,  6.2329704 ,  5.91989462, 14.00477058,\n",
       "        14.90528723,  6.31077446, 13.49916049, 10.32799401,  4.96763842,\n",
       "         6.65933589, 14.17329188, 14.92983887,  5.38680666,  7.11184607,\n",
       "         9.28608692,  8.64487923,  7.84447942, 13.80752855, 13.78783201,\n",
       "         8.75030181,  7.66625369,  5.15361304,  8.50689541,  6.98794831,\n",
       "         5.44115321,  7.80442668, 10.2609429 , 14.12491517, 14.47210328,\n",
       "         9.56991989, 13.23931468, 11.03360329, 12.43914082,  6.26800778,\n",
       "         6.83882006, 13.80804607,  5.16231282,  7.40789238,  7.99887669,\n",
       "         7.20904058,  7.70706312,  6.70295613,  5.31302501,  7.61154439,\n",
       "         8.2988174 , 10.78222699,  7.28975444, 14.92287671, 14.82142511,\n",
       "         9.88924862,  6.68621311,  7.19674258,  8.32258987, 13.98101028,\n",
       "         7.52821121,  8.32753598,  8.24333751,  6.59187418, 13.09558918,\n",
       "         8.09484249,  6.71813473,  7.08754728,  7.26011247,  6.68621311,\n",
       "        14.10105696,  7.65661809, 12.49666594,  6.50876563, 13.24747834,\n",
       "         5.51277536, 10.12730257,  5.61307803,  8.35437722, 11.79375939,\n",
       "        13.84840335, 13.88944311, 13.45192114,  7.84366876, 13.69620176,\n",
       "         7.24019264, 13.60949001, 13.86316443,  5.40486641,  9.01840981,\n",
       "         5.92699735, 13.30597   , 10.26901886, 10.18072387,  6.76647576,\n",
       "        10.51316105, 14.15849915, 11.48602261, 10.67359804, 10.68160065,\n",
       "         5.52147515,  5.37607134, 13.82791254,  9.12118367, 14.66170493,\n",
       "         8.62095276, 12.64618969, 12.02285589,  6.75430015,  5.37607134,\n",
       "         9.36506321,  5.38849455,  5.92355755,  9.97760649,  8.59551237,\n",
       "         5.44115321,  7.49869894,  6.62723448]),\n",
       " array([14.1116115 , 13.83867163, 13.55968605, 14.39480223, 13.2974656 ,\n",
       "         5.51717853,  8.09006776,  5.36737156,  8.04855268,  5.53355039,\n",
       "        12.46485498, 12.47671903,  5.40631487,  7.93160608, 13.19411175,\n",
       "        14.08998963,  8.10763668, 14.31013123, 11.11705374, 10.11922661,\n",
       "         5.25471   ,  7.84701044,  8.27219512,  5.22640432,  5.37607134,\n",
       "        13.18472708,  7.56189927, 13.49567658,  8.59464893,  5.52147516,\n",
       "        13.21399484, 10.18072387,  8.19552224,  8.68305067,  8.11063979,\n",
       "         7.39781207,  7.19582196,  7.75828196,  8.10648388,  4.9798139 ,\n",
       "         5.60986627, 10.57271461, 11.58936714, 12.89361113, 12.13988683,\n",
       "        13.13872835,  5.45209665,  5.58396681, 11.58918717,  5.3863864 ,\n",
       "         7.30150949, 12.94854887,  8.50420751, 13.47793869, 13.91018468,\n",
       "         5.45787304,  8.71360074, 13.28625445, 13.77545415, 14.21645599,\n",
       "        12.92929741, 14.65065401,  8.31527103,  5.44339687,  8.04342649,\n",
       "         5.35969948, 13.23811112, 10.0690615 , 11.6506476 ,  8.71108561,\n",
       "        13.87007076, 12.87582832,  5.91989462, 13.5508179 ,  5.99192971,\n",
       "         6.79302766, 13.7521886 , 11.5727026 , 10.54402915,  7.90198438,\n",
       "         9.43087494, 14.3993615 ,  8.17476322, 13.97197337,  7.53604306,\n",
       "        13.4990582 ,  7.53205579,  8.80969103,  7.17216412, 10.85156474,\n",
       "         7.40938876,  7.88889576, 12.02794162, 13.90129928, 11.37439398,\n",
       "         5.42348193,  9.62951133,  5.48109575, 11.54045855, 10.99455535,\n",
       "        13.43908531, 13.82611371,  7.99783833,  9.19848985, 12.67740497,\n",
       "        10.55288492, 14.87427847,  9.36708178, 14.81760369,  7.8949309 ,\n",
       "         7.3765541 , 13.84486674, 13.82579697,  8.35791745,  8.55961901,\n",
       "        12.94161939,  8.20047527, 14.04188884,  7.8177443 , 10.09500184,\n",
       "         6.8606002 , 11.64042688, 12.82491015,  7.28975444,  5.33108475,\n",
       "         6.36600087,  6.62807816,  8.84505479,  9.88274198,  8.18895187,\n",
       "         4.95134785, 11.5339134 ,  6.2329704 ,  5.91989462, 14.00477058,\n",
       "        14.90528723,  6.31077446, 13.49916049, 10.32799401,  4.96763842,\n",
       "         6.65933589, 14.17329188, 14.92983887,  5.38680666,  7.11184607,\n",
       "         9.28608692,  8.64487923,  7.84447942, 13.80752855, 13.78783201,\n",
       "         8.75030181,  7.66625369,  5.15361304,  8.50689541,  6.98794831,\n",
       "         5.44115321,  7.80442668, 10.2609429 , 14.12491517, 14.47210328,\n",
       "         9.56991989, 13.23931468, 11.03360329, 12.43914082,  6.26800778,\n",
       "         6.83882006, 13.80804607,  5.16231282,  7.40789238,  7.99887669,\n",
       "         7.20904058,  7.70706312,  6.70295613,  5.31302501,  7.61154439,\n",
       "         8.2988174 , 10.78222699,  7.28975444, 14.92287671, 14.82142511,\n",
       "         9.88924862,  6.68621311,  7.19674258,  8.32258987, 13.98101028,\n",
       "         7.52821121,  8.32753598,  8.24333751,  6.59187418, 13.09558918,\n",
       "         8.09484249,  6.71813473,  7.08754728,  7.26011247,  6.68621311,\n",
       "        14.10105696,  7.65661809, 12.49666594,  6.50876563, 13.24747834,\n",
       "         5.51277536, 10.12730257,  5.61307803,  8.35437722, 11.79375939,\n",
       "        13.84840335, 13.88944311, 13.45192114,  7.84366876, 13.69620176,\n",
       "         7.24019264, 13.60949001, 13.86316443,  5.40486641,  9.01840981,\n",
       "         5.92699735, 13.30597   , 10.26901886, 10.18072387,  6.76647576,\n",
       "        10.51316105, 14.15849915, 11.48602261, 10.67359804, 10.68160065,\n",
       "         5.52147515,  5.37607134, 13.82791254,  9.12118367, 14.66170493,\n",
       "         8.62095276, 12.64618969, 12.02285589,  6.75430015,  5.37607134,\n",
       "         9.36506321,  5.38849455,  5.92355755,  9.97760649,  8.59551237,\n",
       "         5.44115321,  7.49869894,  6.62723448]),\n",
       " array([14.1116115 , 13.83867163, 13.55968605, 14.39480223, 13.2974656 ,\n",
       "         5.51717853,  8.09006776,  5.36737156,  8.04855268,  5.53355039,\n",
       "        12.46485498, 12.47671903,  5.40631487,  7.93160608, 13.19411175,\n",
       "        14.08998963,  8.10763668, 14.31013123, 11.11705374, 10.11922661,\n",
       "         5.25471   ,  7.84701044,  8.27219512,  5.22640432,  5.37607134,\n",
       "        13.18472708,  7.56189927, 13.49567658,  8.59464893,  5.52147516,\n",
       "        13.21399484, 10.18072387,  8.19552224,  8.68305067,  8.11063979,\n",
       "         7.39781207,  7.19582196,  7.75828196,  8.10648388,  4.9798139 ,\n",
       "         5.60986627, 10.57271461, 11.58936714, 12.89361113, 12.13988683,\n",
       "        13.13872835,  5.45209665,  5.58396681, 11.58918717,  5.3863864 ,\n",
       "         7.30150949, 12.94854887,  8.50420751, 13.47793869, 13.91018468,\n",
       "         5.45787304,  8.71360074, 13.28625445, 13.77545415, 14.21645599,\n",
       "        12.92929741, 14.65065401,  8.31527103,  5.44339687,  8.04342649,\n",
       "         5.35969948, 13.23811112, 10.0690615 , 11.6506476 ,  8.71108561,\n",
       "        13.87007076, 12.87582832,  5.91989462, 13.5508179 ,  5.99192971,\n",
       "         6.79302766, 13.7521886 , 11.5727026 , 10.54402915,  7.90198438,\n",
       "         9.43087494, 14.3993615 ,  8.17476322, 13.97197337,  7.53604306,\n",
       "        13.4990582 ,  7.53205579,  8.80969103,  7.17216412, 10.85156474,\n",
       "         7.40938876,  7.88889576, 12.02794162, 13.90129928, 11.37439398,\n",
       "         5.42348193,  9.62951133,  5.48109575, 11.54045855, 10.99455535,\n",
       "        13.43908531, 13.82611371,  7.99783833,  9.19848985, 12.67740497,\n",
       "        10.55288492, 14.87427847,  9.36708178, 14.81760369,  7.8949309 ,\n",
       "         7.3765541 , 13.84486674, 13.82579697,  8.35791745,  8.55961901,\n",
       "        12.94161939,  8.20047527, 14.04188884,  7.8177443 , 10.09500184,\n",
       "         6.8606002 , 11.64042688, 12.82491015,  7.28975444,  5.33108475,\n",
       "         6.36600087,  6.62807816,  8.84505479,  9.88274198,  8.18895187,\n",
       "         4.95134785, 11.5339134 ,  6.2329704 ,  5.91989462, 14.00477058,\n",
       "        14.90528723,  6.31077446, 13.49916049, 10.32799401,  4.96763842,\n",
       "         6.65933589, 14.17329188, 14.92983887,  5.38680666,  7.11184607,\n",
       "         9.28608692,  8.64487923,  7.84447942, 13.80752855, 13.78783201,\n",
       "         8.75030181,  7.66625369,  5.15361304,  8.50689541,  6.98794831,\n",
       "         5.44115321,  7.80442668, 10.2609429 , 14.12491517, 14.47210328,\n",
       "         9.56991989, 13.23931468, 11.03360329, 12.43914082,  6.26800778,\n",
       "         6.83882006, 13.80804607,  5.16231282,  7.40789238,  7.99887669,\n",
       "         7.20904058,  7.70706312,  6.70295613,  5.31302501,  7.61154439,\n",
       "         8.2988174 , 10.78222699,  7.28975444, 14.92287671, 14.82142511,\n",
       "         9.88924862,  6.68621311,  7.19674258,  8.32258987, 13.98101028,\n",
       "         7.52821121,  8.32753598,  8.24333751,  6.59187418, 13.09558918,\n",
       "         8.09484249,  6.71813473,  7.08754728,  7.26011247,  6.68621311,\n",
       "        14.10105696,  7.65661809, 12.49666594,  6.50876563, 13.24747834,\n",
       "         5.51277536, 10.12730257,  5.61307803,  8.35437722, 11.79375939,\n",
       "        13.84840335, 13.88944311, 13.45192114,  7.84366876, 13.69620176,\n",
       "         7.24019264, 13.60949001, 13.86316443,  5.40486641,  9.01840981,\n",
       "         5.92699735, 13.30597   , 10.26901886, 10.18072387,  6.76647576,\n",
       "        10.51316105, 14.15849915, 11.48602261, 10.67359804, 10.68160065,\n",
       "         5.52147515,  5.37607134, 13.82791254,  9.12118367, 14.66170493,\n",
       "         8.62095276, 12.64618969, 12.02285589,  6.75430015,  5.37607134,\n",
       "         9.36506321,  5.38849455,  5.92355755,  9.97760649,  8.59551237,\n",
       "         5.44115321,  7.49869894,  6.62723448]),\n",
       " array([14.1116115 , 13.83867163, 13.55968605, 14.39480223, 13.2974656 ,\n",
       "         5.51717853,  8.09006776,  5.36737156,  8.04855268,  5.53355039,\n",
       "        12.46485498, 12.47671903,  5.40631487,  7.93160608, 13.19411175,\n",
       "        14.08998963,  8.10763668, 14.31013123, 11.11705374, 10.11922661,\n",
       "         5.25471   ,  7.84701044,  8.27219512,  5.22640432,  5.37607134,\n",
       "        13.18472708,  7.56189927, 13.49567658,  8.59464893,  5.52147516,\n",
       "        13.21399484, 10.18072387,  8.19552224,  8.68305067,  8.11063979,\n",
       "         7.39781207,  7.19582196,  7.75828196,  8.10648388,  4.9798139 ,\n",
       "         5.60986627, 10.57271461, 11.58936714, 12.89361113, 12.13988683,\n",
       "        13.13872835,  5.45209665,  5.58396681, 11.58918717,  5.3863864 ,\n",
       "         7.30150949, 12.94854887,  8.50420751, 13.47793869, 13.91018468,\n",
       "         5.45787304,  8.71360074, 13.28625445, 13.77545415, 14.21645599,\n",
       "        12.92929741, 14.65065401,  8.31527103,  5.44339687,  8.04342649,\n",
       "         5.35969948, 13.23811112, 10.0690615 , 11.6506476 ,  8.71108561,\n",
       "        13.87007076, 12.87582832,  5.91989462, 13.5508179 ,  5.99192971,\n",
       "         6.79302766, 13.7521886 , 11.5727026 , 10.54402915,  7.90198438,\n",
       "         9.43087494, 14.3993615 ,  8.17476322, 13.97197337,  7.53604306,\n",
       "        13.4990582 ,  7.53205579,  8.80969103,  7.17216412, 10.85156474,\n",
       "         7.40938876,  7.88889576, 12.02794162, 13.90129928, 11.37439398,\n",
       "         5.42348193,  9.62951133,  5.48109575, 11.54045855, 10.99455535,\n",
       "        13.43908531, 13.82611371,  7.99783833,  9.19848985, 12.67740497,\n",
       "        10.55288492, 14.87427847,  9.36708178, 14.81760369,  7.8949309 ,\n",
       "         7.3765541 , 13.84486674, 13.82579697,  8.35791745,  8.55961901,\n",
       "        12.94161939,  8.20047527, 14.04188884,  7.8177443 , 10.09500184,\n",
       "         6.8606002 , 11.64042688, 12.82491015,  7.28975444,  5.33108475,\n",
       "         6.36600087,  6.62807816,  8.84505479,  9.88274198,  8.18895187,\n",
       "         4.95134785, 11.5339134 ,  6.2329704 ,  5.91989462, 14.00477058,\n",
       "        14.90528723,  6.31077446, 13.49916049, 10.32799401,  4.96763842,\n",
       "         6.65933589, 14.17329188, 14.92983887,  5.38680666,  7.11184607,\n",
       "         9.28608692,  8.64487923,  7.84447942, 13.80752855, 13.78783201,\n",
       "         8.75030181,  7.66625369,  5.15361304,  8.50689541,  6.98794831,\n",
       "         5.44115321,  7.80442668, 10.2609429 , 14.12491517, 14.47210328,\n",
       "         9.56991989, 13.23931468, 11.03360329, 12.43914082,  6.26800778,\n",
       "         6.83882006, 13.80804607,  5.16231282,  7.40789238,  7.99887669,\n",
       "         7.20904058,  7.70706312,  6.70295613,  5.31302501,  7.61154439,\n",
       "         8.2988174 , 10.78222699,  7.28975444, 14.92287671, 14.82142511,\n",
       "         9.88924862,  6.68621311,  7.19674258,  8.32258987, 13.98101028,\n",
       "         7.52821121,  8.32753598,  8.24333751,  6.59187418, 13.09558918,\n",
       "         8.09484249,  6.71813473,  7.08754728,  7.26011247,  6.68621311,\n",
       "        14.10105696,  7.65661809, 12.49666594,  6.50876563, 13.24747834,\n",
       "         5.51277536, 10.12730257,  5.61307803,  8.35437722, 11.79375939,\n",
       "        13.84840335, 13.88944311, 13.45192114,  7.84366876, 13.69620176,\n",
       "         7.24019264, 13.60949001, 13.86316443,  5.40486641,  9.01840981,\n",
       "         5.92699735, 13.30597   , 10.26901886, 10.18072387,  6.76647576,\n",
       "        10.51316105, 14.15849915, 11.48602261, 10.67359804, 10.68160065,\n",
       "         5.52147515,  5.37607134, 13.82791254,  9.12118367, 14.66170493,\n",
       "         8.62095276, 12.64618969, 12.02285589,  6.75430015,  5.37607134,\n",
       "         9.36506321,  5.38849455,  5.92355755,  9.97760649,  8.59551237,\n",
       "         5.44115321,  7.49869894,  6.62723448]),\n",
       " array([14.1116115 , 13.83867163, 13.55968605, 14.39480223, 13.2974656 ,\n",
       "         5.51717853,  8.09006776,  5.36737156,  8.04855268,  5.53355039,\n",
       "        12.46485498, 12.47671903,  5.40631487,  7.93160608, 13.19411175,\n",
       "        14.08998963,  8.10763668, 14.31013123, 11.11705374, 10.11922661,\n",
       "         5.25471   ,  7.84701044,  8.27219512,  5.22640432,  5.37607134,\n",
       "        13.18472708,  7.56189927, 13.49567658,  8.59464893,  5.52147516,\n",
       "        13.21399484, 10.18072387,  8.19552224,  8.68305067,  8.11063979,\n",
       "         7.39781207,  7.19582196,  7.75828196,  8.10648388,  4.9798139 ,\n",
       "         5.60986627, 10.57271461, 11.58936714, 12.89361113, 12.13988683,\n",
       "        13.13872835,  5.45209665,  5.58396681, 11.58918717,  5.3863864 ,\n",
       "         7.30150949, 12.94854887,  8.50420751, 13.47793869, 13.91018468,\n",
       "         5.45787304,  8.71360074, 13.28625445, 13.77545415, 14.21645599,\n",
       "        12.92929741, 14.65065401,  8.31527103,  5.44339687,  8.04342649,\n",
       "         5.35969948, 13.23811112, 10.0690615 , 11.6506476 ,  8.71108561,\n",
       "        13.87007076, 12.87582832,  5.91989462, 13.5508179 ,  5.99192971,\n",
       "         6.79302766, 13.7521886 , 11.5727026 , 10.54402915,  7.90198438,\n",
       "         9.43087494, 14.3993615 ,  8.17476322, 13.97197337,  7.53604306,\n",
       "        13.4990582 ,  7.53205579,  8.80969103,  7.17216412, 10.85156474,\n",
       "         7.40938876,  7.88889576, 12.02794162, 13.90129928, 11.37439398,\n",
       "         5.42348193,  9.62951133,  5.48109575, 11.54045855, 10.99455535,\n",
       "        13.43908531, 13.82611371,  7.99783833,  9.19848985, 12.67740497,\n",
       "        10.55288492, 14.87427847,  9.36708178, 14.81760369,  7.8949309 ,\n",
       "         7.3765541 , 13.84486674, 13.82579697,  8.35791745,  8.55961901,\n",
       "        12.94161939,  8.20047527, 14.04188884,  7.8177443 , 10.09500184,\n",
       "         6.8606002 , 11.64042688, 12.82491015,  7.28975444,  5.33108475,\n",
       "         6.36600087,  6.62807816,  8.84505479,  9.88274198,  8.18895187,\n",
       "         4.95134785, 11.5339134 ,  6.2329704 ,  5.91989462, 14.00477058,\n",
       "        14.90528723,  6.31077446, 13.49916049, 10.32799401,  4.96763842,\n",
       "         6.65933589, 14.17329188, 14.92983887,  5.38680666,  7.11184607,\n",
       "         9.28608692,  8.64487923,  7.84447942, 13.80752855, 13.78783201,\n",
       "         8.75030181,  7.66625369,  5.15361304,  8.50689541,  6.98794831,\n",
       "         5.44115321,  7.80442668, 10.2609429 , 14.12491517, 14.47210328,\n",
       "         9.56991989, 13.23931468, 11.03360329, 12.43914082,  6.26800778,\n",
       "         6.83882006, 13.80804607,  5.16231282,  7.40789238,  7.99887669,\n",
       "         7.20904058,  7.70706312,  6.70295613,  5.31302501,  7.61154439,\n",
       "         8.2988174 , 10.78222699,  7.28975444, 14.92287671, 14.82142511,\n",
       "         9.88924862,  6.68621311,  7.19674258,  8.32258987, 13.98101028,\n",
       "         7.52821121,  8.32753598,  8.24333751,  6.59187418, 13.09558918,\n",
       "         8.09484249,  6.71813473,  7.08754728,  7.26011247,  6.68621311,\n",
       "        14.10105696,  7.65661809, 12.49666594,  6.50876563, 13.24747834,\n",
       "         5.51277536, 10.12730257,  5.61307803,  8.35437722, 11.79375939,\n",
       "        13.84840335, 13.88944311, 13.45192114,  7.84366876, 13.69620176,\n",
       "         7.24019264, 13.60949001, 13.86316443,  5.40486641,  9.01840981,\n",
       "         5.92699735, 13.30597   , 10.26901886, 10.18072387,  6.76647576,\n",
       "        10.51316105, 14.15849915, 11.48602261, 10.67359804, 10.68160065,\n",
       "         5.52147515,  5.37607134, 13.82791254,  9.12118367, 14.66170493,\n",
       "         8.62095276, 12.64618969, 12.02285589,  6.75430015,  5.37607134,\n",
       "         9.36506321,  5.38849455,  5.92355755,  9.97760649,  8.59551237,\n",
       "         5.44115321,  7.49869894,  6.62723448])]"
      ]
     },
     "execution_count": 68,
     "metadata": {},
     "output_type": "execute_result"
    }
   ],
   "source": [
    "preds"
   ]
  },
  {
   "cell_type": "code",
   "execution_count": 69,
   "id": "d6e82df8",
   "metadata": {},
   "outputs": [],
   "source": [
    "# 평균값 구해서 저장\n",
    "kfoldLightGBM['box_off_num'] = np.mean(preds, axis = 0)"
   ]
  },
  {
   "cell_type": "code",
   "execution_count": 70,
   "id": "67708181",
   "metadata": {},
   "outputs": [
    {
     "data": {
      "text/html": [
       "<div>\n",
       "<style scoped>\n",
       "    .dataframe tbody tr th:only-of-type {\n",
       "        vertical-align: middle;\n",
       "    }\n",
       "\n",
       "    .dataframe tbody tr th {\n",
       "        vertical-align: top;\n",
       "    }\n",
       "\n",
       "    .dataframe thead th {\n",
       "        text-align: right;\n",
       "    }\n",
       "</style>\n",
       "<table border=\"1\" class=\"dataframe\">\n",
       "  <thead>\n",
       "    <tr style=\"text-align: right;\">\n",
       "      <th></th>\n",
       "      <th>title</th>\n",
       "      <th>box_off_num</th>\n",
       "    </tr>\n",
       "  </thead>\n",
       "  <tbody>\n",
       "    <tr>\n",
       "      <th>0</th>\n",
       "      <td>용서는 없다</td>\n",
       "      <td>14.111611</td>\n",
       "    </tr>\n",
       "    <tr>\n",
       "      <th>1</th>\n",
       "      <td>아빠가 여자를 좋아해</td>\n",
       "      <td>13.838672</td>\n",
       "    </tr>\n",
       "    <tr>\n",
       "      <th>2</th>\n",
       "      <td>하모니</td>\n",
       "      <td>13.559686</td>\n",
       "    </tr>\n",
       "    <tr>\n",
       "      <th>3</th>\n",
       "      <td>의형제</td>\n",
       "      <td>14.394802</td>\n",
       "    </tr>\n",
       "    <tr>\n",
       "      <th>4</th>\n",
       "      <td>평행 이론</td>\n",
       "      <td>13.297466</td>\n",
       "    </tr>\n",
       "  </tbody>\n",
       "</table>\n",
       "</div>"
      ],
      "text/plain": [
       "         title  box_off_num\n",
       "0       용서는 없다    14.111611\n",
       "1  아빠가 여자를 좋아해    13.838672\n",
       "2          하모니    13.559686\n",
       "3          의형제    14.394802\n",
       "4        평행 이론    13.297466"
      ]
     },
     "execution_count": 70,
     "metadata": {},
     "output_type": "execute_result"
    }
   ],
   "source": [
    "kfoldLightGBM.head()"
   ]
  },
  {
   "cell_type": "code",
   "execution_count": 71,
   "id": "d1aaa0ef",
   "metadata": {},
   "outputs": [],
   "source": [
    "kfoldLightGBM.to_csv('kfoldLightGBM.csv', index = False)"
   ]
  },
  {
   "cell_type": "code",
   "execution_count": 74,
   "id": "a5c08fdf",
   "metadata": {},
   "outputs": [],
   "source": [
    "from sklearn.model_selection import GridSearchCV"
   ]
  },
  {
   "cell_type": "code",
   "execution_count": 76,
   "id": "53b53ab4",
   "metadata": {},
   "outputs": [],
   "source": [
    "model = lgb.LGBMRegressor(random_state=777, n_estimators=1000)\n",
    "\n",
    "params = {\n",
    "    'learning_rate': [0.1, 0.01, 0.003],\n",
    "    'min_child_samples': [20, 30]}\n",
    "\n",
    "gs = GridSearchCV(estimator=model,\n",
    "                  param_grid=params,\n",
    "                  scoring='neg_mean_squared_error',\n",
    "                  cv = kf)"
   ]
  },
  {
   "cell_type": "code",
   "execution_count": 77,
   "id": "b9aa403b",
   "metadata": {},
   "outputs": [
    {
     "data": {
      "text/plain": [
       "GridSearchCV(cv=KFold(n_splits=10, random_state=777, shuffle=True),\n",
       "             estimator=LGBMRegressor(n_estimators=1000, random_state=777),\n",
       "             param_grid={'learning_rate': [0.1, 0.01, 0.003],\n",
       "                         'min_child_samples': [20, 30]},\n",
       "             scoring='neg_mean_squared_error')"
      ]
     },
     "execution_count": 77,
     "metadata": {},
     "output_type": "execute_result"
    }
   ],
   "source": [
    "gs.fit(X, y)"
   ]
  },
  {
   "cell_type": "code",
   "execution_count": 78,
   "id": "7073a712",
   "metadata": {},
   "outputs": [
    {
     "data": {
      "text/plain": [
       "{'learning_rate': 0.003, 'min_child_samples': 20}"
      ]
     },
     "execution_count": 78,
     "metadata": {},
     "output_type": "execute_result"
    }
   ],
   "source": [
    "gs.best_params_"
   ]
  },
  {
   "cell_type": "code",
   "execution_count": 80,
   "id": "dd47158f",
   "metadata": {},
   "outputs": [
    {
     "name": "stderr",
     "output_type": "stream",
     "text": [
      "C:\\Users\\shcho\\anaconda3\\envs\\study\\lib\\site-packages\\lightgbm\\sklearn.py:726: UserWarning: 'early_stopping_rounds' argument is deprecated and will be removed in a future release of LightGBM. Pass 'early_stopping()' callback via 'callbacks' argument instead.\n",
      "  _log_warning(\"'early_stopping_rounds' argument is deprecated and will be removed in a future release of LightGBM. \"\n",
      "C:\\Users\\shcho\\anaconda3\\envs\\study\\lib\\site-packages\\lightgbm\\sklearn.py:736: UserWarning: 'verbose' argument is deprecated and will be removed in a future release of LightGBM. Pass 'log_evaluation()' callback via 'callbacks' argument instead.\n",
      "  _log_warning(\"'verbose' argument is deprecated and will be removed in a future release of LightGBM. \"\n"
     ]
    },
    {
     "name": "stdout",
     "output_type": "stream",
     "text": [
      "[100]\tvalid_0's l2: 6.92218\n",
      "[200]\tvalid_0's l2: 5.0503\n",
      "[300]\tvalid_0's l2: 4.02609\n",
      "[400]\tvalid_0's l2: 3.44407\n",
      "[500]\tvalid_0's l2: 3.1181\n",
      "[600]\tvalid_0's l2: 2.94528\n",
      "[700]\tvalid_0's l2: 2.86328\n",
      "[800]\tvalid_0's l2: 2.83519\n",
      "[900]\tvalid_0's l2: 2.84983\n",
      "[100]\tvalid_0's l2: 5.97869\n",
      "[200]\tvalid_0's l2: 4.05224\n",
      "[300]\tvalid_0's l2: 3.09808\n",
      "[400]\tvalid_0's l2: 2.59942\n",
      "[500]\tvalid_0's l2: 2.35412\n",
      "[600]\tvalid_0's l2: 2.23772\n",
      "[700]\tvalid_0's l2: 2.17273\n",
      "[800]\tvalid_0's l2: 2.14244\n",
      "[900]\tvalid_0's l2: 2.13321\n",
      "[100]\tvalid_0's l2: 8.88782\n",
      "[200]\tvalid_0's l2: 6.54582\n",
      "[300]\tvalid_0's l2: 5.18572\n",
      "[400]\tvalid_0's l2: 4.38384\n",
      "[500]\tvalid_0's l2: 3.88921\n",
      "[600]\tvalid_0's l2: 3.55968\n",
      "[700]\tvalid_0's l2: 3.30575\n",
      "[800]\tvalid_0's l2: 3.15118\n",
      "[900]\tvalid_0's l2: 3.02982\n",
      "[1000]\tvalid_0's l2: 2.9555\n",
      "[100]\tvalid_0's l2: 7.03791\n",
      "[200]\tvalid_0's l2: 4.85391\n",
      "[300]\tvalid_0's l2: 3.64353\n",
      "[400]\tvalid_0's l2: 2.9522\n",
      "[500]\tvalid_0's l2: 2.55398\n",
      "[600]\tvalid_0's l2: 2.37374\n",
      "[700]\tvalid_0's l2: 2.30521\n",
      "[800]\tvalid_0's l2: 2.24011\n",
      "[900]\tvalid_0's l2: 2.22409\n",
      "[1000]\tvalid_0's l2: 2.2146\n",
      "[100]\tvalid_0's l2: 7.92461\n",
      "[200]\tvalid_0's l2: 5.99386\n",
      "[300]\tvalid_0's l2: 4.98804\n",
      "[400]\tvalid_0's l2: 4.45828\n",
      "[500]\tvalid_0's l2: 4.21766\n",
      "[600]\tvalid_0's l2: 4.12435\n",
      "[700]\tvalid_0's l2: 4.07523\n",
      "[800]\tvalid_0's l2: 4.03031\n",
      "[900]\tvalid_0's l2: 4.02132\n",
      "[100]\tvalid_0's l2: 7.57514\n",
      "[200]\tvalid_0's l2: 5.23826\n",
      "[300]\tvalid_0's l2: 3.85862\n",
      "[400]\tvalid_0's l2: 3.07702\n",
      "[500]\tvalid_0's l2: 2.5507\n",
      "[600]\tvalid_0's l2: 2.22659\n",
      "[700]\tvalid_0's l2: 2.04519\n",
      "[800]\tvalid_0's l2: 1.93297\n",
      "[900]\tvalid_0's l2: 1.84565\n",
      "[1000]\tvalid_0's l2: 1.78463\n",
      "[100]\tvalid_0's l2: 7.62394\n",
      "[200]\tvalid_0's l2: 5.54078\n",
      "[300]\tvalid_0's l2: 4.38749\n",
      "[400]\tvalid_0's l2: 3.72325\n",
      "[500]\tvalid_0's l2: 3.36563\n",
      "[600]\tvalid_0's l2: 3.12695\n",
      "[700]\tvalid_0's l2: 2.99926\n",
      "[800]\tvalid_0's l2: 2.91871\n",
      "[900]\tvalid_0's l2: 2.87133\n",
      "[100]\tvalid_0's l2: 7.41682\n",
      "[200]\tvalid_0's l2: 5.01904\n",
      "[300]\tvalid_0's l2: 3.68662\n",
      "[400]\tvalid_0's l2: 2.92476\n",
      "[500]\tvalid_0's l2: 2.49078\n",
      "[600]\tvalid_0's l2: 2.23424\n",
      "[700]\tvalid_0's l2: 2.08164\n",
      "[800]\tvalid_0's l2: 1.96222\n",
      "[900]\tvalid_0's l2: 1.88714\n",
      "[1000]\tvalid_0's l2: 1.83437\n",
      "[100]\tvalid_0's l2: 6.76165\n",
      "[200]\tvalid_0's l2: 4.93465\n",
      "[300]\tvalid_0's l2: 3.99928\n",
      "[400]\tvalid_0's l2: 3.58609\n",
      "[500]\tvalid_0's l2: 3.41136\n",
      "[600]\tvalid_0's l2: 3.32269\n",
      "[700]\tvalid_0's l2: 3.26895\n",
      "[800]\tvalid_0's l2: 3.25147\n",
      "[900]\tvalid_0's l2: 3.25034\n",
      "[1000]\tvalid_0's l2: 3.21542\n",
      "[100]\tvalid_0's l2: 5.88387\n",
      "[200]\tvalid_0's l2: 3.9196\n",
      "[300]\tvalid_0's l2: 2.83882\n",
      "[400]\tvalid_0's l2: 2.23922\n",
      "[500]\tvalid_0's l2: 1.91461\n",
      "[600]\tvalid_0's l2: 1.7297\n",
      "[700]\tvalid_0's l2: 1.63187\n",
      "[800]\tvalid_0's l2: 1.5867\n",
      "[900]\tvalid_0's l2: 1.55957\n",
      "[1000]\tvalid_0's l2: 1.5394\n"
     ]
    }
   ],
   "source": [
    "model = lgb.LGBMRegressor(random_state=777, n_estimators=1000, learning_rate=0.003, min_child_samples=30)\n",
    "\n",
    "models = []\n",
    "\n",
    "for train_idx, val_idx in kf.split(X):\n",
    "    x_t = X.iloc[train_idx]\n",
    "    y_t = y.iloc[train_idx]\n",
    "    x_val = X.iloc[val_idx]\n",
    "    y_val = y.iloc[val_idx]\n",
    "    \n",
    "    models.append(model.fit(x_t, y_t, eval_set=(x_val, y_val), early_stopping_rounds=100, verbose=100))"
   ]
  },
  {
   "cell_type": "code",
   "execution_count": 82,
   "id": "8f616691",
   "metadata": {},
   "outputs": [],
   "source": [
    "preds = []\n",
    "for model in models:\n",
    "    preds.append(model.predict(target))"
   ]
  },
  {
   "cell_type": "code",
   "execution_count": 83,
   "id": "0ac61842",
   "metadata": {},
   "outputs": [
    {
     "data": {
      "text/plain": [
       "-2.4672952014428793"
      ]
     },
     "execution_count": 83,
     "metadata": {},
     "output_type": "execute_result"
    }
   ],
   "source": [
    "gs.best_score_"
   ]
  },
  {
   "cell_type": "code",
   "execution_count": 84,
   "id": "9d960308",
   "metadata": {},
   "outputs": [],
   "source": [
    "gslgbm = submission.copy()"
   ]
  },
  {
   "cell_type": "code",
   "execution_count": 85,
   "id": "bcf6dd26",
   "metadata": {},
   "outputs": [],
   "source": [
    "gslgbm['box_off_num'] = np.mean(preds, axis=0)"
   ]
  },
  {
   "cell_type": "code",
   "execution_count": 86,
   "id": "b2442365",
   "metadata": {},
   "outputs": [],
   "source": [
    "gslgbm.to_csv('gslgbm.csv', index=False)"
   ]
  },
  {
   "cell_type": "markdown",
   "id": "3b827b71",
   "metadata": {},
   "source": [
    "# 궁금한점\n",
    "\n",
    "1. 일반적으로 데이터프레임의 한 컬럼을 지칭할 때 train['box_off_num'] 이렇게 쓰는데  train.box_off_num 이렇게 써도 되는 것 같고 이렇게 썼을 때 차이점은? \n",
    "2. for train_idx, val_idx in kf.split(X) 여기서 인자로 X만 넣어주는 것과, y도 같이 인자를 2개 넣어주는 것은 어떤 차이가 있는가?"
   ]
  },
  {
   "cell_type": "markdown",
   "id": "a9124ec5",
   "metadata": {},
   "source": [
    "**title** : 영화의 제목  \n",
    "\n",
    "**distributor** : 배급사  \n",
    "\n",
    "**genre** : 장르  \n",
    "\n",
    "**release_time** : 개봉일  \n",
    "\n",
    "**time** : 상영시간(분)  \n",
    "\n",
    "**screening_rat** : 상영등급  \n",
    "\n",
    "**director** : 감독이름  \n",
    "\n",
    "**dir_prev_bfnum** : 해당 감독이 이 영화를 만들기 전 제작에 참여한 영화에서의 평균 관객수  \n",
    "(단 관객수가 알려지지 않은 영화 제외)  \n",
    "\n",
    "**dir_prev_num** : 해당 감독이 이 영화를 만들기 전 제작에 참여한 영화의 개수  \n",
    "(단 관객수가 알려지지 않은 영화 제외)  \n",
    "\n",
    "**num_staff** : 스텝수  \n",
    "\n",
    "**num_actor** : 주연배우수  \n",
    "\n",
    "**box_off_num** : 관객수  \n"
   ]
  }
 ],
 "metadata": {
  "kernelspec": {
   "display_name": "Python [conda env:study] *",
   "language": "python",
   "name": "conda-env-study-py"
  },
  "language_info": {
   "codemirror_mode": {
    "name": "ipython",
    "version": 3
   },
   "file_extension": ".py",
   "mimetype": "text/x-python",
   "name": "python",
   "nbconvert_exporter": "python",
   "pygments_lexer": "ipython3",
   "version": "3.8.12"
  }
 },
 "nbformat": 4,
 "nbformat_minor": 5
}
