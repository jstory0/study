{
 "cells": [
  {
   "cell_type": "markdown",
   "id": "d9044778",
   "metadata": {},
   "source": [
    "11050\n",
    "# 이항 계수 1\n",
    "자연수 N과 정수 K가 주어졌을 때 이항 계수 \n",
    " \\begin{pmatrix}\n",
    "  N \\\\\n",
    "  K \\\\\n",
    " \\end{pmatrix}를 구하는 프로그램을 작성하시오.\n",
    " \n",
    "### 입력\n",
    "첫째 줄에 N과 K가 주어진다. (1 ≤ N ≤ 10, 0 ≤ K ≤ N)\n",
    "\n",
    "### 출력\n",
    " \\begin{pmatrix}\n",
    "  N \\\\\n",
    "  K \\\\\n",
    " \\end{pmatrix} 를 출력한다\n",
    " "
   ]
  },
  {
   "cell_type": "code",
   "execution_count": 2,
   "id": "214f1481",
   "metadata": {},
   "outputs": [
    {
     "name": "stdout",
     "output_type": "stream",
     "text": [
      "5 2\n",
      "10\n"
     ]
    }
   ],
   "source": [
    "n, k = map(int, input().split())\n",
    "\n",
    "def my_factorial(n):   # 팩토리얼 재귀함수\n",
    "    if(n>1):\n",
    "        return n * my_factorial(n-1)\n",
    "    else:\n",
    "        return 1\n",
    "\n",
    "print(my_factorial(n) // (my_factorial(k)*my_factorial(n-k)))"
   ]
  }
 ],
 "metadata": {
  "kernelspec": {
   "display_name": "Python [conda env:study] *",
   "language": "python",
   "name": "conda-env-study-py"
  },
  "language_info": {
   "codemirror_mode": {
    "name": "ipython",
    "version": 3
   },
   "file_extension": ".py",
   "mimetype": "text/x-python",
   "name": "python",
   "nbconvert_exporter": "python",
   "pygments_lexer": "ipython3",
   "version": "3.8.12"
  }
 },
 "nbformat": 4,
 "nbformat_minor": 5
}
