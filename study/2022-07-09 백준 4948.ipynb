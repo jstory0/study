{
 "cells": [
  {
   "cell_type": "markdown",
   "id": "aff791c7",
   "metadata": {},
   "source": [
    "4948\n",
    "# 베르트랑 공준\n",
    "베르트랑 공준은 임의의 자연수 n에 대하여, n보다 크고, 2n보다 작거나 같은 소수는 적어도 하나 존재한다는 내용을 담고 있다.\n",
    "\n",
    "이 명제는 조제프 베르트랑이 1845년에 추측했고, 파프누티 체비쇼프가 1850년에 증명했다.\n",
    "\n",
    "예를 들어, 10보다 크고, 20보다 작거나 같은 소수는 4개가 있다. (11, 13, 17, 19) 또, 14보다 크고, 28보다 작거나 같은 소수는 3개가 있다. (17,19, 23)\n",
    "\n",
    "자연수 n이 주어졌을 때, n보다 크고, 2n보다 작거나 같은 소수의 개수를 구하는 프로그램을 작성하시오. \n",
    "\n",
    "### 입력\n",
    "입력은 여러 개의 테스트 케이스로 이루어져 있다. 각 케이스는 n을 포함하는 한 줄로 이루어져 있다.\n",
    "\n",
    "### 출력\n",
    "각 테스트 케이스에 대해서, n보다 크고, 2n보다 작거나 같은 소수의 개수를 출력한다."
   ]
  },
  {
   "cell_type": "code",
   "execution_count": 12,
   "id": "3f6cb7ff",
   "metadata": {},
   "outputs": [
    {
     "name": "stdout",
     "output_type": "stream",
     "text": [
      "1\n",
      "10\n",
      "13\n",
      "100\n",
      "1000\n",
      "10000\n",
      "100000\n",
      "0\n",
      "1\n",
      "4\n",
      "3\n",
      "21\n",
      "135\n",
      "1033\n",
      "8392\n"
     ]
    }
   ],
   "source": [
    "result = []\n",
    "\n",
    "def sosu_count(n, m):\n",
    "    cnt = 0\n",
    "    check = [True] * (m+1)   # index 값으로 계산하기 때문에 +1\n",
    "    \n",
    "    for i in range(2, int(m**0.5)+1):\n",
    "        if check[i] == True:\n",
    "            for j in range(i*2, m+1, i):\n",
    "                check[j] = False\n",
    "        \n",
    "    for i in range(n+1, m+1):\n",
    "        if check[i] == True:\n",
    "            cnt += 1\n",
    "    return cnt\n",
    "\n",
    "while 1:\n",
    "    n = int(input())\n",
    "    if n == 0:\n",
    "        break\n",
    "    result.append(sosu_count(n, 2*n))\n",
    "    \n",
    "for i in result:\n",
    "    print(i)"
   ]
  },
  {
   "cell_type": "markdown",
   "id": "cea4e497",
   "metadata": {},
   "source": [
    "### 에라토스테네스의 체\n",
    "에라토스테네스의 체는 간략히 설명하자면 어떤 수의 소수의 여부를 확인할 때, 특정한 숫자의 제곱근까지만 약수의 여부를 검증하는 방법이다. O(N^1/2)의 시간 복잡도를 가진다.  \n",
    "수가 수(N)를 나누면 몫이 생기는데 몫과 나누는 수 둘 중 하나는 N 제곱근 이하이기 때문이다.  \n",
    "\n",
    "### 에라토스테네스의 체 원리\n",
    "가장 먼저 소수를 판별할 범위만큼 배열을 할당하여, 해당하는 값을 넣어주고, 이후에 하나씩 지워나가는 방법을 이용한다.\n",
    "1. 배열을 생성하여 초기화한다.\n",
    "2. 2부터 시작해서 특정 수의 배수에 해당하는 수를 모두 지운다. (지울 때 자기 자신은 지우지 않고, 이미 지워진 수는 건너뛴다.)\n",
    "3. 2부터 시작하여 남아 있는 수를 모두 출력한다.\n",
    "  \n",
    "  \n",
    "## 4948 풀이\n",
    "전에 풀었던 문제에서 소수를 구하는 함수를 가지고 그대로 풀려고 했는데 시간초과가 나와서 다른 방법으로 풀게 되었다.  \n",
    "\n",
    "찾아보니 소수를 구하는 문제는 에라토스테네스의 체를 많이 이용하여 푸는 것 같았다.  \n",
    "- 소수의 개수를 구하는 함수 sosu_count()를 생성한다.  \n",
    "- n ~ 2n 범위에 있는 소수의 개수를 구해야 하므로 index가 2n까지 있고 True로 초기화된 배열을 만들어준다.  \n",
    "- 위의 설명에서 봤듯이 2부터 해당 수의 제곱근까지 반복하는 반복문을 생성  \n",
    "- 해당 자리에 있는 값이 True라면 그 수의 배수들을 모두 False로 만들어준다.  \n",
    "- 이후, n ~ 2n 자리에 있는 값이 True면 cnt값을 하나 늘려가며 소수의 개수를 센다.  \n"
   ]
  }
 ],
 "metadata": {
  "kernelspec": {
   "display_name": "Python [conda env:study] *",
   "language": "python",
   "name": "conda-env-study-py"
  },
  "language_info": {
   "codemirror_mode": {
    "name": "ipython",
    "version": 3
   },
   "file_extension": ".py",
   "mimetype": "text/x-python",
   "name": "python",
   "nbconvert_exporter": "python",
   "pygments_lexer": "ipython3",
   "version": "3.8.12"
  }
 },
 "nbformat": 4,
 "nbformat_minor": 5
}
