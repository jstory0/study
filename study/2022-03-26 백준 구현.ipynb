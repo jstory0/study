{
 "cells": [
  {
   "cell_type": "code",
   "execution_count": 3,
   "id": "fee4ab2a",
   "metadata": {},
   "outputs": [
    {
     "name": "stdout",
     "output_type": "stream",
     "text": [
      "0\n",
      "48\n"
     ]
    }
   ],
   "source": [
    "# ### 11654\n",
    "# 알파벳 소문자, 대문자, 숫자 0-9중 하나가 주어졌을 때,\n",
    "# 주어진 글자의 아스키 코드값을 출력하는 프로그램을 작성하시오.\n",
    "\n",
    "a = input()\n",
    "print(ord(a))"
   ]
  },
  {
   "cell_type": "code",
   "execution_count": 5,
   "id": "c49e3d26",
   "metadata": {},
   "outputs": [
    {
     "name": "stdout",
     "output_type": "stream",
     "text": [
      "The Curious Case of Benjamin Button\n",
      "6\n"
     ]
    }
   ],
   "source": [
    "# ### 1152\n",
    "# 영어 대소문자와 공백으로 이루어진 문자열이 주어진다.\n",
    "# 이 문자열에는 몇 개의 단어가 있을까? 이를 구하는 프로그램을 작성하시오.\n",
    "# 단, 한 단어가 여러 번 등장하면 등장한 횟수만큼 모두 세어야 한다.\n",
    "\n",
    "a = list(input().split())\n",
    "print(len(a))"
   ]
  },
  {
   "cell_type": "code",
   "execution_count": 21,
   "id": "40a32adb",
   "metadata": {},
   "outputs": [
    {
     "name": "stdout",
     "output_type": "stream",
     "text": [
      "baekjoon\n",
      "1 0 -1 -1 2 -1 -1 -1 -1 4 3 -1 -1 7 5 -1 -1 -1 -1 -1 -1 -1 -1 -1 -1 -1 "
     ]
    }
   ],
   "source": [
    "# ### 10809 \n",
    "# 알파벳 소문자로만 이루어진 단어 S가 주어진다.\n",
    "# 각각의 알파벳에 대해서, 단어에 포함되어 있는 경우에는 처음 등장하는 위치를,\n",
    "# 포함되어 있지 않은 경우에는 -1을 출력하는 프로그램을 작성하시오.\n",
    "\n",
    "from string import ascii_lowercase\n",
    "\n",
    "a = input()\n",
    "b = list(ascii_lowercase)   # list에 'a' ~ 'z'를 담는다.\n",
    "\n",
    "for i in b:\n",
    "    if i in a:\n",
    "        print(a.index(i), end=' ')   # a 에서 i의 위치를 찾는다.\n",
    "    else:\n",
    "        print('-1', end=' ')"
   ]
  },
  {
   "cell_type": "code",
   "execution_count": 34,
   "id": "9c38412a",
   "metadata": {},
   "outputs": [
    {
     "name": "stdout",
     "output_type": "stream",
     "text": [
      "2\n",
      "3 ABC\n",
      "AAABBBCCC\n",
      "5 HTP\n",
      "HHHHHTTTTTPPPPP\n"
     ]
    }
   ],
   "source": [
    "# ### 2675\n",
    "# 문자열 S를 입력받은 후에, 각 문자를 R번 반복해 새 문자열 P를 만든 후\n",
    "# 출력하는 프로그램을 작성하시오. 즉, 첫 번째 문자를 R번 반복하고,\n",
    "# 두 번째 문자를 R번 반복하는 식으로 P를 만들면 된다.\n",
    "# S에는 QR Code \"alphanumeric\" 문자만 들어있다.\n",
    "\n",
    "# QR Code \"alphanumeric\" 문자는 0123456789ABCDEFGHIJKLMNOPQRSTUVWXYZ\\$%*+-./: 이다.\n",
    "\n",
    "n = int(input())\n",
    "for i in range(n):\n",
    "    a = input().split()\n",
    "    b = list(a[1])\n",
    "    for j in range(len(b)):\n",
    "        for k in range(int(a[0])):\n",
    "            print(b[j], end='')\n",
    "    print()"
   ]
  }
 ],
 "metadata": {
  "kernelspec": {
   "display_name": "Python [conda env:study] *",
   "language": "python",
   "name": "conda-env-study-py"
  },
  "language_info": {
   "codemirror_mode": {
    "name": "ipython",
    "version": 3
   },
   "file_extension": ".py",
   "mimetype": "text/x-python",
   "name": "python",
   "nbconvert_exporter": "python",
   "pygments_lexer": "ipython3",
   "version": "3.8.12"
  }
 },
 "nbformat": 4,
 "nbformat_minor": 5
}
