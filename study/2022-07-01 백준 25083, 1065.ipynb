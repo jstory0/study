{
 "cells": [
  {
   "cell_type": "markdown",
   "id": "5e5459ea",
   "metadata": {},
   "source": [
    "25083\n",
    "# 새싹\n",
    "아래 예제와 같이 새싹을 출력하시오.\n",
    "\n",
    "### 입력\n",
    "입력은 없다.\n",
    "\n",
    "### 출력\n",
    "새싹을 출력한다."
   ]
  },
  {
   "cell_type": "code",
   "execution_count": 8,
   "id": "f7c67db4",
   "metadata": {},
   "outputs": [
    {
     "name": "stdout",
     "output_type": "stream",
     "text": [
      "         ,r'\"7\n",
      "r`-_   ,'  ,/\n",
      " \\. \". L_r'\n",
      "   `~\\/\n",
      "      |\n",
      "      |\n"
     ]
    }
   ],
   "source": [
    "print('         ,r\\'\\\"7')\n",
    "print('r`-_   ,\\'  ,/')\n",
    "print(' \\. \". L_r\\'')\n",
    "print('   `~\\/')\n",
    "print('      |')\n",
    "print('      |')"
   ]
  },
  {
   "cell_type": "markdown",
   "id": "787a5345",
   "metadata": {},
   "source": [
    "1065\n",
    "# 한수\n",
    "어떤 양의 정수 X의 각 자리가 등차수열을 이룬다면, 그 수를 한수라고 한다. 등차수열은 연속된 두 개의 수의 차이가 일정한 수열을 말한다. N이 주어졌을 때, 1보다 크거나 같고, N보다 작거나 같은 한수의 개수를 출력하는 프로그램을 작성하시오. \n",
    "\n",
    "### 입력\n",
    "첫째 줄에 1,000보다 작거나 같은 자연수 N이 주어진다.\n",
    "\n",
    "### 출력\n",
    "첫째 줄에 1보다 크거나 같고, N보다 작거나 같은 한수의 개수를 출력한다.\n"
   ]
  },
  {
   "cell_type": "code",
   "execution_count": 22,
   "id": "ae831473",
   "metadata": {},
   "outputs": [
    {
     "name": "stdout",
     "output_type": "stream",
     "text": [
      "500\n",
      "119\n"
     ]
    }
   ],
   "source": [
    "def hansu(num):\n",
    "    hansu_cnt = 0\n",
    "    for i in range(1, num+1):\n",
    "        num_list = list(map(int, str(i)))\n",
    "        if i < 100:   # 100보다 작으면 무조건 한수\n",
    "            hansu_cnt += 1\n",
    "        elif num_list[0] - num_list[1] == num_list[1] - num_list[2]:\n",
    "            hansu_cnt += 1\n",
    "    return hansu_cnt\n",
    "\n",
    "num = int(input())\n",
    "print(hansu(num))"
   ]
  }
 ],
 "metadata": {
  "kernelspec": {
   "display_name": "Python [conda env:study] *",
   "language": "python",
   "name": "conda-env-study-py"
  },
  "language_info": {
   "codemirror_mode": {
    "name": "ipython",
    "version": 3
   },
   "file_extension": ".py",
   "mimetype": "text/x-python",
   "name": "python",
   "nbconvert_exporter": "python",
   "pygments_lexer": "ipython3",
   "version": "3.8.12"
  }
 },
 "nbformat": 4,
 "nbformat_minor": 5
}
