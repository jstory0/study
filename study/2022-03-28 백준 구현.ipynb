{
 "cells": [
  {
   "cell_type": "code",
   "execution_count": 4,
   "id": "531f772d",
   "metadata": {},
   "outputs": [
    {
     "name": "stdout",
     "output_type": "stream",
     "text": [
      "839 237\n",
      "938\n"
     ]
    }
   ],
   "source": [
    "# ### 2908\n",
    "# 상근이의 동생 상수는 수학을 정말 못한다. 상수는 숫자를 읽는데 문제가 있다.\n",
    "# 이렇게 수학을 못하는 상수를 위해서 상근이는 수의 크기를 비교하는 문제를 내주었다.\n",
    "# 상근이는 세 자리 수 두 개를 칠판에 써주었다.\n",
    "# 그 다음에 크기가 큰 수를 말해보라고 했다.\n",
    "\n",
    "# 상수는 수를 다른 사람과 다르게 거꾸로 읽는다.\n",
    "# 예를 들어, 734와 893을 칠판에 적었다면, 상수는 이 수를 437과 398로 읽는다.\n",
    "# 따라서, 상수는 두 수중 큰 수인 437을 큰 수라고 말할 것이다.\n",
    "\n",
    "# 두 수가 주어졌을 때, 상수의 대답을 출력하는 프로그램을 작성하시오.\n",
    "\n",
    "a, b = input().split()   # 두 수를 문자열로 받는다.\n",
    "a = int(a[::-1])         # 문자열의 순서를 reverse하여 int형으로 저장\n",
    "b = int(b[::-1])\n",
    "print(max(a,b))          # 두 수 중 큰 것을 출력한다"
   ]
  },
  {
   "cell_type": "code",
   "execution_count": 12,
   "id": "2cb6f24c",
   "metadata": {},
   "outputs": [
    {
     "name": "stdout",
     "output_type": "stream",
     "text": [
      "5\n",
      "5\n",
      "2\n",
      "3\n",
      "4\n",
      "1\n",
      "1\n",
      "2\n",
      "3\n",
      "4\n",
      "5\n"
     ]
    }
   ],
   "source": [
    "### 2750 ★\n",
    "# 정렬 알고리즘을 이용해서도 풀 수 있다.\n",
    "\n",
    "# N개의 수가 주어졌을 때, 이를 오름차순으로 정렬하는 프로그램을 작성하시오.\n",
    "\n",
    "n = int(input())\n",
    "a = []\n",
    "\n",
    "for i in range(n):\n",
    "    a.append(int(input()))\n",
    "a.sort()\n",
    "for i in a:\n",
    "    print(i)"
   ]
  },
  {
   "cell_type": "code",
   "execution_count": 16,
   "id": "b05b7b75",
   "metadata": {},
   "outputs": [
    {
     "name": "stdout",
     "output_type": "stream",
     "text": [
      "20 30 10\n",
      "20\n"
     ]
    }
   ],
   "source": [
    "### 10817\n",
    "# 세 정수 A, B, C가 주어진다.\n",
    "# 이때, 두 번째로 큰 정수를 출력하는 프로그램을 작성하시오. \n",
    "\n",
    "# 내 풀이\n",
    "a = list(map(int, input().split()))\n",
    "a.remove(max(a))\n",
    "print(max(a))\n",
    "\n",
    "# 다른 사람들이 보편적으로 푼 풀이 - 정렬 사용\n",
    "a = list(map(int, input().split()))\n",
    "a.sort()\n",
    "print(a[1])\n",
    "\n",
    "# 한줄로 푼 사람도 있다.\n",
    "print(sorted(list(map(int, input().split())))[1])"
   ]
  }
 ],
 "metadata": {
  "kernelspec": {
   "display_name": "Python [conda env:study] *",
   "language": "python",
   "name": "conda-env-study-py"
  },
  "language_info": {
   "codemirror_mode": {
    "name": "ipython",
    "version": 3
   },
   "file_extension": ".py",
   "mimetype": "text/x-python",
   "name": "python",
   "nbconvert_exporter": "python",
   "pygments_lexer": "ipython3",
   "version": "3.8.12"
  }
 },
 "nbformat": 4,
 "nbformat_minor": 5
}
