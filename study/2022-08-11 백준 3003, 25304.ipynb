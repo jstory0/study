{
 "cells": [
  {
   "cell_type": "markdown",
   "id": "b22222d3",
   "metadata": {},
   "source": [
    "3003\n",
    "# 킹, 퀸, 룩, 비숍, 나이트, 폰\n",
    "동혁이는 오래된 창고를 뒤지다가 낡은 체스판과 피스를 발견했다.\n",
    "\n",
    "체스판의 먼지를 털어내고 걸레로 닦으니 그럭저럭 쓸만한 체스판이 되었다. 하지만, 검정색 피스는 모두 있었으나, 흰색 피스는 개수가 올바르지 않았다.\n",
    "\n",
    "체스는 총 16개의 피스를 사용하며, 킹 1개, 퀸 1개, 룩 2개, 비숍 2개, 나이트 2개, 폰 8개로 구성되어 있다.\n",
    "\n",
    "동혁이가 발견한 흰색 피스의 개수가 주어졌을 때, 몇 개를 더하거나 빼야 올바른 세트가 되는지 구하는 프로그램을 작성하시오.\n",
    "\n",
    "### 입력\n",
    "첫째 줄에 동혁이가 찾은 흰색 킹, 퀸, 룩, 비숍, 나이트, 폰의 개수가 주어진다. 이 값은 0보다 크거나 같고 10보다 작거나 같은 정수이다.\n",
    "\n",
    "### 출력\n",
    "첫째 줄에 입력에서 주어진 순서대로 몇 개의 피스를 더하거나 빼야 되는지를 출력한다. 만약 수가 양수라면 동혁이는 그 개수 만큼 피스를 더해야 하는 것이고, 음수라면 제거해야 하는 것이다."
   ]
  },
  {
   "cell_type": "code",
   "execution_count": 9,
   "id": "1624535f",
   "metadata": {},
   "outputs": [
    {
     "name": "stdout",
     "output_type": "stream",
     "text": [
      "2 1 2 1 2 1\n",
      "-1 0 0 1 0 7 "
     ]
    }
   ],
   "source": [
    "cp = [1, 1, 2, 2, 2, 8]\n",
    "my_p = list(map(int, input().split()))\n",
    "\n",
    "for i in range(6):\n",
    "    print(cp[i] - my_p[i], end=' ')"
   ]
  },
  {
   "cell_type": "markdown",
   "id": "8135359a",
   "metadata": {},
   "source": [
    "# ㅡㅡㅡㅡㅡㅡㅡㅡㅡㅡㅡㅡㅡㅡㅡㅡㅡㅡㅡㅡㅡ"
   ]
  },
  {
   "cell_type": "markdown",
   "id": "0420a284",
   "metadata": {},
   "source": [
    "25304\n",
    "# 영수증\n",
    "준원이는 저번 주에 살면서 처음으로 코스트코를 가 봤다. 그런데, 몇 개 담지도 않았는데 수상하게 높은 금액이 나오는 것이다! 준원이는 영수증을 보면서 정확하게 계산된 것이 맞는지 확인해보려 한다.  \n",
    "\n",
    "영수증에 적힌,\n",
    "- 구매한 각 물건의 가격과 개수\n",
    "- 구매한 물건들의 총 금액\n",
    "\n",
    "을 보고, 구매한 물건의 가격과 개수로 계산한 총 금액이 영수증에 적힌 총 금액과 일치하는지 검사해보자.\n",
    "\n",
    "### 입력\n",
    "첫째 줄에는 영수증에 적힌 총 금액 X가 주어진다.  \n",
    "둘째 줄에는 영수증에 적힌 구매한 물건의 종류의 수 N이 주어진다.\n",
    "이후 N개의 줄에는 각 물건의 가격 a와 개수 b가 공백을 사이에 두고 주어진다.\n",
    "\n",
    "### 출력\n",
    "구매한 물건의 가격과 개수로 계산한 총 금액이 영수증에 적힌 총 금액과 일치하면 Yes를 출력한다. 일치하지 않는다면 No를 출력한다."
   ]
  },
  {
   "cell_type": "code",
   "execution_count": 18,
   "id": "aa56d54b",
   "metadata": {},
   "outputs": [
    {
     "name": "stdout",
     "output_type": "stream",
     "text": [
      "250000\n",
      "4\n",
      "20000 5\n",
      "30000 2\n",
      "10000 6\n",
      "5000 8\n",
      "No\n"
     ]
    }
   ],
   "source": [
    "X = int(input())\n",
    "N = int(input())\n",
    "sum = 0\n",
    "for _ in range(N):\n",
    "    a, b = map(int, input().split())\n",
    "    sum += a*b\n",
    "\n",
    "if sum == X:\n",
    "    print('Yes')\n",
    "else:\n",
    "    print('No')"
   ]
  }
 ],
 "metadata": {
  "kernelspec": {
   "display_name": "Python [conda env:study] *",
   "language": "python",
   "name": "conda-env-study-py"
  },
  "language_info": {
   "codemirror_mode": {
    "name": "ipython",
    "version": 3
   },
   "file_extension": ".py",
   "mimetype": "text/x-python",
   "name": "python",
   "nbconvert_exporter": "python",
   "pygments_lexer": "ipython3",
   "version": "3.8.12"
  }
 },
 "nbformat": 4,
 "nbformat_minor": 5
}
