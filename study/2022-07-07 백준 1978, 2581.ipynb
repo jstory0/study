{
 "cells": [
  {
   "cell_type": "markdown",
   "id": "3ef31bd8",
   "metadata": {},
   "source": [
    "1978\n",
    "# 소수 찾기\n",
    "주어진 수 N개 중에서 소수가 몇 개인지 찾아서 출력하는 프로그램을 작성하시오.\n",
    "\n",
    "### 입력\n",
    "첫 줄에 수의 개수 N이 주어진다. N은 100이하이다. 다음으로 N개의 수가 주어지는데 수는 1,000 이하의 자연수이다.\n",
    "\n",
    "### 출력\n",
    "주어진 수들 중 소수의 개수를 출력한다."
   ]
  },
  {
   "cell_type": "code",
   "execution_count": 10,
   "id": "1b0d9438",
   "metadata": {},
   "outputs": [
    {
     "name": "stdout",
     "output_type": "stream",
     "text": [
      "4\n",
      "1 3 5 7\n",
      "3\n"
     ]
    }
   ],
   "source": [
    "n = int(input())\n",
    "num_list = list(map(int, input().split()))\n",
    "sosu = 0\n",
    "\n",
    "for i in range(n):\n",
    "    cnt = 0\n",
    "    for j in range(1, num_list[i]+1):\n",
    "        if num_list[i] % j == 0:\n",
    "            cnt += 1\n",
    "    if cnt == 2:\n",
    "        sosu += 1\n",
    "print(sosu)"
   ]
  },
  {
   "cell_type": "markdown",
   "id": "3298d6cf",
   "metadata": {},
   "source": [
    "## 1978 풀이\n",
    "숫자를 입력 받고 각 숫자마다 1부터 자기 자신까지 나누어 나머지가 0이 되는지 판단하고 나머지가 0이면 cnt 값을 하나 늘린다.  \n",
    "\n",
    "소수는 1과 자기 자신으로 밖에 나눠지지 않으므로 cnt의 값은 2로 고정되고 1일 때는 1, 나머지 숫자들은 2를 초과하게 된다.  \n",
    "\n",
    "cnt 값이 2인 경우 sosu 값을 하나 늘려가고 마지막에 출력"
   ]
  },
  {
   "cell_type": "markdown",
   "id": "28981ee4",
   "metadata": {},
   "source": [
    "# ㅡㅡㅡㅡㅡㅡㅡㅡㅡㅡㅡㅡㅡㅡㅡㅡㅡㅡㅡㅡㅡ"
   ]
  },
  {
   "cell_type": "markdown",
   "id": "d7d29596",
   "metadata": {},
   "source": [
    "2581\n",
    "# 소수\n",
    "자연수 M과 N이 주어질 때 M이상 N이하의 자연수 중 소수인 것을 모두 골라 이들 소수의 합과 최솟값을 찾는 프로그램을 작성하시오.\n",
    "\n",
    "예를 들어 M=60, N=100인 경우 60이상 100이하의 자연수 중 소수는 61, 67, 71, 73, 79, 83, 89, 97 총 8개가 있으므로, 이들 소수의 합은 620이고, 최솟값은 61이 된다.\n",
    "\n",
    "### 입력\n",
    "입력의 첫째 줄에 M이, 둘째 줄에 N이 주어진다.\n",
    "\n",
    "M과 N은 10,000이하의 자연수이며, M은 N보다 작거나 같다.\n",
    "\n",
    "### 출력\n",
    "M이상 N이하의 자연수 중 소수인 것을 모두 찾아 첫째 줄에 그 합을, 둘째 줄에 그 중 최솟값을 출력한다. \n",
    "\n",
    "단, M이상 N이하의 자연수 중 소수가 없을 경우는 첫째 줄에 -1을 출력한다."
   ]
  },
  {
   "cell_type": "code",
   "execution_count": 15,
   "id": "14b97dee",
   "metadata": {},
   "outputs": [
    {
     "name": "stdout",
     "output_type": "stream",
     "text": [
      "60\n",
      "100\n",
      "620\n",
      "61\n"
     ]
    }
   ],
   "source": [
    "m = int(input())\n",
    "n = int(input())\n",
    "sosu_list = []\n",
    "\n",
    "for i in range(m, n+1):\n",
    "    cnt = 0\n",
    "    for j in range(1, i+1):\n",
    "        if i % j == 0:\n",
    "            cnt += 1\n",
    "    if cnt == 2:\n",
    "        sosu_list.append(i)\n",
    "\n",
    "if len(sosu_list) == 0:\n",
    "    print(-1)\n",
    "else:\n",
    "    print(sum(sosu_list))\n",
    "    print(sosu_list[0])"
   ]
  },
  {
   "cell_type": "markdown",
   "id": "6c56de4e",
   "metadata": {},
   "source": [
    "## 2581 풀이\n",
    "1978 풀이 방식과 같은 방식으로 소수를 구하고 sosu_list에 저장한다.  \n",
    "sosu_list에 값이 들어오지 않았으면 -1을 출력하고  \n",
    "값이 들어왔으면 합계와 최솟값을 출력한다."
   ]
  }
 ],
 "metadata": {
  "kernelspec": {
   "display_name": "Python [conda env:study] *",
   "language": "python",
   "name": "conda-env-study-py"
  },
  "language_info": {
   "codemirror_mode": {
    "name": "ipython",
    "version": 3
   },
   "file_extension": ".py",
   "mimetype": "text/x-python",
   "name": "python",
   "nbconvert_exporter": "python",
   "pygments_lexer": "ipython3",
   "version": "3.8.12"
  }
 },
 "nbformat": 4,
 "nbformat_minor": 5
}
