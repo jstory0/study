{
 "cells": [
  {
   "cell_type": "markdown",
   "id": "b30141ba",
   "metadata": {},
   "source": [
    "2443\n",
    "# 별 찍기 - 6\n",
    "첫째 줄에는 별 2×N-1개, 둘째 줄에는 별 2×N-3개, ..., N번째 줄에는 별 1개를 찍는 문제\n",
    "\n",
    "별은 가운데를 기준으로 대칭이어야 한다.\n",
    "\n",
    "### 입력\n",
    "첫째 줄에 N(1 ≤ N ≤ 100)이 주어진다.\n",
    "\n",
    "### 출력\n",
    "첫째 줄부터 N번째 줄까지 차례대로 별을 출력한다."
   ]
  },
  {
   "cell_type": "code",
   "execution_count": 8,
   "id": "471033a6",
   "metadata": {},
   "outputs": [
    {
     "name": "stdout",
     "output_type": "stream",
     "text": [
      "5\n",
      "*********\n",
      " *******\n",
      "  *****\n",
      "   ***\n",
      "    *\n"
     ]
    }
   ],
   "source": [
    "n = int(input())\n",
    "\n",
    "for i in range(n):\n",
    "    for j in range(i):\n",
    "        print(' ', end='')\n",
    "    for j in range(2*(n-i)-1):\n",
    "        print('*', end='')\n",
    "    print()"
   ]
  },
  {
   "cell_type": "markdown",
   "id": "86c66057",
   "metadata": {},
   "source": [
    "10808\n",
    "# 알파벳 개수\n",
    "\n",
    "알파벳 소문자로만 이루어진 단어 S가 주어진다. 각 알파벳이 단어에 몇 개가 포함되어 있는지 구하는 프로그램을 작성하시오.\n",
    "\n",
    "### 입력\n",
    "첫째 줄에 단어 S가 주어진다. 단어의 길이는 100을 넘지 않으며, 알파벳 소문자로만 이루어져 있다.\n",
    "\n",
    "### 출력\n",
    "단어에 포함되어 있는 a의 개수, b의 개수, …, z의 개수를 공백으로 구분해서 출력한다."
   ]
  },
  {
   "cell_type": "code",
   "execution_count": 18,
   "id": "8a4ee1af",
   "metadata": {},
   "outputs": [
    {
     "name": "stdout",
     "output_type": "stream",
     "text": [
      "baekjoon\n",
      "1 1 0 0 1 0 0 0 0 1 1 0 0 1 2 0 0 0 0 0 0 0 0 0 0 0 "
     ]
    }
   ],
   "source": [
    "from string import ascii_lowercase\n",
    "\n",
    "s = input()\n",
    "alphabet_list = list(ascii_lowercase)\n",
    "result = []\n",
    "\n",
    "for i in range(len(alphabet_list)):\n",
    "    result.append(0)\n",
    "    \n",
    "for i in s:\n",
    "    num = 0\n",
    "    for j in range(len(alphabet_list)):\n",
    "        if i == alphabet_list[j]:\n",
    "            result[j] += 1\n",
    "\n",
    "for i in result:\n",
    "    print(i, end=' ')"
   ]
  }
 ],
 "metadata": {
  "kernelspec": {
   "display_name": "Python [conda env:study] *",
   "language": "python",
   "name": "conda-env-study-py"
  },
  "language_info": {
   "codemirror_mode": {
    "name": "ipython",
    "version": 3
   },
   "file_extension": ".py",
   "mimetype": "text/x-python",
   "name": "python",
   "nbconvert_exporter": "python",
   "pygments_lexer": "ipython3",
   "version": "3.8.12"
  }
 },
 "nbformat": 4,
 "nbformat_minor": 5
}
