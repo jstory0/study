{
 "cells": [
  {
   "cell_type": "code",
   "execution_count": 8,
   "id": "3a069be1",
   "metadata": {},
   "outputs": [
    {
     "name": "stdout",
     "output_type": "stream",
     "text": [
      "4\n",
      "aba\n",
      "abab\n",
      "abcabc\n",
      "a\n",
      "1\n"
     ]
    }
   ],
   "source": [
    "# ### 1316\n",
    "# 그룹 단어란 단어에 존재하는 모든 문자에 대해서,\n",
    "# 각 문자가 연속해서 나타나는 경우만을 말한다.\n",
    "# 예를 들면, ccazzzzbb는 c, a, z, b가 모두 연속해서 나타나고,\n",
    "# kin도 k, i, n이 연속해서 나타나기 때문에 그룹 단어이지만,\n",
    "# aabbbccb는 b가 떨어져서 나타나기 때문에 그룹 단어가 아니다.\n",
    "\n",
    "# 단어 N개를 입력으로 받아 그룹 단어의 개수를 출력하는 프로그램을 작성하시오.\n",
    "\n",
    "n = int(input())   # 단어 개수 입력\n",
    "group_word = 0     # 그룹 단어의 개수\n",
    "\n",
    "for _ in range(n):\n",
    "    word = input()   # 단어 입력 받기\n",
    "    error = 0        # 그룹 단어인지 판단하기 위한 변수\n",
    "    for i in range(len(word)-1):   # 인덱스 범위 생성 : 0부터 단어개수-1 까지\n",
    "        if word[i] != word[i+1]:   # 연속된 두 문자가 같을 때\n",
    "            new_word = word[i+1:]  # 현재 문자 이후 문자들로 새로운 문자열 생성\n",
    "            if new_word.count(word[i]) > 0:   # 새로운 문자열에 현재 문자가 있을 때\n",
    "                error += 1   # error 1 증가\n",
    "    if error == 0:   # error 가 없을 때\n",
    "        group_word += 1   # 그룹 단어의 개수 1 증가\n",
    "        \n",
    "print(group_word)\n"
   ]
  }
 ],
 "metadata": {
  "kernelspec": {
   "display_name": "Python [conda env:study] *",
   "language": "python",
   "name": "conda-env-study-py"
  },
  "language_info": {
   "codemirror_mode": {
    "name": "ipython",
    "version": 3
   },
   "file_extension": ".py",
   "mimetype": "text/x-python",
   "name": "python",
   "nbconvert_exporter": "python",
   "pygments_lexer": "ipython3",
   "version": "3.8.12"
  }
 },
 "nbformat": 4,
 "nbformat_minor": 5
}
