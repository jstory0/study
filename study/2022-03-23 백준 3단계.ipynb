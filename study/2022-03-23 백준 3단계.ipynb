{
 "cells": [
  {
   "cell_type": "code",
   "execution_count": 3,
   "id": "ae7415bb",
   "metadata": {},
   "outputs": [
    {
     "name": "stdout",
     "output_type": "stream",
     "text": [
      "2\n",
      "2 * 1 = 2\n",
      "2 * 2 = 4\n",
      "2 * 3 = 6\n",
      "2 * 4 = 8\n",
      "2 * 5 = 10\n",
      "2 * 6 = 12\n",
      "2 * 7 = 14\n",
      "2 * 8 = 16\n",
      "2 * 9 = 18\n"
     ]
    }
   ],
   "source": [
    "### 2739\n",
    "# N을 입력받은 뒤, 구구단 N단을 출력하는 프로그램을 작성하시오.\n",
    "# 출력 형식에 맞춰서 출력하면 된다.\n",
    "\n",
    "a = int(input())\n",
    "for i in range(1, 10):\n",
    "    print('%d *'%a, '%d ='%i, a*i)"
   ]
  },
  {
   "cell_type": "code",
   "execution_count": 6,
   "id": "d7a976ec",
   "metadata": {},
   "outputs": [
    {
     "name": "stdout",
     "output_type": "stream",
     "text": [
      "5\n",
      "1 1\n",
      "2\n",
      "2 3\n",
      "5\n",
      "3 4\n",
      "7\n",
      "9 8\n",
      "17\n",
      "5 2\n",
      "7\n"
     ]
    }
   ],
   "source": [
    "### 10950\n",
    "# 두 정수 A와 B를 입력받은 다음, A+B를 출력하는 프로그램을 작성하시오.\n",
    "\n",
    "a = int(input())\n",
    "for i in range(a):\n",
    "    b, c = map(int, input().split())\n",
    "    print(b+c)"
   ]
  },
  {
   "cell_type": "code",
   "execution_count": 9,
   "id": "0dcf22bb",
   "metadata": {},
   "outputs": [
    {
     "name": "stdout",
     "output_type": "stream",
     "text": [
      "10\n",
      "55\n"
     ]
    }
   ],
   "source": [
    "### 8393\n",
    "# n이 주어졌을 때, 1부터 n까지 합을 구하는 프로그램을 작성하시오.\n",
    "\n",
    "a = int(input())\n",
    "s = 0\n",
    "for i in range(1, a+1):\n",
    "    s += i\n",
    "print(s)"
   ]
  },
  {
   "cell_type": "code",
   "execution_count": 13,
   "id": "43d78ee2",
   "metadata": {},
   "outputs": [
    {
     "ename": "ValueError",
     "evalue": "invalid literal for int() with base 10: ''",
     "output_type": "error",
     "traceback": [
      "\u001b[1;31m---------------------------------------------------------------------------\u001b[0m",
      "\u001b[1;31mValueError\u001b[0m                                Traceback (most recent call last)",
      "Input \u001b[1;32mIn [13]\u001b[0m, in \u001b[0;36m<cell line: 35>\u001b[1;34m()\u001b[0m\n\u001b[0;32m      1\u001b[0m \u001b[38;5;66;03m# ### 15552\u001b[39;00m\n\u001b[0;32m      2\u001b[0m \u001b[38;5;66;03m# 본격적으로 for문 문제를 풀기 전에 주의해야 할 점이 있다.\u001b[39;00m\n\u001b[0;32m      3\u001b[0m \u001b[38;5;66;03m# 입출력 방식이 느리면 여러 줄을 입력받거나 출력할 때 시간초과가 날 수 있다는 점이다.\u001b[39;00m\n\u001b[1;32m   (...)\u001b[0m\n\u001b[0;32m     30\u001b[0m \n\u001b[0;32m     31\u001b[0m \u001b[38;5;66;03m# 각 테스트케이스마다 A+B를 한 줄에 하나씩 순서대로 출력한다.\u001b[39;00m\n\u001b[0;32m     33\u001b[0m \u001b[38;5;28;01mimport\u001b[39;00m \u001b[38;5;21;01msys\u001b[39;00m\n\u001b[1;32m---> 35\u001b[0m t \u001b[38;5;241m=\u001b[39m \u001b[38;5;28;43mint\u001b[39;49m\u001b[43m(\u001b[49m\u001b[43msys\u001b[49m\u001b[38;5;241;43m.\u001b[39;49m\u001b[43mstdin\u001b[49m\u001b[38;5;241;43m.\u001b[39;49m\u001b[43mreadline\u001b[49m\u001b[43m(\u001b[49m\u001b[43m)\u001b[49m\u001b[43m)\u001b[49m\n\u001b[0;32m     36\u001b[0m \u001b[38;5;28;01mfor\u001b[39;00m i \u001b[38;5;129;01min\u001b[39;00m \u001b[38;5;28mrange\u001b[39m(t):\n\u001b[0;32m     37\u001b[0m     a, b \u001b[38;5;241m=\u001b[39m \u001b[38;5;28mmap\u001b[39m(\u001b[38;5;28mint\u001b[39m, sys\u001b[38;5;241m.\u001b[39mstdin\u001b[38;5;241m.\u001b[39mreadline()\u001b[38;5;241m.\u001b[39msplit())\n",
      "\u001b[1;31mValueError\u001b[0m: invalid literal for int() with base 10: ''"
     ]
    }
   ],
   "source": [
    "# ### 15552\n",
    "# 본격적으로 for문 문제를 풀기 전에 주의해야 할 점이 있다.\n",
    "# 입출력 방식이 느리면 여러 줄을 입력받거나 출력할 때 시간초과가 날 수 있다는 점이다.\n",
    "\n",
    "# C++을 사용하고 있고 cin/cout을 사용하고자 한다면,\n",
    "# cin.tie(NULL)과 sync_with_stdio(false)를 둘 다 적용해 주고,\n",
    "# endl 대신 개행문자(\\n)를 쓰자.\n",
    "# 단, 이렇게 하면 더 이상 scanf/printf/puts/getchar/putchar 등\n",
    "# C의 입출력 방식을 사용하면 안 된다.\n",
    "\n",
    "# Java를 사용하고 있다면, Scanner와 System.out.println 대신\n",
    "# BufferedReader와 BufferedWriter를 사용할 수 있다.\n",
    "# BufferedWriter.flush는 맨 마지막에 한 번만 하면 된다.\n",
    "\n",
    "# Python을 사용하고 있다면, input 대신 sys.stdin.readline을 사용할 수 있다.\n",
    "# 단, 이때는 맨 끝의 개행문자까지 같이 입력받기 때문에 문자열을 저장하고 싶을 경우\n",
    "# .rstrip()을 추가로 해 주는 것이 좋다.\n",
    "\n",
    "# 또한 입력과 출력 스트림은 별개이므로,\n",
    "# 테스트케이스를 전부 입력받아서 저장한 뒤 전부 출력할 필요는 없다.\n",
    "# 테스트케이스를 하나 받은 뒤 하나 출력해도 된다.\n",
    "\n",
    "# 자세한 설명 및 다른 언어의 경우는 이 글에 설명되어 있다.\n",
    "\n",
    "# 이 블로그 글에서 BOJ의 기타 여러 가지 팁을 볼 수 있다.\n",
    "\n",
    "# 첫 줄에 테스트케이스의 개수 T가 주어진다.\n",
    "# T는 최대 1,000,000이다. 다음 T줄에는 각각 두 정수 A와 B가 주어진다.\n",
    "# A와 B는 1 이상, 1,000 이하이다.\n",
    "\n",
    "# 각 테스트케이스마다 A+B를 한 줄에 하나씩 순서대로 출력한다.\n",
    "\n",
    "import sys\n",
    "\n",
    "t = int(sys.stdin.readline())\n",
    "for i in range(t):\n",
    "    a, b = map(int, sys.stdin.readline().split())\n",
    "    print(a+b)\n",
    "    \n",
    "# jupyter에서는 stdin이 제대로 구성되어 있지 않다.\n",
    "# 그래서 에러가 나지만 제출을 해보면 정답으로 인정된다."
   ]
  },
  {
   "cell_type": "code",
   "execution_count": 14,
   "id": "f7a04147",
   "metadata": {},
   "outputs": [
    {
     "name": "stdout",
     "output_type": "stream",
     "text": [
      "5\n",
      "1\n",
      "2\n",
      "3\n",
      "4\n",
      "5\n"
     ]
    }
   ],
   "source": [
    "### 2741\n",
    "# 자연수 N이 주어졌을 때, 1부터 N까지 한 줄에 하나씩 출력하는 프로그램을 작성하시오.\n",
    "a = int(input())\n",
    "for i in range(1, a+1):\n",
    "    print(i)"
   ]
  },
  {
   "cell_type": "code",
   "execution_count": 18,
   "id": "fa694ebd",
   "metadata": {},
   "outputs": [
    {
     "name": "stdout",
     "output_type": "stream",
     "text": [
      "5\n",
      "5\n",
      "4\n",
      "3\n",
      "2\n",
      "1\n"
     ]
    }
   ],
   "source": [
    "### 2742\n",
    "# 자연수 N이 주어졌을 때, N부터 1까지 한 줄에 하나씩 출력하는 프로그램을 작성하시오.\n",
    "\n",
    "a = int(input())\n",
    "for i in range(a, 0, -1):\n",
    "    print(i)"
   ]
  },
  {
   "cell_type": "code",
   "execution_count": 21,
   "id": "1fc25f37",
   "metadata": {},
   "outputs": [
    {
     "name": "stdout",
     "output_type": "stream",
     "text": [
      "5\n",
      "1 1\n",
      "Case #1: 2\n",
      "2 3\n",
      "Case #2: 5\n",
      "3 4\n",
      "Case #3: 7\n",
      "9 8\n",
      "Case #4: 17\n",
      "5 2\n",
      "Case #5: 7\n"
     ]
    }
   ],
   "source": [
    "### 11021\n",
    "# 두 정수 A와 B를 입력받은 다음, A+B를 출력하는 프로그램을 작성하시오.\n",
    "\n",
    "t = int(input())\n",
    "for i in range(1, t+1):\n",
    "    a, b = map(int, input().split())\n",
    "    s = a+b\n",
    "    print('Case #%d:'%i,'%d'%s)"
   ]
  },
  {
   "cell_type": "code",
   "execution_count": 25,
   "id": "8b4a2ed7",
   "metadata": {},
   "outputs": [
    {
     "name": "stdout",
     "output_type": "stream",
     "text": [
      "5\n",
      "1 1\n",
      "Case #1: 1 + 1 = 2\n",
      "2 3\n",
      "Case #2: 2 + 3 = 5\n",
      "4 5\n",
      "Case #3: 4 + 5 = 9\n",
      "6 7\n",
      "Case #4: 6 + 7 = 13\n",
      "8 9\n",
      "Case #5: 8 + 9 = 17\n"
     ]
    }
   ],
   "source": [
    "# ### 11022\n",
    "# 두 정수 A와 B를 입력받은 다음, A+B를 출력하는 프로그램을 작성하시오.\n",
    "\n",
    "t = int(input())\n",
    "for i in range(1, t+1):\n",
    "    a, b = map(int, input().split())\n",
    "    s = a+b\n",
    "    print('Case #%d:'%i, '%d'%a, '+ %d'%b, '= %d'%s)"
   ]
  },
  {
   "cell_type": "code",
   "execution_count": 28,
   "id": "ac3377de",
   "metadata": {},
   "outputs": [
    {
     "name": "stdout",
     "output_type": "stream",
     "text": [
      "5\n",
      "*\n",
      "**\n",
      "***\n",
      "****\n",
      "*****\n"
     ]
    }
   ],
   "source": [
    "### 2438\n",
    "# 첫째 줄에는 별 1개, 둘째 줄에는 별 2개, N번째 줄에는 별 N개를 찍는 문제\n",
    "\n",
    "a = int(input())\n",
    "for i in range(a):\n",
    "    for j in range(i+1):\n",
    "        print('*', end='')\n",
    "    print()"
   ]
  },
  {
   "cell_type": "code",
   "execution_count": 33,
   "id": "db877496",
   "metadata": {},
   "outputs": [
    {
     "name": "stdout",
     "output_type": "stream",
     "text": [
      "5\n",
      "    *\n",
      "   **\n",
      "  ***\n",
      " ****\n",
      "*****\n"
     ]
    }
   ],
   "source": [
    "### 2439\n",
    "# 첫째 줄에는 별 1개, 둘째 줄에는 별 2개, N번째 줄에는 별 N개를 찍는 문제\n",
    "\n",
    "# 하지만, 오른쪽을 기준으로 정렬한 별(예제 참고)을 출력하시오.\n",
    "\n",
    "a = int(input())\n",
    "for i in range(1,a+1):\n",
    "    for j in range(a-i,0,-1):\n",
    "        print(' ', end='')\n",
    "    for k in range(i):\n",
    "        print('*', end='')\n",
    "    print()"
   ]
  },
  {
   "cell_type": "code",
   "execution_count": 39,
   "id": "2f8d715d",
   "metadata": {},
   "outputs": [
    {
     "name": "stdout",
     "output_type": "stream",
     "text": [
      "10 5\n",
      "1 10 4 9 2 3 8 5 7 6\n",
      "1 4 2 3 "
     ]
    }
   ],
   "source": [
    "# ### 10871\n",
    "# 정수 N개로 이루어진 수열 A와 정수 X가 주어진다.\n",
    "# 이때, A에서 X보다 작은 수를 모두 출력하는 프로그램을 작성하시오.\n",
    "\n",
    "a, b = map(int, input().split())\n",
    "c = list(map(int, input().split()))\n",
    "for i in range(a):\n",
    "    if c[i] < b:\n",
    "        print(c[i], end=' ')"
   ]
  }
 ],
 "metadata": {
  "kernelspec": {
   "display_name": "Python [conda env:study] *",
   "language": "python",
   "name": "conda-env-study-py"
  },
  "language_info": {
   "codemirror_mode": {
    "name": "ipython",
    "version": 3
   },
   "file_extension": ".py",
   "mimetype": "text/x-python",
   "name": "python",
   "nbconvert_exporter": "python",
   "pygments_lexer": "ipython3",
   "version": "3.8.12"
  }
 },
 "nbformat": 4,
 "nbformat_minor": 5
}
