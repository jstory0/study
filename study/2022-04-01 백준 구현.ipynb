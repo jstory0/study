{
 "cells": [
  {
   "cell_type": "markdown",
   "id": "c0ba862c",
   "metadata": {},
   "source": [
    "# 2941 크로아티아 알파벳\n",
    "|**크로아티아  알파벳**|**변경**|\n",
    "|------|---|\n",
    "|č|c=|\n",
    "|ć|c-|\n",
    "|dž|dz=|\n",
    "|đ|d-|\n",
    "|lj|lj|\n",
    "|nj|nj|\n",
    "|š|s=|\n",
    "|ž|z=|\n",
    "\n",
    "예를 들어, ljes=njak은 크로아티아 알파벳 6개(lj, e, š, nj, a, k)로 이루어져 있다. 단어가 주어졌을 때, 몇 개의 크로아티아 알파벳으로 이루어져 있는지 출력한다.\n",
    "\n",
    "dž는 무조건 하나의 알파벳으로 쓰이고, d와 ž가 분리된 것으로 보지 않는다. lj와 nj도 마찬가지이다. 위 목록에 없는 알파벳은 한 글자씩 센다."
   ]
  },
  {
   "cell_type": "code",
   "execution_count": 8,
   "id": "a45cd751",
   "metadata": {},
   "outputs": [
    {
     "name": "stdout",
     "output_type": "stream",
     "text": [
      "nljj\n",
      "3\n"
     ]
    }
   ],
   "source": [
    "croatia = ['c=', 'c-', 'dz=', 'd-', 'lj', 'nj', 's=', 'z=']\n",
    "word = input()\n",
    "\n",
    "for i in croatia:\n",
    "    word = word.replace(i, '*')   # word에 croatia 문자가 있으면 *로 바꾼다.\n",
    "print(len(word))"
   ]
  }
 ],
 "metadata": {
  "kernelspec": {
   "display_name": "Python [conda env:study] *",
   "language": "python",
   "name": "conda-env-study-py"
  },
  "language_info": {
   "codemirror_mode": {
    "name": "ipython",
    "version": 3
   },
   "file_extension": ".py",
   "mimetype": "text/x-python",
   "name": "python",
   "nbconvert_exporter": "python",
   "pygments_lexer": "ipython3",
   "version": "3.8.12"
  }
 },
 "nbformat": 4,
 "nbformat_minor": 5
}
