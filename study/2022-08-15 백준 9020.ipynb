{
 "cells": [
  {
   "cell_type": "markdown",
   "id": "6bb56bdb",
   "metadata": {},
   "source": [
    "9020\n",
    "# 골드바흐의 추측\n",
    "1보다 큰 자연수 중에서  1과 자기 자신을 제외한 약수가 없는 자연수를 소수라고 한다. 예를 들어, 5는 1과 5를 제외한 약수가 없기 때문에 소수이다. 하지만, 6은 6 = 2 × 3 이기 때문에 소수가 아니다.\n",
    "\n",
    "골드바흐의 추측은 유명한 정수론의 미해결 문제로, 2보다 큰 모든 짝수는 두 소수의 합으로 나타낼 수 있다는 것이다. 이러한 수를 골드바흐 수라고 한다. 또, 짝수를 두 소수의 합으로 나타내는 표현을 그 수의 골드바흐 파티션이라고 한다. 예를 들면, 4 = 2 + 2, 6 = 3 + 3, 8 = 3 + 5, 10 = 5 + 5, 12 = 5 + 7, 14 = 3 + 11, 14 = 7 + 7이다. 10000보다 작거나 같은 모든 짝수 n에 대한 골드바흐 파티션은 존재한다.\n",
    "\n",
    "2보다 큰 짝수 n이 주어졌을 때, n의 골드바흐 파티션을 출력하는 프로그램을 작성하시오. 만약 가능한 n의 골드바흐 파티션이 여러 가지인 경우에는 두 소수의 차이가 가장 작은 것을 출력한다.\n",
    "\n",
    "### 입력\n",
    "첫째 줄에 테스트 케이스의 개수 T가 주어진다. 각 테스트 케이스는 한 줄로 이루어져 있고 짝수 n이 주어진다.\n",
    "\n",
    "### 출력\n",
    "각 테스트 케이스에 대해서 주어진 n의 골드바흐 파티션을 출력한다. 출력하는 소수는 작은 것부터 먼저 출력하며, 공백으로 구분한다."
   ]
  },
  {
   "cell_type": "code",
   "execution_count": 12,
   "id": "fd041684",
   "metadata": {},
   "outputs": [
    {
     "name": "stdout",
     "output_type": "stream",
     "text": [
      "3\n",
      "8\n",
      "3 5\n",
      "10\n",
      "5 5\n",
      "16\n",
      "5 11\n"
     ]
    }
   ],
   "source": [
    "sosu_index = [False, False] + [True] * 10000   # 소수 판별 리스트\n",
    "\n",
    "for i in range(2, 101):   # index 값에 해당하는 값이 소수인지 알려주는 리스트 생성\n",
    "    if sosu_index[i] == True:\n",
    "        for j in range(i+i, 10001, i):\n",
    "            sosu_index[j] = False\n",
    "\n",
    "T = int(input())   # 테스트케이스\n",
    "\n",
    "for i in range(T):\n",
    "    n = int(input())\n",
    "    A = n // 2\n",
    "    gap = A            # 소수 간의 차이\n",
    "    goldbach = []      # 조건을 만족하는 소수\n",
    "    for j in range(2, A+1):\n",
    "        if sosu_index[j] * sosu_index[n-j]:   # 둘 다 소수(True)일 경우\n",
    "            if gap > (n-j)-j:\n",
    "                gap = (n-j)-j\n",
    "                goldbach.append([j,n-j])\n",
    "    print(goldbach[-1][0], goldbach[-1][1])"
   ]
  }
 ],
 "metadata": {
  "kernelspec": {
   "display_name": "Python [conda env:study] *",
   "language": "python",
   "name": "conda-env-study-py"
  },
  "language_info": {
   "codemirror_mode": {
    "name": "ipython",
    "version": 3
   },
   "file_extension": ".py",
   "mimetype": "text/x-python",
   "name": "python",
   "nbconvert_exporter": "python",
   "pygments_lexer": "ipython3",
   "version": "3.8.12"
  }
 },
 "nbformat": 4,
 "nbformat_minor": 5
}
