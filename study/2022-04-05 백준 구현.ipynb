{
 "cells": [
  {
   "cell_type": "markdown",
   "id": "5a6583c5",
   "metadata": {},
   "source": [
    "11718\n",
    "# 그대로 출력하기\n",
    "\n",
    "입력 받은 대로 출력하는 프로그램을 작성하시오.\n",
    "\n",
    "### 입력\n",
    "입력이 주어진다. 입력은 최대 100줄로 이루어져 있고, 알파벳 소문자, 대문자, 공백, 숫자로만 이루어져 있다. 각 줄은 100글자를 넘지 않으며, 빈 줄은 주어지지 않는다. 또, 각 줄은 공백으로 시작하지 않고, 공백으로 끝나지 않는다.\n",
    "\n",
    "### 출력\n",
    "입력받은 그대로 출력한다."
   ]
  },
  {
   "cell_type": "code",
   "execution_count": null,
   "id": "f4364e97",
   "metadata": {},
   "outputs": [],
   "source": [
    "while True:\n",
    "    try:\n",
    "        print(input())\n",
    "    except EOFError:   # 입력값이 들어오지 않으면\n",
    "        break"
   ]
  },
  {
   "cell_type": "markdown",
   "id": "f86c0763",
   "metadata": {},
   "source": [
    "1924\n",
    "# 2007년\n",
    "오늘은 2007년 1월 1일 월요일이다. 그렇다면 2007년 x월 y일은 무슨 요일일까? 이를 알아내는 프로그램을 작성하시오.\n",
    "\n",
    "### 입력\n",
    "첫째 줄에 빈 칸을 사이에 두고 x(1 ≤ x ≤ 12)와 y(1 ≤ y ≤ 31)이 주어진다. 참고로 2007년에는 1, 3, 5, 7, 8, 10, 12월은 31일까지, 4, 6, 9, 11월은 30일까지, 2월은 28일까지 있다.\n",
    "\n",
    "### 출력\n",
    "첫째 줄에 x월 y일이 무슨 요일인지에 따라 SUN, MON, TUE, WED, THU, FRI, SAT중 하나를 출력한다."
   ]
  },
  {
   "cell_type": "code",
   "execution_count": 9,
   "id": "f5bbb02c",
   "metadata": {},
   "outputs": [
    {
     "name": "stdout",
     "output_type": "stream",
     "text": [
      "12 25\n",
      "TUE\n"
     ]
    }
   ],
   "source": [
    "day = ['SUN', 'MON', 'TUE', 'WED', 'THU', 'FRI', 'SAT']\n",
    "\n",
    "x, y = map(int, input().split())\n",
    "if x == 1:\n",
    "    y = y\n",
    "elif x == 2:\n",
    "    y += 31\n",
    "elif x == 3:\n",
    "    y += 59\n",
    "elif x == 4:\n",
    "    y += 90\n",
    "elif x == 5:\n",
    "    y += 120\n",
    "elif x == 6:\n",
    "    y += 151\n",
    "elif x == 7:\n",
    "    y += 181\n",
    "elif x == 8:\n",
    "    y += 212\n",
    "elif x == 9:\n",
    "    y += 243\n",
    "elif x == 10:\n",
    "    y += 273\n",
    "elif x == 11:\n",
    "    y += 304\n",
    "elif x == 12:\n",
    "    y += 334\n",
    "    \n",
    "d = y % 7\n",
    "print(day[d])"
   ]
  },
  {
   "cell_type": "code",
   "execution_count": 12,
   "id": "bdf63f91",
   "metadata": {},
   "outputs": [
    {
     "name": "stdout",
     "output_type": "stream",
     "text": [
      "12 25\n",
      "TUE\n"
     ]
    }
   ],
   "source": [
    "Day = 0\n",
    "arrlist = [31, 28, 31, 30, 31, 30, 31, 31, 30, 31, 30]\n",
    "weeklist = ['SUN', 'MON', 'TUE', 'WED', 'THU', 'FRI', 'SAT']\n",
    "\n",
    "x, y = map(int, input().split())\n",
    "\n",
    "for i in range(x-1):\n",
    "    Day = Day + arrlist[i]\n",
    "Day = (Day + y) % 7\n",
    "\n",
    "print(weeklist[Day])"
   ]
  }
 ],
 "metadata": {
  "kernelspec": {
   "display_name": "Python [conda env:study] *",
   "language": "python",
   "name": "conda-env-study-py"
  },
  "language_info": {
   "codemirror_mode": {
    "name": "ipython",
    "version": 3
   },
   "file_extension": ".py",
   "mimetype": "text/x-python",
   "name": "python",
   "nbconvert_exporter": "python",
   "pygments_lexer": "ipython3",
   "version": "3.8.12"
  }
 },
 "nbformat": 4,
 "nbformat_minor": 5
}
