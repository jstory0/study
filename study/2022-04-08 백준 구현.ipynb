{
 "cells": [
  {
   "cell_type": "markdown",
   "id": "ff6fb173",
   "metadata": {},
   "source": [
    "11719\n",
    "# 그대로 출력하기 2\n",
    "입력 받은 대로 출력하는 프로그램을 작성하시오.\n",
    "\n",
    "### 입력\n",
    "입력이 주어진다. 입력은 최대 100줄로 이루어져 있고, 알파벳 소문자, 대문자, 공백, 숫자로만 이루어져 있다. 각 줄은 100글자를 넘지 않으며, 빈 줄이 주어질 수도 있고, 각 줄의 앞 뒤에 공백이 있을 수도 있다.\n",
    "\n",
    "### 출력\n",
    "입력받은 그대로 출력한다."
   ]
  },
  {
   "cell_type": "code",
   "execution_count": null,
   "id": "c00abe7a",
   "metadata": {},
   "outputs": [],
   "source": [
    "while True:\n",
    "    try:\n",
    "        print(input())\n",
    "    except EOFError:\n",
    "        break"
   ]
  },
  {
   "cell_type": "markdown",
   "id": "0e2d3ed3",
   "metadata": {},
   "source": [
    "10773\n",
    "# 제로\n",
    "나코더 기장 재민이는 동아리 회식을 준비하기 위해서 장부를 관리하는 중이다.\n",
    "\n",
    "재현이는 재민이를 도와서 돈을 관리하는 중인데, 애석하게도 항상 정신없는 재현이는 돈을 실수로 잘못 부르는 사고를 치기 일쑤였다.\n",
    "\n",
    "재현이는 잘못된 수를 부를 때마다 0을 외쳐서, 가장 최근에 재민이가 쓴 수를 지우게 시킨다.\n",
    "\n",
    "재민이는 이렇게 모든 수를 받아 적은 후 그 수의 합을 알고 싶어 한다. 재민이를 도와주자!\n",
    "\n",
    "### 입력\n",
    "첫 번째 줄에 정수 K가 주어진다. (1 ≤ K ≤ 100,000)\n",
    "\n",
    "이후 K개의 줄에 정수가 1개씩 주어진다. 정수는 0에서 1,000,000 사이의 값을 가지며, 정수가 \"0\" 일 경우에는 가장 최근에 쓴 수를 지우고, 아닐 경우 해당 수를 쓴다.\n",
    "\n",
    "정수가 \"0\"일 경우에 지울 수 있는 수가 있음을 보장할 수 있다.\n",
    "\n",
    "### 출력\n",
    "재민이가 최종적으로 적어 낸 수의 합을 출력한다. 최종적으로 적어낸 수의 합은 231-1보다 작거나 같은 정수이다."
   ]
  },
  {
   "cell_type": "code",
   "execution_count": 6,
   "id": "8dd22b5b",
   "metadata": {},
   "outputs": [
    {
     "name": "stdout",
     "output_type": "stream",
     "text": [
      "10\n",
      "1\n",
      "3\n",
      "5\n",
      "4\n",
      "0\n",
      "0\n",
      "7\n",
      "0\n",
      "0\n",
      "6\n",
      "7\n"
     ]
    }
   ],
   "source": [
    "k = int(input())\n",
    "num_list = []\n",
    "\n",
    "for _ in range(k):\n",
    "    i = int(input())\n",
    "    if i == 0:\n",
    "        del num_list[-1]\n",
    "    else:\n",
    "        num_list.append(i)\n",
    "\n",
    "num_sum = 0    \n",
    "    \n",
    "for i in range(len(num_list)):\n",
    "    num_sum += num_list[i]\n",
    "\n",
    "print(num_sum)"
   ]
  }
 ],
 "metadata": {
  "kernelspec": {
   "display_name": "Python [conda env:study] *",
   "language": "python",
   "name": "conda-env-study-py"
  },
  "language_info": {
   "codemirror_mode": {
    "name": "ipython",
    "version": 3
   },
   "file_extension": ".py",
   "mimetype": "text/x-python",
   "name": "python",
   "nbconvert_exporter": "python",
   "pygments_lexer": "ipython3",
   "version": "3.8.12"
  }
 },
 "nbformat": 4,
 "nbformat_minor": 5
}
