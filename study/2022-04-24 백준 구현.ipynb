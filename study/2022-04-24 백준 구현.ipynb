{
 "cells": [
  {
   "cell_type": "markdown",
   "id": "ddfbb51c",
   "metadata": {},
   "source": [
    "11866\n",
    "# 요세푸스 문제 0\n",
    "요세푸스 문제는 다음과 같다.\n",
    "\n",
    "1번부터 N번까지 N명의 사람이 원을 이루면서 앉아있고, 양의 정수 K(≤ N)가 주어진다. 이제 순서대로 K번째 사람을 제거한다. 한 사람이 제거되면 남은 사람들로 이루어진 원을 따라 이 과정을 계속해 나간다. 이 과정은 N명의 사람이 모두 제거될 때까지 계속된다. 원에서 사람들이 제거되는 순서를 (N, K)-요세푸스 순열이라고 한다. 예를 들어 (7, 3)-요세푸스 순열은 <3, 6, 2, 7, 5, 1, 4>이다.\n",
    "\n",
    "N과 K가 주어지면 (N, K)-요세푸스 순열을 구하는 프로그램을 작성하시오.\n",
    "\n",
    "### 입력\n",
    "첫째 줄에 N과 K가 빈 칸을 사이에 두고 순서대로 주어진다. (1 ≤ K ≤ N ≤ 1,000)\n",
    "\n",
    "### 출력\n",
    "예제와 같이 요세푸스 순열을 출력한다."
   ]
  },
  {
   "cell_type": "code",
   "execution_count": 20,
   "id": "b16bcd5b",
   "metadata": {},
   "outputs": [
    {
     "name": "stdout",
     "output_type": "stream",
     "text": [
      "7 3\n",
      "<3, 6, 2, 7, 5, 1, 4>\n"
     ]
    }
   ],
   "source": [
    "n, k = map(int, input().split())\n",
    "n_list = []   # 맨처음 리스트\n",
    "yo_list = []  # 요네푸스 순열\n",
    "num = 1       # k값과 비교할 변수\n",
    "\n",
    "for i in range(1,n+1):   # 처음 리스트 채우기\n",
    "    n_list.append(i)\n",
    "\n",
    "while len(yo_list) < n:\n",
    "    n_list.append(n_list.pop(0))     # 맨 앞의 값을 맨 뒤로 보내기\n",
    "    if num % k == 0:                # 입력받은 k값과 비교\n",
    "        yo_list.append(n_list.pop(-1))   # n_list 맨 뒤의 값을 yo_list에 담기\n",
    "    num += 1\n",
    "\n",
    "num = 0\n",
    "print('<',end='')\n",
    "for i in yo_list:\n",
    "    print(i,end='')\n",
    "    num += 1\n",
    "    if num >= n:\n",
    "        break\n",
    "    print(', ',end='')\n",
    "print('>')"
   ]
  }
 ],
 "metadata": {
  "kernelspec": {
   "display_name": "Python [conda env:study] *",
   "language": "python",
   "name": "conda-env-study-py"
  },
  "language_info": {
   "codemirror_mode": {
    "name": "ipython",
    "version": 3
   },
   "file_extension": ".py",
   "mimetype": "text/x-python",
   "name": "python",
   "nbconvert_exporter": "python",
   "pygments_lexer": "ipython3",
   "version": "3.8.12"
  }
 },
 "nbformat": 4,
 "nbformat_minor": 5
}
