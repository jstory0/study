{
 "cells": [
  {
   "cell_type": "markdown",
   "id": "5b345ed8",
   "metadata": {},
   "source": [
    "2869\n",
    "# 달팽이는 올라가고 싶다\n",
    "땅 위에 달팽이가 있다. 이 달팽이는 높이가 V미터인 나무 막대를 올라갈 것이다.\n",
    "\n",
    "달팽이는 낮에 A미터 올라갈 수 있다. 하지만, 밤에 잠을 자는 동안 B미터 미끄러진다. 또, 정상에 올라간 후에는 미끄러지지 않는다.\n",
    "\n",
    "달팽이가 나무 막대를 모두 올라가려면, 며칠이 걸리는지 구하는 프로그램을 작성하시오.\n",
    "\n",
    "### 입력\n",
    "첫째 줄에 세 정수 A, B, V가 공백으로 구분되어서 주어진다. (1 ≤ B < A ≤ V ≤ 1,000,000,000)\n",
    "\n",
    "### 출력\n",
    "첫째 줄에 달팽이가 나무 막대를 모두 올라가는데 며칠이 걸리는지 출력한다."
   ]
  },
  {
   "cell_type": "code",
   "execution_count": 42,
   "id": "e7251390",
   "metadata": {},
   "outputs": [
    {
     "name": "stdout",
     "output_type": "stream",
     "text": [
      "100 99 1000000000\n",
      "999999901\n"
     ]
    }
   ],
   "source": [
    "a, b, v = map(int, input().split())\n",
    "\n",
    "if a == v:\n",
    "    print(1)\n",
    "else:\n",
    "    if v-a < a-b or (v-a)%(a-b) != 0:\n",
    "        print((v-a)//(a-b)+2)\n",
    "    else:\n",
    "        print((v-a)//(a-b)+1)"
   ]
  },
  {
   "cell_type": "markdown",
   "id": "853d7f30",
   "metadata": {},
   "source": [
    "## 2869 해석\n",
    "처음에 문제를 되게 쉽게 생각했는데  \n",
    "이 문제는 시간 제한이 있어서 반복문을 사용하면 시간 제한에 걸리게 된다.  \n",
    "그래서 반복문을 사용하지 않는 방법을 찾아 해결해야 했다.  \n",
    "그리고 예제 입출력이 맞아도 다른 반례가 있어 쉽게 풀리지 않았다.  \n",
    "\n",
    "- 낮에 올라가는 높이 = a  \n",
    "- 밤에 내려오는 높이 = b\n",
    "- 나무 막대의 높이 = v\n",
    "\n",
    "1. a와 v가 같으면 달팽이는 하루만에 올라간다.  \n",
    "2. 하루에 올라가는 높이 = a-b\n",
    "\n",
    "결국 (v-a)의 길이를 (a-b)로 며칠이 걸려야 도달하는가이다.  \n",
    "근데 단순히 몫을 구하면 안되는 게 나머지가 나오는 경우 하루가 더 소요된다.  \n",
    "그리고 한번에 오를 수 있는 길이인 a를 처음에 빼고 시작했기 때문에 +1을 해준다."
   ]
  }
 ],
 "metadata": {
  "kernelspec": {
   "display_name": "Python [conda env:study] *",
   "language": "python",
   "name": "conda-env-study-py"
  },
  "language_info": {
   "codemirror_mode": {
    "name": "ipython",
    "version": 3
   },
   "file_extension": ".py",
   "mimetype": "text/x-python",
   "name": "python",
   "nbconvert_exporter": "python",
   "pygments_lexer": "ipython3",
   "version": "3.8.12"
  }
 },
 "nbformat": 4,
 "nbformat_minor": 5
}
