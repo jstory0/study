{
 "cells": [
  {
   "cell_type": "markdown",
   "id": "4b7d509e",
   "metadata": {},
   "source": [
    "2839\n",
    "# 설탕 배달\n",
    "상근이는 요즘 설탕공장에서 설탕을 배달하고 있다. 상근이는 지금 사탕가게에 설탕을 정확하게 N킬로그램을 배달해야 한다. 설탕공장에서 만드는 설탕은 봉지에 담겨있다. 봉지는 3킬로그램 봉지와 5킬로그램 봉지가 있다.\n",
    "\n",
    "상근이는 귀찮기 때문에, 최대한 적은 봉지를 들고 가려고 한다. 예를 들어, 18킬로그램 설탕을 배달해야 할 때, 3킬로그램 봉지 6개를 가져가도 되지만, 5킬로그램 3개와 3킬로그램 1개를 배달하면, 더 적은 개수의 봉지를 배달할 수 있다.\n",
    "\n",
    "상근이가 설탕을 정확하게 N킬로그램 배달해야 할 때, 봉지 몇 개를 가져가면 되는지 그 수를 구하는 프로그램을 작성하시오.\n",
    "\n",
    "### 입력\n",
    "첫째 줄에 N이 주어진다. (3 ≤ N ≤ 5000)\n",
    "\n",
    "### 출력\n",
    "상근이가 배달하는 봉지의 최소 개수를 출력한다. 만약, 정확하게 N킬로그램을 만들 수 없다면 -1을 출력한다."
   ]
  },
  {
   "cell_type": "code",
   "execution_count": 14,
   "id": "65657e29",
   "metadata": {},
   "outputs": [
    {
     "name": "stdout",
     "output_type": "stream",
     "text": [
      "11\n",
      "3\n"
     ]
    }
   ],
   "source": [
    "weight = int(input())\n",
    "cnt = 0\n",
    "\n",
    "while 1:\n",
    "    if weight%5 == 0:\n",
    "        cnt += weight//5\n",
    "        break\n",
    "    elif weight < 3:\n",
    "        cnt = -1\n",
    "        break\n",
    "    else:\n",
    "        weight -= 3\n",
    "        cnt += 1\n",
    "print(cnt)"
   ]
  },
  {
   "cell_type": "markdown",
   "id": "492bada2",
   "metadata": {},
   "source": [
    "## 2839 해석\n",
    "처음 풀이는 총 무게를 5로 나누어 나오는 몫  \n",
    "　　　　　　　　　　+  \n",
    "총 무게를 5로 나눈 나머지를 3으로 나누어 나오는 몫  \n",
    "무게가 딱 떨어지지 않으면 -1 출력  \n",
    "\n",
    "이렇게 풀었는데 이러면 입력으로 6을 집어넣었을 때 오류가 발생한다.\n",
    "먼저 총 무게를 5로 나누기 때문에 나머지로 1이 나오고 이를 3으로 나누면 딱 떨어지지 않아서 -1을 출력하게 된다.  \n",
    "실제 정답은 6 = 3킬로그램 2봉지로 2가 나와야 한다.  \n",
    "\n",
    "그래서 먼저 총 무게를 5로 나누었을 때 딱 떨어지는지 확인하고 그렇지 않으면 총 무게에서 3씩 빼는 방식을 사용했다.  \n",
    "그리고 무게가 점점 줄어들어 3보다 작은 수(1,2)가 나오면 -1을 출력하는 방식으로 구현"
   ]
  }
 ],
 "metadata": {
  "kernelspec": {
   "display_name": "Python [conda env:study] *",
   "language": "python",
   "name": "conda-env-study-py"
  },
  "language_info": {
   "codemirror_mode": {
    "name": "ipython",
    "version": 3
   },
   "file_extension": ".py",
   "mimetype": "text/x-python",
   "name": "python",
   "nbconvert_exporter": "python",
   "pygments_lexer": "ipython3",
   "version": "3.8.12"
  }
 },
 "nbformat": 4,
 "nbformat_minor": 5
}
