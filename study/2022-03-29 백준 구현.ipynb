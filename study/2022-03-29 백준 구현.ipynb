{
 "cells": [
  {
   "cell_type": "code",
   "execution_count": 1,
   "id": "041c39fd",
   "metadata": {},
   "outputs": [
    {
     "name": "stdout",
     "output_type": "stream",
     "text": [
      "1\n",
      "2\n",
      "3\n"
     ]
    }
   ],
   "source": [
    "# ### 2558\n",
    "# 두 정수 A와 B를 입력받은 다음, A+B를 출력하는 프로그램을 작성하시오.\n",
    "\n",
    "a = int(input())\n",
    "b = int(input())\n",
    "print(a+b)"
   ]
  },
  {
   "cell_type": "code",
   "execution_count": 3,
   "id": "394a403a",
   "metadata": {},
   "outputs": [
    {
     "name": "stdout",
     "output_type": "stream",
     "text": [
      "10\n",
      "3628800\n"
     ]
    }
   ],
   "source": [
    "### 10872\n",
    "# 0보다 크거나 같은 정수 N이 주어진다. 이때, N!을 출력하는 프로그램을 작성하시오.\n",
    "\n",
    "n = int(input())\n",
    "s = 1\n",
    "\n",
    "for i in range(1, n+1):\n",
    "    s *= i\n",
    "\n",
    "print(s)"
   ]
  },
  {
   "cell_type": "code",
   "execution_count": 12,
   "id": "13f1bd3d",
   "metadata": {},
   "outputs": [
    {
     "name": "stdout",
     "output_type": "stream",
     "text": [
      "5\n",
      "*****\n",
      "****\n",
      "***\n",
      "**\n",
      "*\n"
     ]
    }
   ],
   "source": [
    "### 2440\n",
    "# 첫째 줄에는 별 N개, 둘째 줄에는 별 N-1개, ..., N번째 줄에는 별 1개를 찍는 문제\n",
    "\n",
    "n = int(input())\n",
    "\n",
    "for i in range(n,0,-1):\n",
    "    for j in range(i):\n",
    "        print('*', end='')\n",
    "    print()"
   ]
  },
  {
   "cell_type": "code",
   "execution_count": 25,
   "id": "0b6858d3",
   "metadata": {},
   "outputs": [
    {
     "data": {
      "text/plain": [
       "7"
      ]
     },
     "execution_count": 25,
     "metadata": {},
     "output_type": "execute_result"
    }
   ],
   "source": [
    "# ### 15596\n",
    "# 정수 n개가 주어졌을 때, n개의 합을 구하는 함수를 작성하시오.\n",
    "\n",
    "# 작성해야 하는 함수는 다음과 같다.\n",
    "\n",
    "# Python 2, Python 3, PyPy, PyPy3: def solve(a: list) -> int\n",
    "# a: 합을 구해야 하는 정수 n개가 저장되어 있는 리스트\n",
    "# (0 ≤ a[i] ≤ 1,000,000, 1 ≤ n ≤ 3,000,000)\n",
    "# 리턴값: a에 포함되어 있는 정수 n개의 합 (정수)\n",
    "\n",
    "def solve(a):\n",
    "    return sum(a)\n"
   ]
  },
  {
   "cell_type": "code",
   "execution_count": null,
   "id": "03fc5cad",
   "metadata": {},
   "outputs": [],
   "source": [
    "# ### 7287\n",
    "# 자신이 백준 온라인 저지(BOJ)에서 맞은 문제의 수와\n",
    "# 아이디를 그대로 출력하는 프로그램을 작성하시오.\n",
    "\n",
    "print('54')\n",
    "print('niceplayer')"
   ]
  },
  {
   "cell_type": "code",
   "execution_count": null,
   "id": "14506c13",
   "metadata": {},
   "outputs": [],
   "source": [
    "# ### 2441\n",
    "# 첫째 줄에는 별 N개, 둘째 줄에는 별 N-1개, ..., N번째 줄에는 별 1개를 찍는 문제\n",
    "# 하지만, 오른쪽을 기준으로 정렬한 별(예제 참고)을 출력하시오.\n",
    "\n",
    "n = int(input())\n",
    "for i in range(n,0,-1):\n",
    "    for j in range(n-i):\n",
    "        print(' ', end='')\n",
    "    for k in range(i)"
   ]
  }
 ],
 "metadata": {
  "kernelspec": {
   "display_name": "Python [conda env:study] *",
   "language": "python",
   "name": "conda-env-study-py"
  },
  "language_info": {
   "codemirror_mode": {
    "name": "ipython",
    "version": 3
   },
   "file_extension": ".py",
   "mimetype": "text/x-python",
   "name": "python",
   "nbconvert_exporter": "python",
   "pygments_lexer": "ipython3",
   "version": "3.8.12"
  }
 },
 "nbformat": 4,
 "nbformat_minor": 5
}
