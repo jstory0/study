{
 "cells": [
  {
   "cell_type": "markdown",
   "id": "8785e625",
   "metadata": {},
   "source": [
    "1193번\n",
    "무한히 큰 배열에 다음과 같이 분수들이 적혀있다.  \n",
    "\n",
    "|-|-|-|-|-|-|\n",
    "|---|---|---|---|---|---|\n",
    "|1/1|1/2|1/3|1/4|1/5|…|\n",
    "|2/1|2/2|2/3|2/4|…|…|\n",
    "|3/1|3/2|3/3|…|…|…|\n",
    "|4/1|4/2|…|…|…|…|\n",
    "|5/1|…|…|…|…|…|\n",
    "|…|…|…|…|…|…|\n",
    "\n",
    "이와 같이 나열된 분수들을 1/1 → 1/2 → 2/1 → 3/1 → 2/2 → … 과 같은 지그재그 순서로 차례대로 1번, 2번, 3번, 4번, 5번, … 분수라고 하자.\n",
    "\n",
    "X가 주어졌을 때, X번째 분수를 구하는 프로그램을 작성하시오."
   ]
  },
  {
   "cell_type": "code",
   "execution_count": 2,
   "id": "e212f150",
   "metadata": {},
   "outputs": [
    {
     "name": "stdout",
     "output_type": "stream",
     "text": [
      "8\n",
      "2/3\n"
     ]
    }
   ],
   "source": [
    "x = int(input())\n",
    "line = 1\n",
    "\n",
    "while x > line:\n",
    "    x -= line\n",
    "    line += 1\n",
    "\n",
    "if line % 2 == 0:\n",
    "    a = x\n",
    "    b = line - x + 1\n",
    "else:\n",
    "    a = line - x + 1\n",
    "    b = x\n",
    "\n",
    "print(a, '/', b, sep='')"
   ]
  }
 ],
 "metadata": {
  "kernelspec": {
   "display_name": "Python [conda env:study] *",
   "language": "python",
   "name": "conda-env-study-py"
  },
  "language_info": {
   "codemirror_mode": {
    "name": "ipython",
    "version": 3
   },
   "file_extension": ".py",
   "mimetype": "text/x-python",
   "name": "python",
   "nbconvert_exporter": "python",
   "pygments_lexer": "ipython3",
   "version": "3.8.12"
  }
 },
 "nbformat": 4,
 "nbformat_minor": 5
}
