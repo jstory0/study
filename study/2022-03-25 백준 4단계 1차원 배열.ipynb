{
 "cells": [
  {
   "cell_type": "code",
   "execution_count": 5,
   "id": "6496ae31",
   "metadata": {},
   "outputs": [
    {
     "name": "stdout",
     "output_type": "stream",
     "text": [
      "5\n",
      "20 10 35 30 7\n",
      "7 35\n"
     ]
    }
   ],
   "source": [
    "# ### 10818\n",
    "# N개의 정수가 주어진다. 이때, 최솟값과 최댓값을 구하는 프로그램을 작성하시오.\n",
    "\n",
    "a = int(input())\n",
    "b = list(map(int, input().split()))\n",
    "print(min(b), max(b))"
   ]
  },
  {
   "cell_type": "code",
   "execution_count": 7,
   "id": "2aaeac8e",
   "metadata": {},
   "outputs": [
    {
     "name": "stdout",
     "output_type": "stream",
     "text": [
      "3\n",
      "29\n",
      "38\n",
      "12\n",
      "57\n",
      "74\n",
      "40\n",
      "85\n",
      "61\n",
      "85\n",
      "8\n"
     ]
    }
   ],
   "source": [
    "# ### 2562\n",
    "# 9개의 서로 다른 자연수가 주어질 때, 이들 중 최댓값을 찾고\n",
    "# 그 최댓값이 몇 번째 수인지를 구하는 프로그램을 작성하시오.\n",
    "\n",
    "# 예를 들어, 서로 다른 9개의 자연수\n",
    "\n",
    "# 3, 29, 38, 12, 57, 74, 40, 85, 61\n",
    "\n",
    "# 이 주어지면, 이들 중 최댓값은 85이고, 이 값은 8번째 수이다.\n",
    "\n",
    "a = []\n",
    "for i in range(9):\n",
    "    a.append(int(input()))\n",
    "    \n",
    "print(max(a))\n",
    "print(a.index(max(a))+1)"
   ]
  },
  {
   "cell_type": "code",
   "execution_count": 10,
   "id": "eded2887",
   "metadata": {},
   "outputs": [
    {
     "name": "stdout",
     "output_type": "stream",
     "text": [
      "150\n",
      "266\n",
      "427\n",
      "3\n",
      "1\n",
      "0\n",
      "2\n",
      "0\n",
      "0\n",
      "0\n",
      "2\n",
      "0\n",
      "0\n"
     ]
    }
   ],
   "source": [
    "# ### 2577\n",
    "# 세 개의 자연수 A, B, C가 주어질 때 A × B × C를 계산한 결과에\n",
    "# 0부터 9까지 각각의 숫자가 몇 번씩 쓰였는지를 구하는 프로그램을 작성하시오.\n",
    "\n",
    "# 예를 들어 A = 150, B = 266, C = 427 이라면\n",
    "# A × B × C = 150 × 266 × 427 = 17037300 이 되고,\n",
    "# 계산한 결과 17037300 에는 0이 3번, 1이 1번, 3이 2번, 7이 2번 쓰였다.\n",
    "\n",
    "a = int(input())\n",
    "b = int(input())\n",
    "c = int(input())\n",
    "result = list(str(a * b * c))\n",
    "\n",
    "for i in range(10):\n",
    "    print(result.count(str(i)))"
   ]
  },
  {
   "cell_type": "code",
   "execution_count": 22,
   "id": "3a77b5f1",
   "metadata": {},
   "outputs": [
    {
     "name": "stdout",
     "output_type": "stream",
     "text": [
      "1\n",
      "2\n",
      "3\n",
      "4\n",
      "5\n",
      "6\n",
      "7\n",
      "8\n",
      "9\n",
      "10\n",
      "10\n"
     ]
    }
   ],
   "source": [
    "# ### 3052\n",
    "# 두 자연수 A와 B가 있을 때, A%B는 A를 B로 나눈 나머지 이다.\n",
    "# 예를 들어, 7, 14, 27, 38을 3으로 나눈 나머지는 1, 2, 0, 2이다. \n",
    "\n",
    "# 수 10개를 입력받은 뒤, 이를 42로 나눈 나머지를 구한다.\n",
    "# 그 다음 서로 다른 값이 몇 개 있는지 출력하는 프로그램을 작성하시오.\n",
    "\n",
    "a = []\n",
    "for i in range(10):\n",
    "    a.append(str(int(input())%42))\n",
    "\n",
    "print(len(set(a)))"
   ]
  },
  {
   "cell_type": "code",
   "execution_count": 29,
   "id": "f096a039",
   "metadata": {},
   "outputs": [
    {
     "name": "stdout",
     "output_type": "stream",
     "text": [
      "4\n",
      "1 100 100 100\n",
      "75.25\n"
     ]
    }
   ],
   "source": [
    "# ### 1546\n",
    "# 세준이는 기말고사를 망쳤다. 세준이는 점수를 조작해서 집에 가져가기로 했다.\n",
    "# 일단 세준이는 자기 점수 중에 최댓값을 골랐다. 이 값을 M이라고 한다.\n",
    "# 그리고 나서 모든 점수를 점수/M*100으로 고쳤다.\n",
    "\n",
    "# 예를 들어, 세준이의 최고점이 70이고,\n",
    "# 수학점수가 50이었으면 수학점수는 50/70*100이 되어 71.43점이 된다.\n",
    "\n",
    "# 세준이의 성적을 위의 방법대로 새로 계산했을 때,\n",
    "# 새로운 평균을 구하는 프로그램을 작성하시오.\n",
    "\n",
    "a = int(input())\n",
    "b = list(map(int, (input().split())))\n",
    "c = max(b)\n",
    "for i in range(len(b)):\n",
    "    b[i] = b[i]/c*100\n",
    "    \n",
    "print(sum(b)/len(b))"
   ]
  },
  {
   "cell_type": "code",
   "execution_count": 30,
   "id": "58bd2298",
   "metadata": {},
   "outputs": [
    {
     "name": "stdout",
     "output_type": "stream",
     "text": [
      "5\n",
      "OOXXOXXOOO\n",
      "10\n",
      "OOXXOOXXOO\n",
      "9\n",
      "OXOXOXOXOXOXOX\n",
      "7\n",
      "OOOOOOOOOO\n",
      "55\n",
      "OOOOXOOOOXOOOOX\n",
      "30\n"
     ]
    }
   ],
   "source": [
    "# ### 8958\n",
    "# \"OOXXOXXOOO\"와 같은 OX퀴즈의 결과가 있다.\n",
    "# O는 문제를 맞은 것이고, X는 문제를 틀린 것이다.\n",
    "# 문제를 맞은 경우 그 문제의 점수는 그 문제까지 연속된 O의 개수가 된다.\n",
    "# 예를 들어, 10번 문제의 점수는 3이 된다.\n",
    "\n",
    "# \"OOXXOXXOOO\"의 점수는 1+2+0+0+1+0+0+1+2+3 = 10점이다.\n",
    "\n",
    "# OX퀴즈의 결과가 주어졌을 때, 점수를 구하는 프로그램을 작성하시오.\n",
    "\n",
    "a = int(input())\n",
    "\n",
    "for i in range(a):\n",
    "    ox_list = list(input())\n",
    "    score = 0\n",
    "    sum_score = 0\n",
    "    for ox in ox_list:\n",
    "        if ox == 'O':\n",
    "            score += 1\n",
    "            sum_score += score\n",
    "        else:\n",
    "            score = 0\n",
    "    print(sum_score)"
   ]
  },
  {
   "cell_type": "code",
   "execution_count": 34,
   "id": "7f45c60b",
   "metadata": {},
   "outputs": [
    {
     "name": "stdout",
     "output_type": "stream",
     "text": [
      "5\n",
      "5 50 50 70 80 100\n",
      "40.000%\n",
      "7 100 95 90 80 70 60 50\n",
      "57.143%\n",
      "3 70 90 80\n",
      "33.333%\n",
      "3 70 90 81\n",
      "66.667%\n",
      "9 100 99 98 97 96 95 94 93 91\n",
      "55.556%\n"
     ]
    }
   ],
   "source": [
    "# ### 4344\n",
    "# 대학생 새내기들의 90%는 자신이 반에서 평균은 넘는다고 생각한다.\n",
    "# 당신은 그들에게 슬픈 진실을 알려줘야 한다.\n",
    "\n",
    "# 첫째 줄에는 테스트 케이스의 개수 C가 주어진다.\n",
    "# 둘째 줄부터 각 테스트 케이스마다 학생의 수 N(1 ≤ N ≤ 1000, N은 정수)이\n",
    "# 첫 수로 주어지고, 이어서 N명의 점수가 주어진다. 점수는 0보다 크거나 같고,\n",
    "# 100보다 작거나 같은 정수이다.\n",
    "\n",
    "# 각 케이스마다 한 줄씩 평균을 넘는 학생들의 비율을 반올림하여\n",
    "# 소수점 셋째 자리까지 출력한다.\n",
    "\n",
    "c = int(input())\n",
    "\n",
    "for i in range(c):\n",
    "    n = list(map(int, input().split()))\n",
    "    avg = sum(n[1:])/n[0]\n",
    "    cnt = 0\n",
    "    for score in n[1:]:\n",
    "        if score > avg:\n",
    "            cnt += 1\n",
    "    rate = cnt / n[0] * 100\n",
    "    print(f'{rate:.3f}%')"
   ]
  }
 ],
 "metadata": {
  "kernelspec": {
   "display_name": "Python [conda env:study] *",
   "language": "python",
   "name": "conda-env-study-py"
  },
  "language_info": {
   "codemirror_mode": {
    "name": "ipython",
    "version": 3
   },
   "file_extension": ".py",
   "mimetype": "text/x-python",
   "name": "python",
   "nbconvert_exporter": "python",
   "pygments_lexer": "ipython3",
   "version": "3.8.12"
  }
 },
 "nbformat": 4,
 "nbformat_minor": 5
}
