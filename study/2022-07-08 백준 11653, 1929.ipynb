{
 "cells": [
  {
   "cell_type": "markdown",
   "id": "134bab72",
   "metadata": {},
   "source": [
    "11653\n",
    "# 소인수분해\n",
    "정수 N이 주어졌을 때, 소인수분해하는 프로그램을 작성하시오.\n",
    "\n",
    "### 입력\n",
    "첫째 줄에 정수 N (1 ≤ N ≤ 10,000,000)이 주어진다.\n",
    "\n",
    "### 출력\n",
    "N의 소인수분해 결과를 한 줄에 하나씩 오름차순으로 출력한다. N이 1인 경우 아무것도 출력하지 않는다."
   ]
  },
  {
   "cell_type": "code",
   "execution_count": 3,
   "id": "ee0767d2",
   "metadata": {},
   "outputs": [
    {
     "name": "stdout",
     "output_type": "stream",
     "text": [
      "1\n"
     ]
    }
   ],
   "source": [
    "n = int(input())\n",
    "n_list = []\n",
    "\n",
    "while n > 1:\n",
    "    for i in range(2, n+1):\n",
    "        if n % i == 0:\n",
    "            n_list.append(i)\n",
    "            n = n//i\n",
    "            break\n",
    "\n",
    "for i in n_list:\n",
    "    print(i)"
   ]
  },
  {
   "cell_type": "markdown",
   "id": "b5403898",
   "metadata": {},
   "source": [
    "## 11653 풀이\n",
    "정수 n을 입력 받고 n을 2부터 n까지 나누어본다.  \n",
    "나머지가 0으로 떨어지면 n_list에 나눈 수를 저장하고 n을 i로 나눈 몫을 다시 n에 저장한다.  \n",
    "마지막에는 n_list를 출력"
   ]
  },
  {
   "cell_type": "markdown",
   "id": "6ee42984",
   "metadata": {},
   "source": [
    "# ㅡㅡㅡㅡㅡㅡㅡㅡㅡㅡㅡㅡㅡㅡㅡㅡㅡㅡㅡㅡㅡ"
   ]
  },
  {
   "cell_type": "markdown",
   "id": "b3733e57",
   "metadata": {},
   "source": [
    "1929\n",
    "# 소수 구하기\n",
    "M이상 N이하의 소수를 모두 출력하는 프로그램을 작성하시오.\n",
    "\n",
    "### 입력\n",
    "첫째 줄에 자연수 M과 N이 빈 칸을 사이에 두고 주어진다. (1 ≤ M ≤ N ≤ 1,000,000) M이상 N이하의 소수가 하나 이상 있는 입력만 주어진다.\n",
    "\n",
    "### 출력\n",
    "한 줄에 하나씩, 증가하는 순서대로 소수를 출력한다."
   ]
  },
  {
   "cell_type": "code",
   "execution_count": 1,
   "id": "fc941c7f",
   "metadata": {},
   "outputs": [
    {
     "name": "stdout",
     "output_type": "stream",
     "text": [
      "1 16\n",
      "2\n",
      "3\n",
      "5\n",
      "7\n",
      "11\n",
      "13\n"
     ]
    }
   ],
   "source": [
    "def isPrime(num):\n",
    "    if num == 1:\n",
    "        return False\n",
    "    else:\n",
    "        for i in range(2, int(num**0.5)+1):\n",
    "            if num%i == 0:\n",
    "                return False\n",
    "        return True\n",
    "\n",
    "m, n = map(int, input().split())\n",
    "\n",
    "for i in range(m, n+1):\n",
    "    if isPrime(i):\n",
    "        print(i)"
   ]
  },
  {
   "cell_type": "markdown",
   "id": "6fdb5ddd",
   "metadata": {},
   "source": [
    "## 1929 풀이\n",
    "이번건 좀 어려웠는데 전에 소수를 구하던 문제처럼 풀면 시간초과가 되어서 제출했을 때 실패가 떴다.  \n",
    "다른 사람들이 포스팅한 글들을 좀 찾아봤는데 소수를 구하는 함수를 선언하고 그 함수를 이용해서 소수를 출력하는 방식으로 푸는 것을 확인하였다.  \n",
    "\n",
    "먼저 함수를 선언한다.  \n",
    "- 인자로 들어온 숫자(num)를 소수인지 판단하는 함수인데 num이 1이라면 False를 반환한다.  \n",
    "- 1이 아닌 다른 숫자라면 2부터 num의 제곱근까지 나누어서 소수인지 판단한다.  \n",
    "(코드상에는 제곱근을 정수형으로 반환 후 1을 더해 반복문을 돌렸다.)  \n",
    "- 만약 나눠지는 수가 있으면 소수가 아니므로 False를 반환하고,  \n",
    "나눠지지 않는다면 True를 반환하여 인자로 들어온 i의 값을 바로 출력하는 방식이다.  "
   ]
  }
 ],
 "metadata": {
  "kernelspec": {
   "display_name": "Python [conda env:study] *",
   "language": "python",
   "name": "conda-env-study-py"
  },
  "language_info": {
   "codemirror_mode": {
    "name": "ipython",
    "version": 3
   },
   "file_extension": ".py",
   "mimetype": "text/x-python",
   "name": "python",
   "nbconvert_exporter": "python",
   "pygments_lexer": "ipython3",
   "version": "3.8.12"
  }
 },
 "nbformat": 4,
 "nbformat_minor": 5
}
